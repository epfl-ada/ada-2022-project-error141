{
 "cells": [
  {
   "cell_type": "code",
   "execution_count": 1,
   "id": "51c0696b",
   "metadata": {},
   "outputs": [],
   "source": [
    "from wordcloud import WordCloud, STOPWORDS\n",
    "import matplotlib.pyplot as plt\n",
    "import pandas as pd\n",
    "\n",
    "import numpy as np\n",
    "import itertools \n",
    "from PIL import Image"
   ]
  },
  {
   "cell_type": "code",
   "execution_count": 2,
   "id": "ebd3cc96",
   "metadata": {},
   "outputs": [],
   "source": [
    "df_ = pd.read_pickle('/Users/maffeitheo/Documents/GitHub/ada-2022-project-error141/data/3601_3680_.pkl')"
   ]
  },
  {
   "cell_type": "code",
   "execution_count": 25,
   "id": "386530ad",
   "metadata": {},
   "outputs": [],
   "source": [
    "df_all = pd.read_pickle('/Users/maffeitheo/Documents/process.pkl')"
   ]
  },
  {
   "cell_type": "code",
   "execution_count": 26,
   "id": "9acbd6a4",
   "metadata": {},
   "outputs": [
    {
     "data": {
      "text/html": [
       "<div>\n",
       "<style scoped>\n",
       "    .dataframe tbody tr th:only-of-type {\n",
       "        vertical-align: middle;\n",
       "    }\n",
       "\n",
       "    .dataframe tbody tr th {\n",
       "        vertical-align: top;\n",
       "    }\n",
       "\n",
       "    .dataframe thead th {\n",
       "        text-align: right;\n",
       "    }\n",
       "</style>\n",
       "<table border=\"1\" class=\"dataframe\">\n",
       "  <thead>\n",
       "    <tr style=\"text-align: right;\">\n",
       "      <th></th>\n",
       "      <th>name</th>\n",
       "      <th>mention</th>\n",
       "      <th>release_date</th>\n",
       "      <th>gender</th>\n",
       "      <th>age</th>\n",
       "      <th>active</th>\n",
       "      <th>passive</th>\n",
       "      <th>activeness_score</th>\n",
       "    </tr>\n",
       "  </thead>\n",
       "  <tbody>\n",
       "    <tr>\n",
       "      <th>4572965</th>\n",
       "      <td>beth</td>\n",
       "      <td>36</td>\n",
       "      <td>2007.0</td>\n",
       "      <td>F</td>\n",
       "      <td>28.0</td>\n",
       "      <td>[sketch, join, travel+prep, check, inherit, le...</td>\n",
       "      <td>[convince, approach, share, surround, take+pre...</td>\n",
       "      <td>0.571429</td>\n",
       "    </tr>\n",
       "    <tr>\n",
       "      <th>4572965</th>\n",
       "      <td>whitney</td>\n",
       "      <td>18</td>\n",
       "      <td>2007.0</td>\n",
       "      <td>F</td>\n",
       "      <td>27.0</td>\n",
       "      <td>[sketch, join, sketch, join, travel+prep, chec...</td>\n",
       "      <td>[convince, convince, talk, strap+prep, take+pr...</td>\n",
       "      <td>0.500000</td>\n",
       "    </tr>\n",
       "    <tr>\n",
       "      <th>4572965</th>\n",
       "      <td>stuart</td>\n",
       "      <td>13</td>\n",
       "      <td>2007.0</td>\n",
       "      <td>M</td>\n",
       "      <td>44.0</td>\n",
       "      <td>[approach, share, enter, explain, untie, decid...</td>\n",
       "      <td>[seduce, fight, chain, chain, drive, leave]</td>\n",
       "      <td>0.647059</td>\n",
       "    </tr>\n",
       "    <tr>\n",
       "      <th>4572965</th>\n",
       "      <td>man who has victim chained electrified metal bed</td>\n",
       "      <td>12</td>\n",
       "      <td>NaN</td>\n",
       "      <td>M</td>\n",
       "      <td>NaN</td>\n",
       "      <td>[chain+prep,eat]</td>\n",
       "      <td>[chain+prep]</td>\n",
       "      <td>0.500000</td>\n",
       "    </tr>\n",
       "    <tr>\n",
       "      <th>4572965</th>\n",
       "      <td>todd</td>\n",
       "      <td>10</td>\n",
       "      <td>2007.0</td>\n",
       "      <td>M</td>\n",
       "      <td>48.0</td>\n",
       "      <td>[terrorize, lose, do, try, remind, leave, do, ...</td>\n",
       "      <td>[submit, remind, obligate, leave, kill, maul]</td>\n",
       "      <td>0.571429</td>\n",
       "    </tr>\n",
       "  </tbody>\n",
       "</table>\n",
       "</div>"
      ],
      "text/plain": [
       "                                                     name  mention  \\\n",
       "4572965                                              beth       36   \n",
       "4572965                                           whitney       18   \n",
       "4572965                                            stuart       13   \n",
       "4572965  man who has victim chained electrified metal bed       12   \n",
       "4572965                                              todd       10   \n",
       "\n",
       "         release_date gender   age  \\\n",
       "4572965        2007.0      F  28.0   \n",
       "4572965        2007.0      F  27.0   \n",
       "4572965        2007.0      M  44.0   \n",
       "4572965           NaN      M   NaN   \n",
       "4572965        2007.0      M  48.0   \n",
       "\n",
       "                                                    active  \\\n",
       "4572965  [sketch, join, travel+prep, check, inherit, le...   \n",
       "4572965  [sketch, join, sketch, join, travel+prep, chec...   \n",
       "4572965  [approach, share, enter, explain, untie, decid...   \n",
       "4572965                                   [chain+prep,eat]   \n",
       "4572965  [terrorize, lose, do, try, remind, leave, do, ...   \n",
       "\n",
       "                                                   passive  activeness_score  \n",
       "4572965  [convince, approach, share, surround, take+pre...          0.571429  \n",
       "4572965  [convince, convince, talk, strap+prep, take+pr...          0.500000  \n",
       "4572965        [seduce, fight, chain, chain, drive, leave]          0.647059  \n",
       "4572965                                       [chain+prep]          0.500000  \n",
       "4572965      [submit, remind, obligate, leave, kill, maul]          0.571429  "
      ]
     },
     "execution_count": 26,
     "metadata": {},
     "output_type": "execute_result"
    }
   ],
   "source": [
    "df_all.head(5)"
   ]
  },
  {
   "cell_type": "markdown",
   "id": "c9de876b",
   "metadata": {},
   "source": [
    "### add movie ID to each character "
   ]
  },
  {
   "cell_type": "code",
   "execution_count": 3,
   "id": "4f9f6095",
   "metadata": {},
   "outputs": [],
   "source": [
    "a = list(itertools.chain(*[np.repeat(df_.iloc[i].movie_id, df_.iloc[i].nlp.shape[0]) for i in range(0, df_.shape[0])]))"
   ]
  },
  {
   "cell_type": "code",
   "execution_count": null,
   "id": "ae6103e7",
   "metadata": {},
   "outputs": [],
   "source": []
  },
  {
   "cell_type": "code",
   "execution_count": 4,
   "id": "50d62312",
   "metadata": {},
   "outputs": [],
   "source": [
    "df_.drop('movie_id', inplace=True, axis=1)"
   ]
  },
  {
   "cell_type": "code",
   "execution_count": 8,
   "id": "356ca87d",
   "metadata": {},
   "outputs": [],
   "source": [
    "df = pd.concat([x for x in df_.nlp])"
   ]
  },
  {
   "cell_type": "code",
   "execution_count": 25,
   "id": "89548542",
   "metadata": {},
   "outputs": [],
   "source": [
    "df['movie_id'] = a"
   ]
  },
  {
   "cell_type": "code",
   "execution_count": 54,
   "id": "7e17be72",
   "metadata": {},
   "outputs": [],
   "source": [
    "df_F = df[df['gender'] == 'F']['active']\n",
    "df_M = df[df['gender'] == 'M']['active']"
   ]
  },
  {
   "cell_type": "code",
   "execution_count": 36,
   "id": "a9519aeb",
   "metadata": {},
   "outputs": [],
   "source": [
    "df_F_adj = df[df['gender'] == 'F']['description']\n",
    "df_M_adj = df[df['gender'] == 'M']['description']"
   ]
  },
  {
   "cell_type": "code",
   "execution_count": null,
   "id": "d9008c6d",
   "metadata": {},
   "outputs": [],
   "source": []
  },
  {
   "cell_type": "code",
   "execution_count": null,
   "id": "5337aff7",
   "metadata": {},
   "outputs": [],
   "source": []
  },
  {
   "cell_type": "markdown",
   "id": "027b715e",
   "metadata": {},
   "source": [
    "### cut +prep term in verbs"
   ]
  },
  {
   "cell_type": "code",
   "execution_count": 30,
   "id": "7d2c10e3",
   "metadata": {},
   "outputs": [],
   "source": [
    "def cut_prep_term(list_verbs):\n",
    "    return[(x[:x.index(\"+\")]) if (\"+\" in x) else x  for x in list_verbs]\n"
   ]
  },
  {
   "cell_type": "code",
   "execution_count": 31,
   "id": "6ff4e9fc",
   "metadata": {},
   "outputs": [],
   "source": [
    "df_all['active'] = df_all['active'].apply(lambda x : cut_prep_term(x))\n",
    "df_all['passive'] = df_all['passive'].apply(lambda x : cut_prep_term(x))"
   ]
  },
  {
   "cell_type": "code",
   "execution_count": 32,
   "id": "c5296e44",
   "metadata": {},
   "outputs": [
    {
     "data": {
      "text/html": [
       "<div>\n",
       "<style scoped>\n",
       "    .dataframe tbody tr th:only-of-type {\n",
       "        vertical-align: middle;\n",
       "    }\n",
       "\n",
       "    .dataframe tbody tr th {\n",
       "        vertical-align: top;\n",
       "    }\n",
       "\n",
       "    .dataframe thead th {\n",
       "        text-align: right;\n",
       "    }\n",
       "</style>\n",
       "<table border=\"1\" class=\"dataframe\">\n",
       "  <thead>\n",
       "    <tr style=\"text-align: right;\">\n",
       "      <th></th>\n",
       "      <th>name</th>\n",
       "      <th>mention</th>\n",
       "      <th>release_date</th>\n",
       "      <th>gender</th>\n",
       "      <th>age</th>\n",
       "      <th>active</th>\n",
       "      <th>passive</th>\n",
       "      <th>activeness_score</th>\n",
       "    </tr>\n",
       "  </thead>\n",
       "  <tbody>\n",
       "    <tr>\n",
       "      <th>4572965</th>\n",
       "      <td>beth</td>\n",
       "      <td>36</td>\n",
       "      <td>2007.0</td>\n",
       "      <td>F</td>\n",
       "      <td>28.0</td>\n",
       "      <td>[sketch, join, travel, check, inherit, leave, ...</td>\n",
       "      <td>[convince, approach, share, surround, take, ta...</td>\n",
       "      <td>0.571429</td>\n",
       "    </tr>\n",
       "    <tr>\n",
       "      <th>4572965</th>\n",
       "      <td>whitney</td>\n",
       "      <td>18</td>\n",
       "      <td>2007.0</td>\n",
       "      <td>F</td>\n",
       "      <td>27.0</td>\n",
       "      <td>[sketch, join, sketch, join, travel, check, tr...</td>\n",
       "      <td>[convince, convince, talk, strap, take, strap,...</td>\n",
       "      <td>0.500000</td>\n",
       "    </tr>\n",
       "    <tr>\n",
       "      <th>4572965</th>\n",
       "      <td>stuart</td>\n",
       "      <td>13</td>\n",
       "      <td>2007.0</td>\n",
       "      <td>M</td>\n",
       "      <td>44.0</td>\n",
       "      <td>[approach, share, enter, explain, untie, decid...</td>\n",
       "      <td>[seduce, fight, chain, chain, drive, leave]</td>\n",
       "      <td>0.647059</td>\n",
       "    </tr>\n",
       "    <tr>\n",
       "      <th>4572965</th>\n",
       "      <td>man who has victim chained electrified metal bed</td>\n",
       "      <td>12</td>\n",
       "      <td>NaN</td>\n",
       "      <td>M</td>\n",
       "      <td>NaN</td>\n",
       "      <td>[chain]</td>\n",
       "      <td>[chain]</td>\n",
       "      <td>0.500000</td>\n",
       "    </tr>\n",
       "    <tr>\n",
       "      <th>4572965</th>\n",
       "      <td>todd</td>\n",
       "      <td>10</td>\n",
       "      <td>2007.0</td>\n",
       "      <td>M</td>\n",
       "      <td>48.0</td>\n",
       "      <td>[terrorize, lose, do, try, remind, leave, do, ...</td>\n",
       "      <td>[submit, remind, obligate, leave, kill, maul]</td>\n",
       "      <td>0.571429</td>\n",
       "    </tr>\n",
       "    <tr>\n",
       "      <th>4572965</th>\n",
       "      <td>lorna</td>\n",
       "      <td>8</td>\n",
       "      <td>2007.0</td>\n",
       "      <td>F</td>\n",
       "      <td>24.0</td>\n",
       "      <td>[sketch, join, sketch, join, travel, check, tr...</td>\n",
       "      <td>[convince, convince, take, wait, hang, lie]</td>\n",
       "      <td>0.600000</td>\n",
       "    </tr>\n",
       "    <tr>\n",
       "      <th>4572965</th>\n",
       "      <td>axelle</td>\n",
       "      <td>7</td>\n",
       "      <td>2007.0</td>\n",
       "      <td>F</td>\n",
       "      <td>31.0</td>\n",
       "      <td>[convince, volunteer, stay, go, ward, contract]</td>\n",
       "      <td>[join, lure, behead, allow, appear, appear]</td>\n",
       "      <td>0.500000</td>\n",
       "    </tr>\n",
       "    <tr>\n",
       "      <th>4572965</th>\n",
       "      <td>named bathory</td>\n",
       "      <td>6</td>\n",
       "      <td>NaN</td>\n",
       "      <td>F</td>\n",
       "      <td>NaN</td>\n",
       "      <td>[use, revel]</td>\n",
       "      <td>[]</td>\n",
       "      <td>1.000000</td>\n",
       "    </tr>\n",
       "    <tr>\n",
       "      <th>4572965</th>\n",
       "      <td>sasha</td>\n",
       "      <td>5</td>\n",
       "      <td>2007.0</td>\n",
       "      <td>M</td>\n",
       "      <td>61.0</td>\n",
       "      <td>[relax, ward, murder]</td>\n",
       "      <td>[deliver, get, appear, appear]</td>\n",
       "      <td>0.428571</td>\n",
       "    </tr>\n",
       "    <tr>\n",
       "      <th>4572965</th>\n",
       "      <td>art class</td>\n",
       "      <td>3</td>\n",
       "      <td>2007.0</td>\n",
       "      <td>F</td>\n",
       "      <td>58.0</td>\n",
       "      <td>[sketch, join, travel, check]</td>\n",
       "      <td>[convince]</td>\n",
       "      <td>0.800000</td>\n",
       "    </tr>\n",
       "  </tbody>\n",
       "</table>\n",
       "</div>"
      ],
      "text/plain": [
       "                                                     name  mention  \\\n",
       "4572965                                              beth       36   \n",
       "4572965                                           whitney       18   \n",
       "4572965                                            stuart       13   \n",
       "4572965  man who has victim chained electrified metal bed       12   \n",
       "4572965                                              todd       10   \n",
       "4572965                                             lorna        8   \n",
       "4572965                                            axelle        7   \n",
       "4572965                                     named bathory        6   \n",
       "4572965                                             sasha        5   \n",
       "4572965                                         art class        3   \n",
       "\n",
       "         release_date gender   age  \\\n",
       "4572965        2007.0      F  28.0   \n",
       "4572965        2007.0      F  27.0   \n",
       "4572965        2007.0      M  44.0   \n",
       "4572965           NaN      M   NaN   \n",
       "4572965        2007.0      M  48.0   \n",
       "4572965        2007.0      F  24.0   \n",
       "4572965        2007.0      F  31.0   \n",
       "4572965           NaN      F   NaN   \n",
       "4572965        2007.0      M  61.0   \n",
       "4572965        2007.0      F  58.0   \n",
       "\n",
       "                                                    active  \\\n",
       "4572965  [sketch, join, travel, check, inherit, leave, ...   \n",
       "4572965  [sketch, join, sketch, join, travel, check, tr...   \n",
       "4572965  [approach, share, enter, explain, untie, decid...   \n",
       "4572965                                            [chain]   \n",
       "4572965  [terrorize, lose, do, try, remind, leave, do, ...   \n",
       "4572965  [sketch, join, sketch, join, travel, check, tr...   \n",
       "4572965    [convince, volunteer, stay, go, ward, contract]   \n",
       "4572965                                       [use, revel]   \n",
       "4572965                              [relax, ward, murder]   \n",
       "4572965                      [sketch, join, travel, check]   \n",
       "\n",
       "                                                   passive  activeness_score  \n",
       "4572965  [convince, approach, share, surround, take, ta...          0.571429  \n",
       "4572965  [convince, convince, talk, strap, take, strap,...          0.500000  \n",
       "4572965        [seduce, fight, chain, chain, drive, leave]          0.647059  \n",
       "4572965                                            [chain]          0.500000  \n",
       "4572965      [submit, remind, obligate, leave, kill, maul]          0.571429  \n",
       "4572965        [convince, convince, take, wait, hang, lie]          0.600000  \n",
       "4572965        [join, lure, behead, allow, appear, appear]          0.500000  \n",
       "4572965                                                 []          1.000000  \n",
       "4572965                     [deliver, get, appear, appear]          0.428571  \n",
       "4572965                                         [convince]          0.800000  "
      ]
     },
     "execution_count": 32,
     "metadata": {},
     "output_type": "execute_result"
    }
   ],
   "source": [
    "df_all.head(10)"
   ]
  },
  {
   "cell_type": "code",
   "execution_count": 24,
   "id": "8c99cac3",
   "metadata": {},
   "outputs": [],
   "source": [
    "def cut_prep_term(list_verbs):\n",
    "    return[(x[:x.index(\"+\")]) if (\"+\" in x) else x  for x in list_verbs]\n"
   ]
  },
  {
   "cell_type": "code",
   "execution_count": null,
   "id": "6e06ca12",
   "metadata": {},
   "outputs": [],
   "source": []
  },
  {
   "cell_type": "code",
   "execution_count": null,
   "id": "ba2e91f3",
   "metadata": {},
   "outputs": [],
   "source": []
  },
  {
   "cell_type": "markdown",
   "id": "c3397fc8",
   "metadata": {},
   "source": [
    "### images with words "
   ]
  },
  {
   "cell_type": "code",
   "execution_count": 3,
   "id": "a4f539ca",
   "metadata": {},
   "outputs": [],
   "source": [
    "df_one_film = df_.nlp[0]"
   ]
  },
  {
   "cell_type": "code",
   "execution_count": 4,
   "id": "ba70c721",
   "metadata": {},
   "outputs": [],
   "source": [
    "df_one_film_M = df_one_film[df_one_film['gender'] == 'M']['active']\n",
    "df_one_film_F = df_one_film[df_one_film['gender'] == 'F']['active']"
   ]
  },
  {
   "cell_type": "code",
   "execution_count": 177,
   "id": "73f7174b",
   "metadata": {},
   "outputs": [
    {
     "data": {
      "image/png": "[encoded data removed]",
      "text/plain": [
       "<Figure size 500x500 with 1 Axes>"
      ]
     },
     "metadata": {},
     "output_type": "display_data"
    }
   ],
   "source": [
    "#mask = np.array(Image.open('/Users/maffeitheo/Desktop/prova.png'))\n",
    "\n",
    "comment_words = ''\n",
    "stopwords = set(STOPWORDS)\n",
    "\n",
    " \n",
    "# iterate through the csv file\n",
    "for val in df_one_film_M:\n",
    "     \n",
    "    # typecaste each val to string\n",
    "    val = str(val)\n",
    " \n",
    "    # split the value\n",
    "    tokens = val.split()\n",
    "     \n",
    "    # Converts each token into lowercase\n",
    "    for i in range(len(tokens)):\n",
    "        tokens[i] = tokens[i].lower()\n",
    "     \n",
    "    comment_words += \" \".join(tokens)+\" \"\n",
    " \n",
    "wordcloud = WordCloud(width = 600, height = 600,\n",
    "                background_color ='white',\n",
    "                stopwords = stopwords, \n",
    "                mask = mask,\n",
    "                min_font_size = 10).generate(comment_words)\n",
    " \n",
    "# plot the WordCloud image                      \n",
    "plt.figure(figsize = (5, 5), facecolor = None)\n",
    "plt.imshow(wordcloud)\n",
    "plt.axis(\"off\")\n",
    "plt.tight_layout(pad = 0)\n",
    " \n",
    "plt.show()"
   ]
  },
  {
   "cell_type": "code",
   "execution_count": 11,
   "id": "478725ac",
   "metadata": {},
   "outputs": [
    {
     "data": {
      "image/png": "[encoded data removed]",
      "text/plain": [
       "<Figure size 600x600 with 1 Axes>"
      ]
     },
     "metadata": {},
     "output_type": "display_data"
    }
   ],
   "source": [
    "mask = np.array(Image.open('/Users/maffeitheo/Desktop/male_symbol.png'))\n",
    "comment_words = ''\n",
    "stopwords = set(STOPWORDS)\n",
    "\n",
    "for val in df_one_film_M:\n",
    "     \n",
    "    # typecaste each val to string\n",
    "    val = str(val)\n",
    " \n",
    "    # split the value\n",
    "    tokens = val.split()\n",
    "     \n",
    "    # Converts each token into lowercase\n",
    "    for i in range(len(tokens)):\n",
    "        tokens[i] = tokens[i].lower()\n",
    "     \n",
    "    comment_words += \" \".join(tokens)+\" \"\n",
    " \n",
    "\n",
    "\n",
    "wc = WordCloud(background_color = \"white\", max_words=2000, max_font_size=50, mask=mask, stopwords = STOPWORDS,\n",
    "               random_state=1,height=100,width=100,collocation_threshold=5).generate(comment_words)\n",
    "\n",
    "\n",
    "# Finally generate the wordcloud of the given text\n",
    "#wc.generate(text) \n",
    "plt.figure(figsize = (6, 6), facecolor = None)\n",
    "plt.imshow(wc, interpolation = \"None\")\n",
    " \n",
    "# Off the x and y axis\n",
    "plt.axis('off')\n",
    " \n",
    "# Now show the output cloud\n",
    "plt.show()"
   ]
  },
  {
   "cell_type": "code",
   "execution_count": null,
   "id": "a9646b80",
   "metadata": {},
   "outputs": [],
   "source": []
  },
  {
   "cell_type": "code",
   "execution_count": null,
   "id": "4e2094f8",
   "metadata": {},
   "outputs": [],
   "source": []
  }
 ],
 "metadata": {
  "kernelspec": {
   "display_name": "Python 3 (ipykernel)",
   "language": "python",
   "name": "python3"
  },
  "language_info": {
   "codemirror_mode": {
    "name": "ipython",
    "version": 3
   },
   "file_extension": ".py",
   "mimetype": "text/x-python",
   "name": "python",
   "nbconvert_exporter": "python",
   "pygments_lexer": "ipython3",
   "version": "3.9.15"
  }
 },
 "nbformat": 4,
 "nbformat_minor": 5
}
