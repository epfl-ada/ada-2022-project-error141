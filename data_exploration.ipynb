{
 "cells": [
  {
   "cell_type": "code",
   "execution_count": null,
   "id": "818b68d8",
   "metadata": {},
   "outputs": [],
   "source": []
  },
  {
   "cell_type": "code",
   "execution_count": 3,
   "id": "2ad1a221",
   "metadata": {},
   "outputs": [],
   "source": [
    "import pandas as pd\n",
    "import numpy as np\n",
    "import matplotlib.pyplot as plt\n",
    "import seaborn as sns\n",
    "import networkx as nx\n",
    "import statsmodels.api as sm\n",
    "import statsmodels.formula.api as smf\n",
    "from matplotlib.pyplot import figure\n",
    "\n",
    "%matplotlib inline"
   ]
  },
  {
   "cell_type": "markdown",
   "id": "7cbb7275",
   "metadata": {},
   "source": [
    "## Movie metadata "
   ]
  },
  {
   "cell_type": "code",
   "execution_count": 4,
   "id": "2419015f",
   "metadata": {},
   "outputs": [
    {
     "data": {
      "text/html": [
       "<div>\n",
       "<style scoped>\n",
       "    .dataframe tbody tr th:only-of-type {\n",
       "        vertical-align: middle;\n",
       "    }\n",
       "\n",
       "    .dataframe tbody tr th {\n",
       "        vertical-align: top;\n",
       "    }\n",
       "\n",
       "    .dataframe thead th {\n",
       "        text-align: right;\n",
       "    }\n",
       "</style>\n",
       "<table border=\"1\" class=\"dataframe\">\n",
       "  <thead>\n",
       "    <tr style=\"text-align: right;\">\n",
       "      <th></th>\n",
       "      <th>Wikipedia_Movie_ID</th>\n",
       "      <th>Freebase_Movie_ID</th>\n",
       "      <th>Movie_name</th>\n",
       "      <th>Movie_release_date</th>\n",
       "      <th>Movie_box_office_revenue</th>\n",
       "      <th>Movie_runtime</th>\n",
       "      <th>Movie_languages</th>\n",
       "      <th>Movie_countries</th>\n",
       "      <th>Movie_genres</th>\n",
       "    </tr>\n",
       "  </thead>\n",
       "  <tbody>\n",
       "    <tr>\n",
       "      <th>0</th>\n",
       "      <td>975900</td>\n",
       "      <td>/m/03vyhn</td>\n",
       "      <td>Ghosts of Mars</td>\n",
       "      <td>2001-08-24</td>\n",
       "      <td>14010832</td>\n",
       "      <td>98.0</td>\n",
       "      <td>{\"/m/02h40lc\": \"English Language\"}</td>\n",
       "      <td>{\"/m/09c7w0\": \"United States of America\"}</td>\n",
       "      <td>{\"/m/01jfsb\": \"Thriller\", \"/m/06n90\": \"Science...</td>\n",
       "    </tr>\n",
       "    <tr>\n",
       "      <th>1</th>\n",
       "      <td>3196793</td>\n",
       "      <td>/m/08yl5d</td>\n",
       "      <td>Getting Away with Murder: The JonBenét Ramsey ...</td>\n",
       "      <td>2000-02-16</td>\n",
       "      <td>NaN</td>\n",
       "      <td>95.0</td>\n",
       "      <td>{\"/m/02h40lc\": \"English Language\"}</td>\n",
       "      <td>{\"/m/09c7w0\": \"United States of America\"}</td>\n",
       "      <td>{\"/m/02n4kr\": \"Mystery\", \"/m/03bxz7\": \"Biograp...</td>\n",
       "    </tr>\n",
       "    <tr>\n",
       "      <th>2</th>\n",
       "      <td>28463795</td>\n",
       "      <td>/m/0crgdbh</td>\n",
       "      <td>Brun bitter</td>\n",
       "      <td>1988</td>\n",
       "      <td>NaN</td>\n",
       "      <td>83.0</td>\n",
       "      <td>{\"/m/05f_3\": \"Norwegian Language\"}</td>\n",
       "      <td>{\"/m/05b4w\": \"Norway\"}</td>\n",
       "      <td>{\"/m/0lsxr\": \"Crime Fiction\", \"/m/07s9rl0\": \"D...</td>\n",
       "    </tr>\n",
       "  </tbody>\n",
       "</table>\n",
       "</div>"
      ],
      "text/plain": [
       "  Wikipedia_Movie_ID Freebase_Movie_ID  \\\n",
       "0             975900         /m/03vyhn   \n",
       "1            3196793         /m/08yl5d   \n",
       "2           28463795        /m/0crgdbh   \n",
       "\n",
       "                                          Movie_name Movie_release_date  \\\n",
       "0                                     Ghosts of Mars         2001-08-24   \n",
       "1  Getting Away with Murder: The JonBenét Ramsey ...         2000-02-16   \n",
       "2                                        Brun bitter               1988   \n",
       "\n",
       "  Movie_box_office_revenue Movie_runtime                     Movie_languages  \\\n",
       "0                 14010832          98.0  {\"/m/02h40lc\": \"English Language\"}   \n",
       "1                      NaN          95.0  {\"/m/02h40lc\": \"English Language\"}   \n",
       "2                      NaN          83.0  {\"/m/05f_3\": \"Norwegian Language\"}   \n",
       "\n",
       "                             Movie_countries  \\\n",
       "0  {\"/m/09c7w0\": \"United States of America\"}   \n",
       "1  {\"/m/09c7w0\": \"United States of America\"}   \n",
       "2                     {\"/m/05b4w\": \"Norway\"}   \n",
       "\n",
       "                                        Movie_genres  \n",
       "0  {\"/m/01jfsb\": \"Thriller\", \"/m/06n90\": \"Science...  \n",
       "1  {\"/m/02n4kr\": \"Mystery\", \"/m/03bxz7\": \"Biograp...  \n",
       "2  {\"/m/0lsxr\": \"Crime Fiction\", \"/m/07s9rl0\": \"D...  "
      ]
     },
     "execution_count": 4,
     "metadata": {},
     "output_type": "execute_result"
    }
   ],
   "source": [
    "# import character.metadata.tsv into pandas dataframe\n",
    "movie_metadata = pd.read_csv('./data/movie.metadata.tsv', sep='\\t')\n",
    "\n",
    "# convert column header into the first row of the data frame \n",
    "movie_metadata = movie_metadata.columns.to_frame().T.append(movie_metadata, ignore_index=True)\n",
    "movie_metadata.columns = range(len(movie_metadata.columns))\n",
    "\n",
    "# name columns headers\n",
    "movie_metadata = movie_metadata.set_axis(['Wikipedia_Movie_ID', 'Freebase_Movie_ID', 'Movie_name', 'Movie_release_date', 'Movie_box_office_revenue', 'Movie_runtime', 'Movie_languages', 'Movie_countries', 'Movie_genres' ], axis=1, inplace=False)\n",
    "\n",
    "\n",
    "movie_metadata.head(3)"
   ]
  },
  {
   "cell_type": "code",
   "execution_count": 5,
   "id": "0c2b5e09",
   "metadata": {},
   "outputs": [],
   "source": [
    "# add a column to the dataframe with movie release year\n",
    "movie_metadata['Movie_release_year'] = movie_metadata['Movie_release_date'].str[:4]"
   ]
  },
  {
   "cell_type": "code",
   "execution_count": 6,
   "id": "84e45a57",
   "metadata": {},
   "outputs": [],
   "source": [
    "# rewrite properly Movie_languages, Movie_countries, Movie_genres\n",
    "movie_metadata['Movie_languages'] = [lang.split('\"')[3::4] for lang in movie_metadata.Movie_languages]\n",
    "movie_metadata['Movie_countries'] = [lang.split('\"')[3::4] for lang in movie_metadata.Movie_countries]\n",
    "movie_metadata['Movie_genres'] = [lang.split('\"')[3::4] for lang in movie_metadata.Movie_genres]"
   ]
  },
  {
   "cell_type": "code",
   "execution_count": 7,
   "id": "03158b8a",
   "metadata": {},
   "outputs": [],
   "source": [
    "# convert all the Movie_countries into string \n",
    "movie_metadata['Movie_countries'] = movie_metadata['Movie_countries'].astype(str)"
   ]
  },
  {
   "cell_type": "code",
   "execution_count": 8,
   "id": "714d1ab8",
   "metadata": {},
   "outputs": [],
   "source": [
    "# convert all the Movie release date into float\n",
    "movie_metadata['Movie_release_year'] = movie_metadata['Movie_release_year'].astype(float)"
   ]
  },
  {
   "cell_type": "code",
   "execution_count": 8,
   "id": "51b673cd",
   "metadata": {},
   "outputs": [],
   "source": [
    "# drop na values , make sense to remove all data with na, maybe something that it is not interesting for us \n",
    "#movie_metadata = movie_metadata.dropna()"
   ]
  },
  {
   "cell_type": "code",
   "execution_count": null,
   "id": "dfcf752a",
   "metadata": {},
   "outputs": [],
   "source": []
  },
  {
   "cell_type": "code",
   "execution_count": 9,
   "id": "91f8d613",
   "metadata": {},
   "outputs": [],
   "source": [
    "# create a new dataframe having only movie countries \n",
    "movie_metadata_only_countries = pd.DataFrame(movie_metadata, columns = ['Movie_countries'])"
   ]
  },
  {
   "cell_type": "code",
   "execution_count": 14,
   "id": "fc44381c",
   "metadata": {},
   "outputs": [
    {
     "data": {
      "image/png": "[encoded data removed]",
      "text/plain": [
       "<Figure size 1080x360 with 1 Axes>"
      ]
     },
     "metadata": {
      "needs_background": "light"
     },
     "output_type": "display_data"
    }
   ],
   "source": [
    "figure(figsize=(15, 5))\n",
    "\n",
    "movie_metadata_only_countries['Movie_countries'].value_counts()[:20]\n",
    "\n",
    "plt.plot(movie_metadata_only_countries['Movie_countries'].value_counts()[:20], 'ro')\n",
    "plt.tick_params(axis='x', labelrotation = 90)\n",
    "plt.title('Number of movies in the most common 20 countries')\n",
    "\n",
    "plt.show()"
   ]
  },
  {
   "cell_type": "code",
   "execution_count": 20,
   "id": "ab202f03",
   "metadata": {
    "scrolled": true
   },
   "outputs": [
    {
     "data": {
      "image/png": "[encoded data removed]",
      "text/plain": [
       "<Figure size 576x360 with 1 Axes>"
      ]
     },
     "metadata": {
      "needs_background": "light"
     },
     "output_type": "display_data"
    }
   ],
   "source": [
    "figure(figsize=(8, 5))\n",
    "\n",
    "movie_metadata_only_countries['Movie_countries'].value_counts()[:20].plot(kind='barh')\n",
    "plt.title('Number of movies in the most common 20 countries')\n",
    "\n",
    "plt.show()"
   ]
  },
  {
   "cell_type": "code",
   "execution_count": 21,
   "id": "08701274",
   "metadata": {},
   "outputs": [
    {
     "data": {
      "image/png": "[encoded data removed]",
      "text/plain": [
       "<Figure size 1080x360 with 1 Axes>"
      ]
     },
     "metadata": {
      "needs_background": "light"
     },
     "output_type": "display_data"
    }
   ],
   "source": [
    "figure(figsize=(15, 5))\n",
    "\n",
    "movie_metadata['Movie_release_year'].hist(bins = 100)\n",
    "\n",
    "#plt.hist(movie_metadata['Movie_release_year'], bins = 100)\n",
    "\n",
    "plt.xlabel('movie release year')\n",
    "plt.ylabel('number of movies')\n",
    "plt.title('Distribution of movie release by year')\n",
    "\n",
    "plt.show()"
   ]
  },
  {
   "cell_type": "code",
   "execution_count": 23,
   "id": "4decdf26",
   "metadata": {},
   "outputs": [
    {
     "data": {
      "image/png": "[encoded data removed]",
      "text/plain": [
       "<Figure size 1080x360 with 1 Axes>"
      ]
     },
     "metadata": {
      "needs_background": "light"
     },
     "output_type": "display_data"
    }
   ],
   "source": [
    "figure(figsize=(15, 5))\n",
    "\n",
    "plt.hist(movie_metadata['Movie_release_year'], bins = 100)\n",
    "\n",
    "plt.xlabel('movie release year')\n",
    "plt.ylabel('number of movies')\n",
    "\n",
    "\n",
    "plt.show()"
   ]
  },
  {
   "cell_type": "markdown",
   "id": "2a5be298",
   "metadata": {},
   "source": [
    "### American movies "
   ]
  },
  {
   "cell_type": "code",
   "execution_count": 26,
   "id": "88c2ff66",
   "metadata": {},
   "outputs": [],
   "source": [
    "usa_movi_metadata = movie_metadata[movie_metadata['Movie_countries'].str.contains('America')]"
   ]
  },
  {
   "cell_type": "code",
   "execution_count": 44,
   "id": "42eda8b0",
   "metadata": {},
   "outputs": [
    {
     "data": {
      "text/html": [
       "<div>\n",
       "<style scoped>\n",
       "    .dataframe tbody tr th:only-of-type {\n",
       "        vertical-align: middle;\n",
       "    }\n",
       "\n",
       "    .dataframe tbody tr th {\n",
       "        vertical-align: top;\n",
       "    }\n",
       "\n",
       "    .dataframe thead th {\n",
       "        text-align: right;\n",
       "    }\n",
       "</style>\n",
       "<table border=\"1\" class=\"dataframe\">\n",
       "  <thead>\n",
       "    <tr style=\"text-align: right;\">\n",
       "      <th></th>\n",
       "      <th>Wikipedia_Movie_ID</th>\n",
       "      <th>Freebase_Movie_ID</th>\n",
       "      <th>Movie_name</th>\n",
       "      <th>Movie_release_date</th>\n",
       "      <th>Movie_box_office_revenue</th>\n",
       "      <th>Movie_runtime</th>\n",
       "      <th>Movie_languages</th>\n",
       "      <th>Movie_countries</th>\n",
       "      <th>Movie_genres</th>\n",
       "      <th>Movie_release_year</th>\n",
       "    </tr>\n",
       "  </thead>\n",
       "  <tbody>\n",
       "    <tr>\n",
       "      <th>0</th>\n",
       "      <td>975900</td>\n",
       "      <td>/m/03vyhn</td>\n",
       "      <td>Ghosts of Mars</td>\n",
       "      <td>2001-08-24</td>\n",
       "      <td>inf</td>\n",
       "      <td>98.0</td>\n",
       "      <td>[English Language]</td>\n",
       "      <td>['United States of America']</td>\n",
       "      <td>[Thriller, Science Fiction, Horror, Adventure,...</td>\n",
       "      <td>2001.0</td>\n",
       "    </tr>\n",
       "    <tr>\n",
       "      <th>1</th>\n",
       "      <td>3196793</td>\n",
       "      <td>/m/08yl5d</td>\n",
       "      <td>Getting Away with Murder: The JonBenét Ramsey ...</td>\n",
       "      <td>2000-02-16</td>\n",
       "      <td>NaN</td>\n",
       "      <td>95.0</td>\n",
       "      <td>[English Language]</td>\n",
       "      <td>['United States of America']</td>\n",
       "      <td>[Mystery, Biographical film, Drama, Crime Drama]</td>\n",
       "      <td>2000.0</td>\n",
       "    </tr>\n",
       "    <tr>\n",
       "      <th>5</th>\n",
       "      <td>13696889</td>\n",
       "      <td>/m/03cfc81</td>\n",
       "      <td>The Gangsters</td>\n",
       "      <td>1913-05-29</td>\n",
       "      <td>NaN</td>\n",
       "      <td>35.0</td>\n",
       "      <td>[Silent film, English Language]</td>\n",
       "      <td>['United States of America']</td>\n",
       "      <td>[Short Film, Silent film, Indie, Black-and-whi...</td>\n",
       "      <td>1913.0</td>\n",
       "    </tr>\n",
       "  </tbody>\n",
       "</table>\n",
       "</div>"
      ],
      "text/plain": [
       "  Wikipedia_Movie_ID Freebase_Movie_ID  \\\n",
       "0             975900         /m/03vyhn   \n",
       "1            3196793         /m/08yl5d   \n",
       "5           13696889        /m/03cfc81   \n",
       "\n",
       "                                          Movie_name Movie_release_date  \\\n",
       "0                                     Ghosts of Mars         2001-08-24   \n",
       "1  Getting Away with Murder: The JonBenét Ramsey ...         2000-02-16   \n",
       "5                                      The Gangsters         1913-05-29   \n",
       "\n",
       "   Movie_box_office_revenue  Movie_runtime                  Movie_languages  \\\n",
       "0                       inf           98.0               [English Language]   \n",
       "1                       NaN           95.0               [English Language]   \n",
       "5                       NaN           35.0  [Silent film, English Language]   \n",
       "\n",
       "                Movie_countries  \\\n",
       "0  ['United States of America']   \n",
       "1  ['United States of America']   \n",
       "5  ['United States of America']   \n",
       "\n",
       "                                        Movie_genres  Movie_release_year  \n",
       "0  [Thriller, Science Fiction, Horror, Adventure,...              2001.0  \n",
       "1   [Mystery, Biographical film, Drama, Crime Drama]              2000.0  \n",
       "5  [Short Film, Silent film, Indie, Black-and-whi...              1913.0  "
      ]
     },
     "execution_count": 44,
     "metadata": {},
     "output_type": "execute_result"
    }
   ],
   "source": [
    "usa_movi_metadata.head(3)\n",
    "#len(usa_movi_metadata)"
   ]
  },
  {
   "cell_type": "code",
   "execution_count": 38,
   "id": "11f75149",
   "metadata": {},
   "outputs": [],
   "source": [
    "# remove rows of the dataframe that have a nan movie runtime\n",
    "usa_movi_metadata = usa_movi_metadata.dropna(subset=['Movie_runtime'])"
   ]
  },
  {
   "cell_type": "code",
   "execution_count": 34,
   "id": "6fbef055",
   "metadata": {},
   "outputs": [
    {
     "name": "stderr",
     "output_type": "stream",
     "text": [
      "/var/folders/5w/096y26wd42gc877cwznm6zjm0000gn/T/ipykernel_13934/3650212659.py:2: SettingWithCopyWarning: \n",
      "A value is trying to be set on a copy of a slice from a DataFrame.\n",
      "Try using .loc[row_indexer,col_indexer] = value instead\n",
      "\n",
      "See the caveats in the documentation: https://pandas.pydata.org/pandas-docs/stable/user_guide/indexing.html#returning-a-view-versus-a-copy\n",
      "  usa_movi_metadata['Movie_runtime'] = usa_movi_metadata['Movie_runtime'].astype(float)\n",
      "/var/folders/5w/096y26wd42gc877cwznm6zjm0000gn/T/ipykernel_13934/3650212659.py:3: SettingWithCopyWarning: \n",
      "A value is trying to be set on a copy of a slice from a DataFrame.\n",
      "Try using .loc[row_indexer,col_indexer] = value instead\n",
      "\n",
      "See the caveats in the documentation: https://pandas.pydata.org/pandas-docs/stable/user_guide/indexing.html#returning-a-view-versus-a-copy\n",
      "  usa_movi_metadata['Movie_box_office_revenue'] = usa_movi_metadata['Movie_box_office_revenue'].astype(float)\n"
     ]
    }
   ],
   "source": [
    "# convert values into np.float16, in order to avoid to have eg string\n",
    "usa_movi_metadata['Movie_runtime'] = usa_movi_metadata['Movie_runtime'].astype(float)\n",
    "usa_movi_metadata['Movie_box_office_revenue'] = usa_movi_metadata['Movie_box_office_revenue'].astype(float)\n"
   ]
  },
  {
   "cell_type": "code",
   "execution_count": 42,
   "id": "11d2d628",
   "metadata": {},
   "outputs": [
    {
     "data": {
      "text/plain": [
       "inf"
      ]
     },
     "execution_count": 42,
     "metadata": {},
     "output_type": "execute_result"
    }
   ],
   "source": [
    "usa_movi_metadata['Movie_runtime'].astype(float).mean()"
   ]
  },
  {
   "cell_type": "code",
   "execution_count": 46,
   "id": "b4988bf6",
   "metadata": {
    "scrolled": true
   },
   "outputs": [],
   "source": [
    "#usa_movi_metadata['Movie_runtime'].hist(bins = 100)\n",
    "\n",
    "#plt.xlabel('movie runtime')\n",
    "#plt.ylabel('number of movies')"
   ]
  },
  {
   "cell_type": "code",
   "execution_count": 49,
   "id": "cde4631d",
   "metadata": {
    "scrolled": true
   },
   "outputs": [],
   "source": [
    "#figure(figsize=(5, 8), dpi=80)\n",
    "\n",
    "#plt.boxplot(usa_movi_metadata['Movie_runtime'])\n",
    "#plt.xticks([])\n",
    "#plt.title('Movie runtime');"
   ]
  },
  {
   "cell_type": "code",
   "execution_count": 52,
   "id": "e3956487",
   "metadata": {},
   "outputs": [
    {
     "data": {
      "image/png": "[encoded data removed]",
      "text/plain": [
       "<Figure size 1200x400 with 1 Axes>"
      ]
     },
     "metadata": {
      "needs_background": "light"
     },
     "output_type": "display_data"
    }
   ],
   "source": [
    "figure(figsize=(15, 5), dpi=80)\n",
    "\n",
    "usa_movi_metadata['Movie_release_year'].hist(bins = 100)\n",
    "\n",
    "plt.xlabel('movie release year')\n",
    "plt.ylabel('number of movies')\n",
    "\n",
    "plt.show()"
   ]
  },
  {
   "cell_type": "code",
   "execution_count": null,
   "id": "2d0790bc",
   "metadata": {},
   "outputs": [],
   "source": []
  },
  {
   "cell_type": "code",
   "execution_count": 18,
   "id": "7e5f09fa",
   "metadata": {
    "scrolled": true
   },
   "outputs": [],
   "source": [
    "# enable to remove all rows of the column movie runtime that do not have a float, \n",
    "# in reality it seems nothing is removed\n",
    "# df = usa_movi_metadata.drop(usa_movi_metadata[usa_movi_metadata['Movie_runtime'] == float].index)\n"
   ]
  },
  {
   "cell_type": "code",
   "execution_count": null,
   "id": "4b3ecc97",
   "metadata": {},
   "outputs": [],
   "source": []
  },
  {
   "cell_type": "code",
   "execution_count": null,
   "id": "5e0fb602",
   "metadata": {},
   "outputs": [],
   "source": []
  },
  {
   "cell_type": "markdown",
   "id": "d49dbf04",
   "metadata": {},
   "source": [
    "### Character Metadata"
   ]
  },
  {
   "cell_type": "code",
   "execution_count": 53,
   "id": "dd015c18",
   "metadata": {},
   "outputs": [
    {
     "data": {
      "text/html": [
       "<div>\n",
       "<style scoped>\n",
       "    .dataframe tbody tr th:only-of-type {\n",
       "        vertical-align: middle;\n",
       "    }\n",
       "\n",
       "    .dataframe tbody tr th {\n",
       "        vertical-align: top;\n",
       "    }\n",
       "\n",
       "    .dataframe thead th {\n",
       "        text-align: right;\n",
       "    }\n",
       "</style>\n",
       "<table border=\"1\" class=\"dataframe\">\n",
       "  <thead>\n",
       "    <tr style=\"text-align: right;\">\n",
       "      <th></th>\n",
       "      <th>Wikipedia_Movie_ID</th>\n",
       "      <th>Freebase_Movie_ID</th>\n",
       "      <th>Movie_release_date</th>\n",
       "      <th>Character_Name</th>\n",
       "      <th>Actor_DOB</th>\n",
       "      <th>Actor_gender</th>\n",
       "      <th>Actor_height</th>\n",
       "      <th>Actor_ethnicity</th>\n",
       "      <th>Actor_Name</th>\n",
       "      <th>Actor_age_movie_release</th>\n",
       "      <th>Freebase_character_map</th>\n",
       "      <th>no_idea</th>\n",
       "      <th>no_idea_2</th>\n",
       "    </tr>\n",
       "  </thead>\n",
       "  <tbody>\n",
       "    <tr>\n",
       "      <th>0</th>\n",
       "      <td>975900</td>\n",
       "      <td>/m/03vyhn</td>\n",
       "      <td>2001-08-24</td>\n",
       "      <td>Akooshay</td>\n",
       "      <td>1958-08-26</td>\n",
       "      <td>F</td>\n",
       "      <td>1.62</td>\n",
       "      <td>Unnamed: 7</td>\n",
       "      <td>Wanda De Jesus</td>\n",
       "      <td>42</td>\n",
       "      <td>/m/0bgchxw</td>\n",
       "      <td>/m/0bgcj3x</td>\n",
       "      <td>/m/03wcfv7</td>\n",
       "    </tr>\n",
       "    <tr>\n",
       "      <th>1</th>\n",
       "      <td>975900</td>\n",
       "      <td>/m/03vyhn</td>\n",
       "      <td>2001-08-24</td>\n",
       "      <td>Lieutenant Melanie Ballard</td>\n",
       "      <td>1974-08-15</td>\n",
       "      <td>F</td>\n",
       "      <td>1.78</td>\n",
       "      <td>/m/044038p</td>\n",
       "      <td>Natasha Henstridge</td>\n",
       "      <td>27.0</td>\n",
       "      <td>/m/0jys3m</td>\n",
       "      <td>/m/0bgchn4</td>\n",
       "      <td>/m/0346l4</td>\n",
       "    </tr>\n",
       "    <tr>\n",
       "      <th>2</th>\n",
       "      <td>975900</td>\n",
       "      <td>/m/03vyhn</td>\n",
       "      <td>2001-08-24</td>\n",
       "      <td>Desolation Williams</td>\n",
       "      <td>1969-06-15</td>\n",
       "      <td>M</td>\n",
       "      <td>1.727</td>\n",
       "      <td>/m/0x67</td>\n",
       "      <td>Ice Cube</td>\n",
       "      <td>32.0</td>\n",
       "      <td>/m/0jys3g</td>\n",
       "      <td>/m/0bgchn_</td>\n",
       "      <td>/m/01vw26l</td>\n",
       "    </tr>\n",
       "  </tbody>\n",
       "</table>\n",
       "</div>"
      ],
      "text/plain": [
       "  Wikipedia_Movie_ID Freebase_Movie_ID Movie_release_date  \\\n",
       "0             975900         /m/03vyhn         2001-08-24   \n",
       "1             975900         /m/03vyhn         2001-08-24   \n",
       "2             975900         /m/03vyhn         2001-08-24   \n",
       "\n",
       "               Character_Name   Actor_DOB Actor_gender Actor_height  \\\n",
       "0                    Akooshay  1958-08-26            F         1.62   \n",
       "1  Lieutenant Melanie Ballard  1974-08-15            F         1.78   \n",
       "2         Desolation Williams  1969-06-15            M        1.727   \n",
       "\n",
       "  Actor_ethnicity          Actor_Name Actor_age_movie_release  \\\n",
       "0      Unnamed: 7      Wanda De Jesus                      42   \n",
       "1      /m/044038p  Natasha Henstridge                    27.0   \n",
       "2         /m/0x67            Ice Cube                    32.0   \n",
       "\n",
       "  Freebase_character_map     no_idea   no_idea_2  \n",
       "0             /m/0bgchxw  /m/0bgcj3x  /m/03wcfv7  \n",
       "1              /m/0jys3m  /m/0bgchn4   /m/0346l4  \n",
       "2              /m/0jys3g  /m/0bgchn_  /m/01vw26l  "
      ]
     },
     "execution_count": 53,
     "metadata": {},
     "output_type": "execute_result"
    }
   ],
   "source": [
    "# import character.metadata.tsv into pandas dataframe\n",
    "character_metadata = pd.read_csv('./data/character.metadata.tsv',sep='\\t')\n",
    "\n",
    "# convert column header into the first row of the data frame \n",
    "character_metadata = character_metadata.columns.to_frame().T.append(character_metadata, ignore_index=True)\n",
    "character_metadata.columns = range(len(character_metadata.columns))\n",
    "\n",
    "# name columns headers\n",
    "character_metadata = character_metadata.set_axis(['Wikipedia_Movie_ID', 'Freebase_Movie_ID', 'Movie_release_date', 'Character_Name', 'Actor_DOB', 'Actor_gender', 'Actor_height', 'Actor_ethnicity', 'Actor_Name', 'Actor_age_movie_release', 'Freebase_character_map', 'no_idea', 'no_idea_2' ], axis=1, inplace=False)\n",
    "\n",
    "character_metadata.head(3)"
   ]
  },
  {
   "cell_type": "code",
   "execution_count": 54,
   "id": "1c808110",
   "metadata": {},
   "outputs": [],
   "source": [
    "character_metadata['Actor_age_movie_release'] = character_metadata['Actor_age_movie_release'].astype(np.float16)"
   ]
  },
  {
   "cell_type": "code",
   "execution_count": 56,
   "id": "207f2323",
   "metadata": {},
   "outputs": [
    {
     "name": "stdout",
     "output_type": "stream",
     "text": [
      "number female characters 134803 , with age mean of 32.8107530782097\n"
     ]
    }
   ],
   "source": [
    "female_character_metadata = character_metadata[(character_metadata['Actor_gender'] == 'F')]\n",
    "print('number female characters', len(female_character_metadata), ', with age mean of', female_character_metadata['Actor_age_movie_release'].astype(float).mean())"
   ]
  },
  {
   "cell_type": "code",
   "execution_count": 57,
   "id": "7d00afb9",
   "metadata": {},
   "outputs": [
    {
     "name": "stdout",
     "output_type": "stream",
     "text": [
      "number male characters 270257 , with age mean of 40.39167937177586\n"
     ]
    }
   ],
   "source": [
    "male_character_metadata = character_metadata[(character_metadata['Actor_gender'] == 'M')]\n",
    "print('number male characters', len(male_character_metadata), ', with age mean of', male_character_metadata['Actor_age_movie_release'].astype(float).mean())"
   ]
  },
  {
   "cell_type": "code",
   "execution_count": 58,
   "id": "6489705d",
   "metadata": {
    "scrolled": true
   },
   "outputs": [
    {
     "data": {
      "image/png": "[encoded data removed]",
      "text/plain": [
       "<Figure size 432x288 with 1 Axes>"
      ]
     },
     "metadata": {
      "needs_background": "light"
     },
     "output_type": "display_data"
    }
   ],
   "source": [
    "# Make a random dataset:\n",
    "height = [len(female_character_metadata), len(male_character_metadata)]\n",
    "bars = ('female_character_metadata', 'male_character_metadata')\n",
    "y_pos = np.arange(len(bars))\n",
    "\n",
    "# Create bars\n",
    "plt.bar(y_pos, height)\n",
    "\n",
    "# Create names on the x-axis\n",
    "plt.xticks(y_pos, bars)\n",
    "\n",
    "# Show graphic\n",
    "plt.show()"
   ]
  },
  {
   "cell_type": "code",
   "execution_count": 72,
   "id": "2b014660",
   "metadata": {
    "scrolled": true
   },
   "outputs": [
    {
     "data": {
      "image/png": "[encoded data removed]",
      "text/plain": [
       "<Figure size 432x288 with 1 Axes>"
      ]
     },
     "metadata": {
      "needs_background": "light"
     },
     "output_type": "display_data"
    }
   ],
   "source": [
    "female_character_metadata['Actor_age_movie_release'].hist(bins = 900)\n",
    "\n",
    "plt.xlabel('age female char')\n",
    "plt.ylabel('Number of movies')\n",
    "plt.xlim([-10, 110])\n",
    "plt.title('Age distirbution female characters')\n",
    "\n",
    "plt.show()"
   ]
  },
  {
   "cell_type": "code",
   "execution_count": 69,
   "id": "837b994e",
   "metadata": {},
   "outputs": [
    {
     "data": {
      "image/png": "[encoded data removed]",
      "text/plain": [
       "<Figure size 432x288 with 1 Axes>"
      ]
     },
     "metadata": {
      "needs_background": "light"
     },
     "output_type": "display_data"
    }
   ],
   "source": [
    "male_character_metadata['Actor_age_movie_release'].hist(bins = 400)\n",
    "\n",
    "plt.xlabel('age male char')\n",
    "plt.ylabel('Number of movies')\n",
    "plt.xlim([-10, 110])\n",
    "plt.title('Age distirbution male characters')\n",
    "\n",
    "plt.show()"
   ]
  },
  {
   "cell_type": "code",
   "execution_count": null,
   "id": "64a20ebd",
   "metadata": {},
   "outputs": [],
   "source": []
  },
  {
   "cell_type": "markdown",
   "id": "13c21521",
   "metadata": {},
   "source": [
    "### Name clusters"
   ]
  },
  {
   "cell_type": "code",
   "execution_count": 26,
   "id": "340fd1a6",
   "metadata": {},
   "outputs": [],
   "source": [
    "# 970 unique character names used in at least two different movies, along with 2,666 instances of those types\n",
    "# The ID field indexes into the Freebase character/actor map ID in character.metadata.tsv.\n",
    "\n",
    "# download file txt, convert it into csv and store it as a dataframe in name_clusters\n",
    "name_clusters = pd.read_csv('./data/name.clusters.txt', sep='\\t')\n",
    "\n",
    "# convert column header into the first row of the data frame \n",
    "name_clusters = name_clusters.columns.to_frame().T.append(name_clusters, ignore_index=True)\n",
    "name_clusters.columns = range(len(name_clusters.columns))\n",
    "\n",
    "# name header \n",
    "name_clusters.columns = ['double_character', 'movie_ID']"
   ]
  },
  {
   "cell_type": "code",
   "execution_count": 27,
   "id": "cfad2880",
   "metadata": {},
   "outputs": [
    {
     "data": {
      "text/html": [
       "<div>\n",
       "<style scoped>\n",
       "    .dataframe tbody tr th:only-of-type {\n",
       "        vertical-align: middle;\n",
       "    }\n",
       "\n",
       "    .dataframe tbody tr th {\n",
       "        vertical-align: top;\n",
       "    }\n",
       "\n",
       "    .dataframe thead th {\n",
       "        text-align: right;\n",
       "    }\n",
       "</style>\n",
       "<table border=\"1\" class=\"dataframe\">\n",
       "  <thead>\n",
       "    <tr style=\"text-align: right;\">\n",
       "      <th></th>\n",
       "      <th>double_character</th>\n",
       "      <th>movie_ID</th>\n",
       "    </tr>\n",
       "  </thead>\n",
       "  <tbody>\n",
       "    <tr>\n",
       "      <th>0</th>\n",
       "      <td>Stuart Little</td>\n",
       "      <td>/m/0k3w9c</td>\n",
       "    </tr>\n",
       "    <tr>\n",
       "      <th>1</th>\n",
       "      <td>Stuart Little</td>\n",
       "      <td>/m/0k3wcx</td>\n",
       "    </tr>\n",
       "    <tr>\n",
       "      <th>2</th>\n",
       "      <td>Stuart Little</td>\n",
       "      <td>/m/0k3wbn</td>\n",
       "    </tr>\n",
       "  </tbody>\n",
       "</table>\n",
       "</div>"
      ],
      "text/plain": [
       "  double_character   movie_ID\n",
       "0    Stuart Little  /m/0k3w9c\n",
       "1    Stuart Little  /m/0k3wcx\n",
       "2    Stuart Little  /m/0k3wbn"
      ]
     },
     "execution_count": 27,
     "metadata": {},
     "output_type": "execute_result"
    }
   ],
   "source": [
    "name_clusters.head(3)"
   ]
  },
  {
   "cell_type": "code",
   "execution_count": null,
   "id": "93bc6cd1",
   "metadata": {},
   "outputs": [],
   "source": []
  },
  {
   "cell_type": "code",
   "execution_count": null,
   "id": "44e7d230",
   "metadata": {},
   "outputs": [],
   "source": []
  },
  {
   "cell_type": "code",
   "execution_count": null,
   "id": "c40f3d36",
   "metadata": {},
   "outputs": [],
   "source": []
  },
  {
   "cell_type": "code",
   "execution_count": null,
   "id": "5697e085",
   "metadata": {},
   "outputs": [],
   "source": []
  },
  {
   "cell_type": "markdown",
   "id": "922ad90a",
   "metadata": {},
   "source": [
    "### Plot summaries "
   ]
  },
  {
   "cell_type": "code",
   "execution_count": 76,
   "id": "2a7f623f",
   "metadata": {},
   "outputs": [],
   "source": [
    "# download file txt, convert it into csv and store it as a dataframe in plot_summaries\n",
    "plot_summaries = pd.read_csv('./data/plot_summaries.txt', sep='\\t')\n",
    "\n",
    "# convert column header into the first row of the data frame \n",
    "plot_summaries = plot_summaries.columns.to_frame().T.append(plot_summaries, ignore_index=True)\n",
    "plot_summaries.columns = range(len(plot_summaries.columns))\n",
    "\n",
    "# name header \n",
    "plot_summaries.columns = ['Wikipedia_Movie_ID', 'plot_summary']"
   ]
  },
  {
   "cell_type": "code",
   "execution_count": 77,
   "id": "e8f7cf19",
   "metadata": {},
   "outputs": [
    {
     "data": {
      "text/html": [
       "<div>\n",
       "<style scoped>\n",
       "    .dataframe tbody tr th:only-of-type {\n",
       "        vertical-align: middle;\n",
       "    }\n",
       "\n",
       "    .dataframe tbody tr th {\n",
       "        vertical-align: top;\n",
       "    }\n",
       "\n",
       "    .dataframe thead th {\n",
       "        text-align: right;\n",
       "    }\n",
       "</style>\n",
       "<table border=\"1\" class=\"dataframe\">\n",
       "  <thead>\n",
       "    <tr style=\"text-align: right;\">\n",
       "      <th></th>\n",
       "      <th>Wikipedia_Movie_ID</th>\n",
       "      <th>plot_summary</th>\n",
       "    </tr>\n",
       "  </thead>\n",
       "  <tbody>\n",
       "    <tr>\n",
       "      <th>0</th>\n",
       "      <td>23890098</td>\n",
       "      <td>Shlykov, a hard-working taxi driver and Lyosha...</td>\n",
       "    </tr>\n",
       "    <tr>\n",
       "      <th>1</th>\n",
       "      <td>31186339</td>\n",
       "      <td>The nation of Panem consists of a wealthy Capi...</td>\n",
       "    </tr>\n",
       "    <tr>\n",
       "      <th>2</th>\n",
       "      <td>20663735</td>\n",
       "      <td>Poovalli Induchoodan  is sentenced for six yea...</td>\n",
       "    </tr>\n",
       "  </tbody>\n",
       "</table>\n",
       "</div>"
      ],
      "text/plain": [
       "  Wikipedia_Movie_ID                                       plot_summary\n",
       "0           23890098  Shlykov, a hard-working taxi driver and Lyosha...\n",
       "1           31186339  The nation of Panem consists of a wealthy Capi...\n",
       "2           20663735  Poovalli Induchoodan  is sentenced for six yea..."
      ]
     },
     "execution_count": 77,
     "metadata": {},
     "output_type": "execute_result"
    }
   ],
   "source": [
    "plot_summaries.head(3)"
   ]
  },
  {
   "cell_type": "code",
   "execution_count": 78,
   "id": "612b9f8a",
   "metadata": {},
   "outputs": [],
   "source": [
    "# count number of words \n",
    "def count_words_simple(x):\n",
    "    return len(x.split(\" \"))\n",
    "\n",
    "# add in the plot_summaries dataframe a column with the legth of each plot \n",
    "plot_summaries['plot_summary_words_length'] = plot_summaries['plot_summary'].apply(lambda x: count_words_simple(x))"
   ]
  },
  {
   "cell_type": "code",
   "execution_count": 82,
   "id": "44ce52d8",
   "metadata": {
    "scrolled": false
   },
   "outputs": [
    {
     "data": {
      "text/html": [
       "<div>\n",
       "<style scoped>\n",
       "    .dataframe tbody tr th:only-of-type {\n",
       "        vertical-align: middle;\n",
       "    }\n",
       "\n",
       "    .dataframe tbody tr th {\n",
       "        vertical-align: top;\n",
       "    }\n",
       "\n",
       "    .dataframe thead th {\n",
       "        text-align: right;\n",
       "    }\n",
       "</style>\n",
       "<table border=\"1\" class=\"dataframe\">\n",
       "  <thead>\n",
       "    <tr style=\"text-align: right;\">\n",
       "      <th></th>\n",
       "      <th>Wikipedia_Movie_ID</th>\n",
       "      <th>plot_summary</th>\n",
       "      <th>plot_summary_words_length</th>\n",
       "    </tr>\n",
       "  </thead>\n",
       "  <tbody>\n",
       "    <tr>\n",
       "      <th>0</th>\n",
       "      <td>23890098</td>\n",
       "      <td>Shlykov, a hard-working taxi driver and Lyosha...</td>\n",
       "      <td>25</td>\n",
       "    </tr>\n",
       "    <tr>\n",
       "      <th>1</th>\n",
       "      <td>31186339</td>\n",
       "      <td>The nation of Panem consists of a wealthy Capi...</td>\n",
       "      <td>780</td>\n",
       "    </tr>\n",
       "    <tr>\n",
       "      <th>2</th>\n",
       "      <td>20663735</td>\n",
       "      <td>Poovalli Induchoodan  is sentenced for six yea...</td>\n",
       "      <td>504</td>\n",
       "    </tr>\n",
       "  </tbody>\n",
       "</table>\n",
       "</div>"
      ],
      "text/plain": [
       "  Wikipedia_Movie_ID                                       plot_summary  \\\n",
       "0           23890098  Shlykov, a hard-working taxi driver and Lyosha...   \n",
       "1           31186339  The nation of Panem consists of a wealthy Capi...   \n",
       "2           20663735  Poovalli Induchoodan  is sentenced for six yea...   \n",
       "\n",
       "   plot_summary_words_length  \n",
       "0                         25  \n",
       "1                        780  \n",
       "2                        504  "
      ]
     },
     "execution_count": 82,
     "metadata": {},
     "output_type": "execute_result"
    }
   ],
   "source": [
    "plot_summaries.head(3)"
   ]
  },
  {
   "cell_type": "code",
   "execution_count": 83,
   "id": "ea0af77a",
   "metadata": {},
   "outputs": [
    {
     "name": "stdout",
     "output_type": "stream",
     "text": [
      "mean of the plot summaries length all movies 312.30851239864785\n"
     ]
    }
   ],
   "source": [
    "print('mean of the plot summaries length all movies', plot_summaries['plot_summary_words_length'].mean())"
   ]
  },
  {
   "cell_type": "code",
   "execution_count": 84,
   "id": "590a7588",
   "metadata": {},
   "outputs": [
    {
     "data": {
      "text/plain": [
       "Text(0, 0.5, 'Number of movies')"
      ]
     },
     "execution_count": 84,
     "metadata": {},
     "output_type": "execute_result"
    },
    {
     "data": {
      "image/png": "[encoded data removed]",
      "text/plain": [
       "<Figure size 432x288 with 1 Axes>"
      ]
     },
     "metadata": {
      "needs_background": "light"
     },
     "output_type": "display_data"
    }
   ],
   "source": [
    "#we use pandas wrapper\n",
    "plot_summaries['plot_summary_words_length'].hist(bins = 100)\n",
    "\n",
    "#alternatively, we can use matplotlib directly\n",
    "#plt.hist(movies['worldwide_gross'].values, bins = 100)\n",
    "\n",
    "plt.xlabel('plot summary length')\n",
    "plt.ylabel('Number of movies')"
   ]
  },
  {
   "cell_type": "code",
   "execution_count": 85,
   "id": "4a8e6b12",
   "metadata": {},
   "outputs": [
    {
     "data": {
      "image/png": "[encoded data removed]",
      "text/plain": [
       "<Figure size 432x288 with 1 Axes>"
      ]
     },
     "metadata": {
      "needs_background": "light"
     },
     "output_type": "display_data"
    }
   ],
   "source": [
    "plt.boxplot(plot_summaries['plot_summary_words_length'])\n",
    "plt.xticks([])\n",
    "plt.title('plot summary length');"
   ]
  },
  {
   "cell_type": "code",
   "execution_count": null,
   "id": "b733d35f",
   "metadata": {},
   "outputs": [],
   "source": []
  },
  {
   "cell_type": "code",
   "execution_count": null,
   "id": "ddc8bcba",
   "metadata": {},
   "outputs": [],
   "source": []
  },
  {
   "cell_type": "code",
   "execution_count": null,
   "id": "64af2bb9",
   "metadata": {},
   "outputs": [],
   "source": []
  }
 ],
 "metadata": {
  "kernelspec": {
   "display_name": "Python 3 (ipykernel)",
   "language": "python",
   "name": "python3"
  },
  "language_info": {
   "codemirror_mode": {
    "name": "ipython",
    "version": 3
   },
   "file_extension": ".py",
   "mimetype": "text/x-python",
   "name": "python",
   "nbconvert_exporter": "python",
   "pygments_lexer": "ipython3",
   "version": "3.9.7"
  }
 },
 "nbformat": 4,
 "nbformat_minor": 5
}
