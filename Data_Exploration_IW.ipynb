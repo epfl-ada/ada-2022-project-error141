{
 "cells": [
  {
   "cell_type": "code",
   "execution_count": 31,
   "id": "addb6c43-bb42-4371-b977-f85662b71c07",
   "metadata": {},
   "outputs": [],
   "source": [
    "import pandas as pd\n",
    "import numpy as np\n",
    "import matplotlib.pyplot as plt\n",
    "import seaborn as sns\n",
    "from datetime import date"
   ]
  },
  {
   "cell_type": "code",
   "execution_count": 32,
   "id": "1ad3c91b-aee3-4a84-9802-92e53c9a093b",
   "metadata": {},
   "outputs": [],
   "source": [
    "with open(\"Data/character.metadata.tsv\") as file:\n",
    "    character = pd.read_csv(file, delimiter=\"\\t\",header=None)"
   ]
  },
  {
   "cell_type": "code",
   "execution_count": 33,
   "id": "61fc9739-782d-4f6d-9bd5-0378e5ac2d11",
   "metadata": {},
   "outputs": [],
   "source": [
    "character.columns =['Wikipedia Movie ID', 'Freebase Movie ID', 'Movie release date','Character Name', \n",
    "                    'Actor DOB','Actor gender', 'Actor height', 'Actor ethnicity', 'Actor Name','Actor age at movie release',\n",
    "                    'Freebase character/actor map','Freebase character ID','Freebase actor ID' ]"
   ]
  },
  {
   "cell_type": "code",
   "execution_count": 34,
   "id": "a315e16c-81dd-4897-9fa6-9695f1e97bb2",
   "metadata": {
    "tags": []
   },
   "outputs": [
    {
     "data": {
      "text/html": [
       "<div>\n",
       "<style scoped>\n",
       "    .dataframe tbody tr th:only-of-type {\n",
       "        vertical-align: middle;\n",
       "    }\n",
       "\n",
       "    .dataframe tbody tr th {\n",
       "        vertical-align: top;\n",
       "    }\n",
       "\n",
       "    .dataframe thead th {\n",
       "        text-align: right;\n",
       "    }\n",
       "</style>\n",
       "<table border=\"1\" class=\"dataframe\">\n",
       "  <thead>\n",
       "    <tr style=\"text-align: right;\">\n",
       "      <th></th>\n",
       "      <th>Wikipedia Movie ID</th>\n",
       "      <th>Freebase Movie ID</th>\n",
       "      <th>Movie release date</th>\n",
       "      <th>Character Name</th>\n",
       "      <th>Actor DOB</th>\n",
       "      <th>Actor gender</th>\n",
       "      <th>Actor height</th>\n",
       "      <th>Actor ethnicity</th>\n",
       "      <th>Actor Name</th>\n",
       "      <th>Actor age at movie release</th>\n",
       "      <th>Freebase character/actor map</th>\n",
       "      <th>Freebase character ID</th>\n",
       "      <th>Freebase actor ID</th>\n",
       "    </tr>\n",
       "  </thead>\n",
       "  <tbody>\n",
       "    <tr>\n",
       "      <th>0</th>\n",
       "      <td>975900</td>\n",
       "      <td>/m/03vyhn</td>\n",
       "      <td>2001-08-24</td>\n",
       "      <td>Akooshay</td>\n",
       "      <td>1958-08-26</td>\n",
       "      <td>F</td>\n",
       "      <td>1.620</td>\n",
       "      <td>NaN</td>\n",
       "      <td>Wanda De Jesus</td>\n",
       "      <td>42.0</td>\n",
       "      <td>/m/0bgchxw</td>\n",
       "      <td>/m/0bgcj3x</td>\n",
       "      <td>/m/03wcfv7</td>\n",
       "    </tr>\n",
       "    <tr>\n",
       "      <th>1</th>\n",
       "      <td>975900</td>\n",
       "      <td>/m/03vyhn</td>\n",
       "      <td>2001-08-24</td>\n",
       "      <td>Lieutenant Melanie Ballard</td>\n",
       "      <td>1974-08-15</td>\n",
       "      <td>F</td>\n",
       "      <td>1.780</td>\n",
       "      <td>/m/044038p</td>\n",
       "      <td>Natasha Henstridge</td>\n",
       "      <td>27.0</td>\n",
       "      <td>/m/0jys3m</td>\n",
       "      <td>/m/0bgchn4</td>\n",
       "      <td>/m/0346l4</td>\n",
       "    </tr>\n",
       "    <tr>\n",
       "      <th>2</th>\n",
       "      <td>975900</td>\n",
       "      <td>/m/03vyhn</td>\n",
       "      <td>2001-08-24</td>\n",
       "      <td>Desolation Williams</td>\n",
       "      <td>1969-06-15</td>\n",
       "      <td>M</td>\n",
       "      <td>1.727</td>\n",
       "      <td>/m/0x67</td>\n",
       "      <td>Ice Cube</td>\n",
       "      <td>32.0</td>\n",
       "      <td>/m/0jys3g</td>\n",
       "      <td>/m/0bgchn_</td>\n",
       "      <td>/m/01vw26l</td>\n",
       "    </tr>\n",
       "    <tr>\n",
       "      <th>3</th>\n",
       "      <td>975900</td>\n",
       "      <td>/m/03vyhn</td>\n",
       "      <td>2001-08-24</td>\n",
       "      <td>Sgt Jericho Butler</td>\n",
       "      <td>1967-09-12</td>\n",
       "      <td>M</td>\n",
       "      <td>1.750</td>\n",
       "      <td>NaN</td>\n",
       "      <td>Jason Statham</td>\n",
       "      <td>33.0</td>\n",
       "      <td>/m/02vchl6</td>\n",
       "      <td>/m/0bgchnq</td>\n",
       "      <td>/m/034hyc</td>\n",
       "    </tr>\n",
       "    <tr>\n",
       "      <th>4</th>\n",
       "      <td>975900</td>\n",
       "      <td>/m/03vyhn</td>\n",
       "      <td>2001-08-24</td>\n",
       "      <td>Bashira Kincaid</td>\n",
       "      <td>1977-09-25</td>\n",
       "      <td>F</td>\n",
       "      <td>1.650</td>\n",
       "      <td>NaN</td>\n",
       "      <td>Clea DuVall</td>\n",
       "      <td>23.0</td>\n",
       "      <td>/m/02vbb3r</td>\n",
       "      <td>/m/0bgchp9</td>\n",
       "      <td>/m/01y9xg</td>\n",
       "    </tr>\n",
       "    <tr>\n",
       "      <th>...</th>\n",
       "      <td>...</td>\n",
       "      <td>...</td>\n",
       "      <td>...</td>\n",
       "      <td>...</td>\n",
       "      <td>...</td>\n",
       "      <td>...</td>\n",
       "      <td>...</td>\n",
       "      <td>...</td>\n",
       "      <td>...</td>\n",
       "      <td>...</td>\n",
       "      <td>...</td>\n",
       "      <td>...</td>\n",
       "      <td>...</td>\n",
       "    </tr>\n",
       "    <tr>\n",
       "      <th>450664</th>\n",
       "      <td>913762</td>\n",
       "      <td>/m/03pcrp</td>\n",
       "      <td>1992-05-21</td>\n",
       "      <td>Elensh</td>\n",
       "      <td>1970-05</td>\n",
       "      <td>F</td>\n",
       "      <td>NaN</td>\n",
       "      <td>NaN</td>\n",
       "      <td>Dorothy Elias-Fahn</td>\n",
       "      <td>NaN</td>\n",
       "      <td>/m/0kr406c</td>\n",
       "      <td>/m/0kr406h</td>\n",
       "      <td>/m/0b_vcv</td>\n",
       "    </tr>\n",
       "    <tr>\n",
       "      <th>450665</th>\n",
       "      <td>913762</td>\n",
       "      <td>/m/03pcrp</td>\n",
       "      <td>1992-05-21</td>\n",
       "      <td>Hibiki</td>\n",
       "      <td>1965-04-12</td>\n",
       "      <td>M</td>\n",
       "      <td>NaN</td>\n",
       "      <td>NaN</td>\n",
       "      <td>Jonathan Fahn</td>\n",
       "      <td>27.0</td>\n",
       "      <td>/m/0kr405_</td>\n",
       "      <td>/m/0kr4090</td>\n",
       "      <td>/m/0bx7_j</td>\n",
       "    </tr>\n",
       "    <tr>\n",
       "      <th>450666</th>\n",
       "      <td>28308153</td>\n",
       "      <td>/m/0cp05t9</td>\n",
       "      <td>1957</td>\n",
       "      <td>NaN</td>\n",
       "      <td>1941-11-18</td>\n",
       "      <td>M</td>\n",
       "      <td>1.730</td>\n",
       "      <td>/m/02w7gg</td>\n",
       "      <td>David Hemmings</td>\n",
       "      <td>15.0</td>\n",
       "      <td>/m/0g8ngmc</td>\n",
       "      <td>NaN</td>\n",
       "      <td>/m/022g44</td>\n",
       "    </tr>\n",
       "    <tr>\n",
       "      <th>450667</th>\n",
       "      <td>28308153</td>\n",
       "      <td>/m/0cp05t9</td>\n",
       "      <td>1957</td>\n",
       "      <td>NaN</td>\n",
       "      <td>NaN</td>\n",
       "      <td>NaN</td>\n",
       "      <td>NaN</td>\n",
       "      <td>NaN</td>\n",
       "      <td>Roberta Paterson</td>\n",
       "      <td>NaN</td>\n",
       "      <td>/m/0g8ngmj</td>\n",
       "      <td>NaN</td>\n",
       "      <td>/m/0g8ngmm</td>\n",
       "    </tr>\n",
       "    <tr>\n",
       "      <th>450668</th>\n",
       "      <td>28308153</td>\n",
       "      <td>/m/0cp05t9</td>\n",
       "      <td>1957</td>\n",
       "      <td>NaN</td>\n",
       "      <td>NaN</td>\n",
       "      <td>NaN</td>\n",
       "      <td>NaN</td>\n",
       "      <td>NaN</td>\n",
       "      <td>John Rogers</td>\n",
       "      <td>NaN</td>\n",
       "      <td>/m/0g8ngmw</td>\n",
       "      <td>NaN</td>\n",
       "      <td>/m/0btz19d</td>\n",
       "    </tr>\n",
       "  </tbody>\n",
       "</table>\n",
       "<p>450669 rows × 13 columns</p>\n",
       "</div>"
      ],
      "text/plain": [
       "        Wikipedia Movie ID Freebase Movie ID Movie release date  \\\n",
       "0                   975900         /m/03vyhn         2001-08-24   \n",
       "1                   975900         /m/03vyhn         2001-08-24   \n",
       "2                   975900         /m/03vyhn         2001-08-24   \n",
       "3                   975900         /m/03vyhn         2001-08-24   \n",
       "4                   975900         /m/03vyhn         2001-08-24   \n",
       "...                    ...               ...                ...   \n",
       "450664              913762         /m/03pcrp         1992-05-21   \n",
       "450665              913762         /m/03pcrp         1992-05-21   \n",
       "450666            28308153        /m/0cp05t9               1957   \n",
       "450667            28308153        /m/0cp05t9               1957   \n",
       "450668            28308153        /m/0cp05t9               1957   \n",
       "\n",
       "                    Character Name   Actor DOB Actor gender  Actor height  \\\n",
       "0                         Akooshay  1958-08-26            F         1.620   \n",
       "1       Lieutenant Melanie Ballard  1974-08-15            F         1.780   \n",
       "2              Desolation Williams  1969-06-15            M         1.727   \n",
       "3               Sgt Jericho Butler  1967-09-12            M         1.750   \n",
       "4                  Bashira Kincaid  1977-09-25            F         1.650   \n",
       "...                            ...         ...          ...           ...   \n",
       "450664                      Elensh     1970-05            F           NaN   \n",
       "450665                      Hibiki  1965-04-12            M           NaN   \n",
       "450666                         NaN  1941-11-18            M         1.730   \n",
       "450667                         NaN         NaN          NaN           NaN   \n",
       "450668                         NaN         NaN          NaN           NaN   \n",
       "\n",
       "       Actor ethnicity          Actor Name  Actor age at movie release  \\\n",
       "0                  NaN      Wanda De Jesus                        42.0   \n",
       "1           /m/044038p  Natasha Henstridge                        27.0   \n",
       "2              /m/0x67            Ice Cube                        32.0   \n",
       "3                  NaN       Jason Statham                        33.0   \n",
       "4                  NaN         Clea DuVall                        23.0   \n",
       "...                ...                 ...                         ...   \n",
       "450664             NaN  Dorothy Elias-Fahn                         NaN   \n",
       "450665             NaN       Jonathan Fahn                        27.0   \n",
       "450666       /m/02w7gg      David Hemmings                        15.0   \n",
       "450667             NaN    Roberta Paterson                         NaN   \n",
       "450668             NaN         John Rogers                         NaN   \n",
       "\n",
       "       Freebase character/actor map Freebase character ID Freebase actor ID  \n",
       "0                        /m/0bgchxw            /m/0bgcj3x        /m/03wcfv7  \n",
       "1                         /m/0jys3m            /m/0bgchn4         /m/0346l4  \n",
       "2                         /m/0jys3g            /m/0bgchn_        /m/01vw26l  \n",
       "3                        /m/02vchl6            /m/0bgchnq         /m/034hyc  \n",
       "4                        /m/02vbb3r            /m/0bgchp9         /m/01y9xg  \n",
       "...                             ...                   ...               ...  \n",
       "450664                   /m/0kr406c            /m/0kr406h         /m/0b_vcv  \n",
       "450665                   /m/0kr405_            /m/0kr4090         /m/0bx7_j  \n",
       "450666                   /m/0g8ngmc                   NaN         /m/022g44  \n",
       "450667                   /m/0g8ngmj                   NaN        /m/0g8ngmm  \n",
       "450668                   /m/0g8ngmw                   NaN        /m/0btz19d  \n",
       "\n",
       "[450669 rows x 13 columns]"
      ]
     },
     "execution_count": 34,
     "metadata": {},
     "output_type": "execute_result"
    }
   ],
   "source": [
    "character.drop_duplicates()"
   ]
  },
  {
   "cell_type": "code",
   "execution_count": 35,
   "id": "9dd3ea77-75c7-4024-8665-4dea5bcd79ef",
   "metadata": {},
   "outputs": [
    {
     "data": {
      "text/html": [
       "<div>\n",
       "<style scoped>\n",
       "    .dataframe tbody tr th:only-of-type {\n",
       "        vertical-align: middle;\n",
       "    }\n",
       "\n",
       "    .dataframe tbody tr th {\n",
       "        vertical-align: top;\n",
       "    }\n",
       "\n",
       "    .dataframe thead th {\n",
       "        text-align: right;\n",
       "    }\n",
       "</style>\n",
       "<table border=\"1\" class=\"dataframe\">\n",
       "  <thead>\n",
       "    <tr style=\"text-align: right;\">\n",
       "      <th></th>\n",
       "      <th>Wikipedia Movie ID</th>\n",
       "      <th>Freebase Movie ID</th>\n",
       "      <th>Movie release date</th>\n",
       "      <th>Character Name</th>\n",
       "      <th>Actor DOB</th>\n",
       "      <th>Actor gender</th>\n",
       "      <th>Actor height</th>\n",
       "      <th>Actor ethnicity</th>\n",
       "      <th>Actor Name</th>\n",
       "      <th>Actor age at movie release</th>\n",
       "      <th>Freebase character/actor map</th>\n",
       "      <th>Freebase character ID</th>\n",
       "      <th>Freebase actor ID</th>\n",
       "    </tr>\n",
       "  </thead>\n",
       "  <tbody>\n",
       "    <tr>\n",
       "      <th>0</th>\n",
       "      <td>975900</td>\n",
       "      <td>/m/03vyhn</td>\n",
       "      <td>2001-08-24</td>\n",
       "      <td>Akooshay</td>\n",
       "      <td>1958-08-26</td>\n",
       "      <td>F</td>\n",
       "      <td>1.620</td>\n",
       "      <td>NaN</td>\n",
       "      <td>Wanda De Jesus</td>\n",
       "      <td>42.0</td>\n",
       "      <td>/m/0bgchxw</td>\n",
       "      <td>/m/0bgcj3x</td>\n",
       "      <td>/m/03wcfv7</td>\n",
       "    </tr>\n",
       "    <tr>\n",
       "      <th>1</th>\n",
       "      <td>975900</td>\n",
       "      <td>/m/03vyhn</td>\n",
       "      <td>2001-08-24</td>\n",
       "      <td>Lieutenant Melanie Ballard</td>\n",
       "      <td>1974-08-15</td>\n",
       "      <td>F</td>\n",
       "      <td>1.780</td>\n",
       "      <td>/m/044038p</td>\n",
       "      <td>Natasha Henstridge</td>\n",
       "      <td>27.0</td>\n",
       "      <td>/m/0jys3m</td>\n",
       "      <td>/m/0bgchn4</td>\n",
       "      <td>/m/0346l4</td>\n",
       "    </tr>\n",
       "    <tr>\n",
       "      <th>2</th>\n",
       "      <td>975900</td>\n",
       "      <td>/m/03vyhn</td>\n",
       "      <td>2001-08-24</td>\n",
       "      <td>Desolation Williams</td>\n",
       "      <td>1969-06-15</td>\n",
       "      <td>M</td>\n",
       "      <td>1.727</td>\n",
       "      <td>/m/0x67</td>\n",
       "      <td>Ice Cube</td>\n",
       "      <td>32.0</td>\n",
       "      <td>/m/0jys3g</td>\n",
       "      <td>/m/0bgchn_</td>\n",
       "      <td>/m/01vw26l</td>\n",
       "    </tr>\n",
       "    <tr>\n",
       "      <th>3</th>\n",
       "      <td>975900</td>\n",
       "      <td>/m/03vyhn</td>\n",
       "      <td>2001-08-24</td>\n",
       "      <td>Sgt Jericho Butler</td>\n",
       "      <td>1967-09-12</td>\n",
       "      <td>M</td>\n",
       "      <td>1.750</td>\n",
       "      <td>NaN</td>\n",
       "      <td>Jason Statham</td>\n",
       "      <td>33.0</td>\n",
       "      <td>/m/02vchl6</td>\n",
       "      <td>/m/0bgchnq</td>\n",
       "      <td>/m/034hyc</td>\n",
       "    </tr>\n",
       "    <tr>\n",
       "      <th>4</th>\n",
       "      <td>975900</td>\n",
       "      <td>/m/03vyhn</td>\n",
       "      <td>2001-08-24</td>\n",
       "      <td>Bashira Kincaid</td>\n",
       "      <td>1977-09-25</td>\n",
       "      <td>F</td>\n",
       "      <td>1.650</td>\n",
       "      <td>NaN</td>\n",
       "      <td>Clea DuVall</td>\n",
       "      <td>23.0</td>\n",
       "      <td>/m/02vbb3r</td>\n",
       "      <td>/m/0bgchp9</td>\n",
       "      <td>/m/01y9xg</td>\n",
       "    </tr>\n",
       "  </tbody>\n",
       "</table>\n",
       "</div>"
      ],
      "text/plain": [
       "   Wikipedia Movie ID Freebase Movie ID Movie release date  \\\n",
       "0              975900         /m/03vyhn         2001-08-24   \n",
       "1              975900         /m/03vyhn         2001-08-24   \n",
       "2              975900         /m/03vyhn         2001-08-24   \n",
       "3              975900         /m/03vyhn         2001-08-24   \n",
       "4              975900         /m/03vyhn         2001-08-24   \n",
       "\n",
       "               Character Name   Actor DOB Actor gender  Actor height  \\\n",
       "0                    Akooshay  1958-08-26            F         1.620   \n",
       "1  Lieutenant Melanie Ballard  1974-08-15            F         1.780   \n",
       "2         Desolation Williams  1969-06-15            M         1.727   \n",
       "3          Sgt Jericho Butler  1967-09-12            M         1.750   \n",
       "4             Bashira Kincaid  1977-09-25            F         1.650   \n",
       "\n",
       "  Actor ethnicity          Actor Name  Actor age at movie release  \\\n",
       "0             NaN      Wanda De Jesus                        42.0   \n",
       "1      /m/044038p  Natasha Henstridge                        27.0   \n",
       "2         /m/0x67            Ice Cube                        32.0   \n",
       "3             NaN       Jason Statham                        33.0   \n",
       "4             NaN         Clea DuVall                        23.0   \n",
       "\n",
       "  Freebase character/actor map Freebase character ID Freebase actor ID  \n",
       "0                   /m/0bgchxw            /m/0bgcj3x        /m/03wcfv7  \n",
       "1                    /m/0jys3m            /m/0bgchn4         /m/0346l4  \n",
       "2                    /m/0jys3g            /m/0bgchn_        /m/01vw26l  \n",
       "3                   /m/02vchl6            /m/0bgchnq         /m/034hyc  \n",
       "4                   /m/02vbb3r            /m/0bgchp9         /m/01y9xg  "
      ]
     },
     "execution_count": 35,
     "metadata": {},
     "output_type": "execute_result"
    }
   ],
   "source": [
    "character.head()"
   ]
  },
  {
   "cell_type": "code",
   "execution_count": 36,
   "id": "032ab08e-e083-4269-80d2-f20e406256bc",
   "metadata": {},
   "outputs": [],
   "source": [
    "with open(\"Data/movie.metadata.tsv\") as file:\n",
    "    movie = pd.read_csv(file, delimiter=\"\\t\",header=None)"
   ]
  },
  {
   "cell_type": "code",
   "execution_count": 37,
   "id": "28aab58e-ec27-45c8-9e55-fd2c9de80ac2",
   "metadata": {},
   "outputs": [],
   "source": [
    "movie.columns =['Wikipedia Movie ID', 'Freebase Movie ID', 'Movie name','Movie release date', \n",
    "                'Movie box office revenue','Movie runtime', 'Movie languages', 'Movie countries', \n",
    "                'Movie genres']"
   ]
  },
  {
   "cell_type": "code",
   "execution_count": 38,
   "id": "dfdc78a2-8018-4dbd-b076-6a9a0831a6cb",
   "metadata": {},
   "outputs": [
    {
     "data": {
      "text/html": [
       "<div>\n",
       "<style scoped>\n",
       "    .dataframe tbody tr th:only-of-type {\n",
       "        vertical-align: middle;\n",
       "    }\n",
       "\n",
       "    .dataframe tbody tr th {\n",
       "        vertical-align: top;\n",
       "    }\n",
       "\n",
       "    .dataframe thead th {\n",
       "        text-align: right;\n",
       "    }\n",
       "</style>\n",
       "<table border=\"1\" class=\"dataframe\">\n",
       "  <thead>\n",
       "    <tr style=\"text-align: right;\">\n",
       "      <th></th>\n",
       "      <th>Wikipedia Movie ID</th>\n",
       "      <th>Freebase Movie ID</th>\n",
       "      <th>Movie name</th>\n",
       "      <th>Movie release date</th>\n",
       "      <th>Movie box office revenue</th>\n",
       "      <th>Movie runtime</th>\n",
       "      <th>Movie languages</th>\n",
       "      <th>Movie countries</th>\n",
       "      <th>Movie genres</th>\n",
       "    </tr>\n",
       "  </thead>\n",
       "  <tbody>\n",
       "    <tr>\n",
       "      <th>0</th>\n",
       "      <td>975900</td>\n",
       "      <td>/m/03vyhn</td>\n",
       "      <td>Ghosts of Mars</td>\n",
       "      <td>2001-08-24</td>\n",
       "      <td>14010832.0</td>\n",
       "      <td>98.0</td>\n",
       "      <td>{\"/m/02h40lc\": \"English Language\"}</td>\n",
       "      <td>{\"/m/09c7w0\": \"United States of America\"}</td>\n",
       "      <td>{\"/m/01jfsb\": \"Thriller\", \"/m/06n90\": \"Science...</td>\n",
       "    </tr>\n",
       "    <tr>\n",
       "      <th>1</th>\n",
       "      <td>3196793</td>\n",
       "      <td>/m/08yl5d</td>\n",
       "      <td>Getting Away with Murder: The JonBenét Ramsey ...</td>\n",
       "      <td>2000-02-16</td>\n",
       "      <td>NaN</td>\n",
       "      <td>95.0</td>\n",
       "      <td>{\"/m/02h40lc\": \"English Language\"}</td>\n",
       "      <td>{\"/m/09c7w0\": \"United States of America\"}</td>\n",
       "      <td>{\"/m/02n4kr\": \"Mystery\", \"/m/03bxz7\": \"Biograp...</td>\n",
       "    </tr>\n",
       "    <tr>\n",
       "      <th>2</th>\n",
       "      <td>28463795</td>\n",
       "      <td>/m/0crgdbh</td>\n",
       "      <td>Brun bitter</td>\n",
       "      <td>1988</td>\n",
       "      <td>NaN</td>\n",
       "      <td>83.0</td>\n",
       "      <td>{\"/m/05f_3\": \"Norwegian Language\"}</td>\n",
       "      <td>{\"/m/05b4w\": \"Norway\"}</td>\n",
       "      <td>{\"/m/0lsxr\": \"Crime Fiction\", \"/m/07s9rl0\": \"D...</td>\n",
       "    </tr>\n",
       "    <tr>\n",
       "      <th>3</th>\n",
       "      <td>9363483</td>\n",
       "      <td>/m/0285_cd</td>\n",
       "      <td>White Of The Eye</td>\n",
       "      <td>1987</td>\n",
       "      <td>NaN</td>\n",
       "      <td>110.0</td>\n",
       "      <td>{\"/m/02h40lc\": \"English Language\"}</td>\n",
       "      <td>{\"/m/07ssc\": \"United Kingdom\"}</td>\n",
       "      <td>{\"/m/01jfsb\": \"Thriller\", \"/m/0glj9q\": \"Erotic...</td>\n",
       "    </tr>\n",
       "    <tr>\n",
       "      <th>4</th>\n",
       "      <td>261236</td>\n",
       "      <td>/m/01mrr1</td>\n",
       "      <td>A Woman in Flames</td>\n",
       "      <td>1983</td>\n",
       "      <td>NaN</td>\n",
       "      <td>106.0</td>\n",
       "      <td>{\"/m/04306rv\": \"German Language\"}</td>\n",
       "      <td>{\"/m/0345h\": \"Germany\"}</td>\n",
       "      <td>{\"/m/07s9rl0\": \"Drama\"}</td>\n",
       "    </tr>\n",
       "    <tr>\n",
       "      <th>...</th>\n",
       "      <td>...</td>\n",
       "      <td>...</td>\n",
       "      <td>...</td>\n",
       "      <td>...</td>\n",
       "      <td>...</td>\n",
       "      <td>...</td>\n",
       "      <td>...</td>\n",
       "      <td>...</td>\n",
       "      <td>...</td>\n",
       "    </tr>\n",
       "    <tr>\n",
       "      <th>81736</th>\n",
       "      <td>35228177</td>\n",
       "      <td>/m/0j7hxnt</td>\n",
       "      <td>Mermaids: The Body Found</td>\n",
       "      <td>2011-03-19</td>\n",
       "      <td>NaN</td>\n",
       "      <td>120.0</td>\n",
       "      <td>{\"/m/02h40lc\": \"English Language\"}</td>\n",
       "      <td>{\"/m/09c7w0\": \"United States of America\"}</td>\n",
       "      <td>{\"/m/07s9rl0\": \"Drama\"}</td>\n",
       "    </tr>\n",
       "    <tr>\n",
       "      <th>81737</th>\n",
       "      <td>34980460</td>\n",
       "      <td>/m/0g4pl34</td>\n",
       "      <td>Knuckle</td>\n",
       "      <td>2011-01-21</td>\n",
       "      <td>NaN</td>\n",
       "      <td>96.0</td>\n",
       "      <td>{\"/m/02h40lc\": \"English Language\"}</td>\n",
       "      <td>{\"/m/03rt9\": \"Ireland\", \"/m/07ssc\": \"United Ki...</td>\n",
       "      <td>{\"/m/03bxz7\": \"Biographical film\", \"/m/07s9rl0...</td>\n",
       "    </tr>\n",
       "    <tr>\n",
       "      <th>81738</th>\n",
       "      <td>9971909</td>\n",
       "      <td>/m/02pygw1</td>\n",
       "      <td>Another Nice Mess</td>\n",
       "      <td>1972-09-22</td>\n",
       "      <td>NaN</td>\n",
       "      <td>66.0</td>\n",
       "      <td>{\"/m/02h40lc\": \"English Language\"}</td>\n",
       "      <td>{\"/m/09c7w0\": \"United States of America\"}</td>\n",
       "      <td>{\"/m/06nbt\": \"Satire\", \"/m/01z4y\": \"Comedy\"}</td>\n",
       "    </tr>\n",
       "    <tr>\n",
       "      <th>81739</th>\n",
       "      <td>913762</td>\n",
       "      <td>/m/03pcrp</td>\n",
       "      <td>The Super Dimension Fortress Macross II: Lover...</td>\n",
       "      <td>1992-05-21</td>\n",
       "      <td>NaN</td>\n",
       "      <td>150.0</td>\n",
       "      <td>{\"/m/03_9r\": \"Japanese Language\"}</td>\n",
       "      <td>{\"/m/03_3d\": \"Japan\"}</td>\n",
       "      <td>{\"/m/06n90\": \"Science Fiction\", \"/m/0gw5n2f\": ...</td>\n",
       "    </tr>\n",
       "    <tr>\n",
       "      <th>81740</th>\n",
       "      <td>12476867</td>\n",
       "      <td>/m/02w7zz8</td>\n",
       "      <td>Spliced</td>\n",
       "      <td>2002</td>\n",
       "      <td>NaN</td>\n",
       "      <td>86.0</td>\n",
       "      <td>{\"/m/02h40lc\": \"English Language\"}</td>\n",
       "      <td>{\"/m/0d060g\": \"Canada\"}</td>\n",
       "      <td>{\"/m/01jfsb\": \"Thriller\", \"/m/03npn\": \"Horror\"...</td>\n",
       "    </tr>\n",
       "  </tbody>\n",
       "</table>\n",
       "<p>81741 rows × 9 columns</p>\n",
       "</div>"
      ],
      "text/plain": [
       "       Wikipedia Movie ID Freebase Movie ID  \\\n",
       "0                  975900         /m/03vyhn   \n",
       "1                 3196793         /m/08yl5d   \n",
       "2                28463795        /m/0crgdbh   \n",
       "3                 9363483        /m/0285_cd   \n",
       "4                  261236         /m/01mrr1   \n",
       "...                   ...               ...   \n",
       "81736            35228177        /m/0j7hxnt   \n",
       "81737            34980460        /m/0g4pl34   \n",
       "81738             9971909        /m/02pygw1   \n",
       "81739              913762         /m/03pcrp   \n",
       "81740            12476867        /m/02w7zz8   \n",
       "\n",
       "                                              Movie name Movie release date  \\\n",
       "0                                         Ghosts of Mars         2001-08-24   \n",
       "1      Getting Away with Murder: The JonBenét Ramsey ...         2000-02-16   \n",
       "2                                            Brun bitter               1988   \n",
       "3                                       White Of The Eye               1987   \n",
       "4                                      A Woman in Flames               1983   \n",
       "...                                                  ...                ...   \n",
       "81736                           Mermaids: The Body Found         2011-03-19   \n",
       "81737                                            Knuckle         2011-01-21   \n",
       "81738                                  Another Nice Mess         1972-09-22   \n",
       "81739  The Super Dimension Fortress Macross II: Lover...         1992-05-21   \n",
       "81740                                            Spliced               2002   \n",
       "\n",
       "       Movie box office revenue  Movie runtime  \\\n",
       "0                    14010832.0           98.0   \n",
       "1                           NaN           95.0   \n",
       "2                           NaN           83.0   \n",
       "3                           NaN          110.0   \n",
       "4                           NaN          106.0   \n",
       "...                         ...            ...   \n",
       "81736                       NaN          120.0   \n",
       "81737                       NaN           96.0   \n",
       "81738                       NaN           66.0   \n",
       "81739                       NaN          150.0   \n",
       "81740                       NaN           86.0   \n",
       "\n",
       "                          Movie languages  \\\n",
       "0      {\"/m/02h40lc\": \"English Language\"}   \n",
       "1      {\"/m/02h40lc\": \"English Language\"}   \n",
       "2      {\"/m/05f_3\": \"Norwegian Language\"}   \n",
       "3      {\"/m/02h40lc\": \"English Language\"}   \n",
       "4       {\"/m/04306rv\": \"German Language\"}   \n",
       "...                                   ...   \n",
       "81736  {\"/m/02h40lc\": \"English Language\"}   \n",
       "81737  {\"/m/02h40lc\": \"English Language\"}   \n",
       "81738  {\"/m/02h40lc\": \"English Language\"}   \n",
       "81739   {\"/m/03_9r\": \"Japanese Language\"}   \n",
       "81740  {\"/m/02h40lc\": \"English Language\"}   \n",
       "\n",
       "                                         Movie countries  \\\n",
       "0              {\"/m/09c7w0\": \"United States of America\"}   \n",
       "1              {\"/m/09c7w0\": \"United States of America\"}   \n",
       "2                                 {\"/m/05b4w\": \"Norway\"}   \n",
       "3                         {\"/m/07ssc\": \"United Kingdom\"}   \n",
       "4                                {\"/m/0345h\": \"Germany\"}   \n",
       "...                                                  ...   \n",
       "81736          {\"/m/09c7w0\": \"United States of America\"}   \n",
       "81737  {\"/m/03rt9\": \"Ireland\", \"/m/07ssc\": \"United Ki...   \n",
       "81738          {\"/m/09c7w0\": \"United States of America\"}   \n",
       "81739                              {\"/m/03_3d\": \"Japan\"}   \n",
       "81740                            {\"/m/0d060g\": \"Canada\"}   \n",
       "\n",
       "                                            Movie genres  \n",
       "0      {\"/m/01jfsb\": \"Thriller\", \"/m/06n90\": \"Science...  \n",
       "1      {\"/m/02n4kr\": \"Mystery\", \"/m/03bxz7\": \"Biograp...  \n",
       "2      {\"/m/0lsxr\": \"Crime Fiction\", \"/m/07s9rl0\": \"D...  \n",
       "3      {\"/m/01jfsb\": \"Thriller\", \"/m/0glj9q\": \"Erotic...  \n",
       "4                                {\"/m/07s9rl0\": \"Drama\"}  \n",
       "...                                                  ...  \n",
       "81736                            {\"/m/07s9rl0\": \"Drama\"}  \n",
       "81737  {\"/m/03bxz7\": \"Biographical film\", \"/m/07s9rl0...  \n",
       "81738       {\"/m/06nbt\": \"Satire\", \"/m/01z4y\": \"Comedy\"}  \n",
       "81739  {\"/m/06n90\": \"Science Fiction\", \"/m/0gw5n2f\": ...  \n",
       "81740  {\"/m/01jfsb\": \"Thriller\", \"/m/03npn\": \"Horror\"...  \n",
       "\n",
       "[81741 rows x 9 columns]"
      ]
     },
     "execution_count": 38,
     "metadata": {},
     "output_type": "execute_result"
    }
   ],
   "source": [
    "movie.drop_duplicates()"
   ]
  },
  {
   "cell_type": "code",
   "execution_count": 39,
   "id": "79338e07-aafa-4fef-beae-19fdb786312f",
   "metadata": {},
   "outputs": [
    {
     "data": {
      "text/html": [
       "<div>\n",
       "<style scoped>\n",
       "    .dataframe tbody tr th:only-of-type {\n",
       "        vertical-align: middle;\n",
       "    }\n",
       "\n",
       "    .dataframe tbody tr th {\n",
       "        vertical-align: top;\n",
       "    }\n",
       "\n",
       "    .dataframe thead th {\n",
       "        text-align: right;\n",
       "    }\n",
       "</style>\n",
       "<table border=\"1\" class=\"dataframe\">\n",
       "  <thead>\n",
       "    <tr style=\"text-align: right;\">\n",
       "      <th></th>\n",
       "      <th>Wikipedia Movie ID</th>\n",
       "      <th>Freebase Movie ID</th>\n",
       "      <th>Movie name</th>\n",
       "      <th>Movie release date</th>\n",
       "      <th>Movie box office revenue</th>\n",
       "      <th>Movie runtime</th>\n",
       "      <th>Movie languages</th>\n",
       "      <th>Movie countries</th>\n",
       "      <th>Movie genres</th>\n",
       "    </tr>\n",
       "  </thead>\n",
       "  <tbody>\n",
       "    <tr>\n",
       "      <th>0</th>\n",
       "      <td>975900</td>\n",
       "      <td>/m/03vyhn</td>\n",
       "      <td>Ghosts of Mars</td>\n",
       "      <td>2001-08-24</td>\n",
       "      <td>14010832.0</td>\n",
       "      <td>98.0</td>\n",
       "      <td>{\"/m/02h40lc\": \"English Language\"}</td>\n",
       "      <td>{\"/m/09c7w0\": \"United States of America\"}</td>\n",
       "      <td>{\"/m/01jfsb\": \"Thriller\", \"/m/06n90\": \"Science...</td>\n",
       "    </tr>\n",
       "    <tr>\n",
       "      <th>1</th>\n",
       "      <td>3196793</td>\n",
       "      <td>/m/08yl5d</td>\n",
       "      <td>Getting Away with Murder: The JonBenét Ramsey ...</td>\n",
       "      <td>2000-02-16</td>\n",
       "      <td>NaN</td>\n",
       "      <td>95.0</td>\n",
       "      <td>{\"/m/02h40lc\": \"English Language\"}</td>\n",
       "      <td>{\"/m/09c7w0\": \"United States of America\"}</td>\n",
       "      <td>{\"/m/02n4kr\": \"Mystery\", \"/m/03bxz7\": \"Biograp...</td>\n",
       "    </tr>\n",
       "    <tr>\n",
       "      <th>2</th>\n",
       "      <td>28463795</td>\n",
       "      <td>/m/0crgdbh</td>\n",
       "      <td>Brun bitter</td>\n",
       "      <td>1988</td>\n",
       "      <td>NaN</td>\n",
       "      <td>83.0</td>\n",
       "      <td>{\"/m/05f_3\": \"Norwegian Language\"}</td>\n",
       "      <td>{\"/m/05b4w\": \"Norway\"}</td>\n",
       "      <td>{\"/m/0lsxr\": \"Crime Fiction\", \"/m/07s9rl0\": \"D...</td>\n",
       "    </tr>\n",
       "    <tr>\n",
       "      <th>3</th>\n",
       "      <td>9363483</td>\n",
       "      <td>/m/0285_cd</td>\n",
       "      <td>White Of The Eye</td>\n",
       "      <td>1987</td>\n",
       "      <td>NaN</td>\n",
       "      <td>110.0</td>\n",
       "      <td>{\"/m/02h40lc\": \"English Language\"}</td>\n",
       "      <td>{\"/m/07ssc\": \"United Kingdom\"}</td>\n",
       "      <td>{\"/m/01jfsb\": \"Thriller\", \"/m/0glj9q\": \"Erotic...</td>\n",
       "    </tr>\n",
       "    <tr>\n",
       "      <th>4</th>\n",
       "      <td>261236</td>\n",
       "      <td>/m/01mrr1</td>\n",
       "      <td>A Woman in Flames</td>\n",
       "      <td>1983</td>\n",
       "      <td>NaN</td>\n",
       "      <td>106.0</td>\n",
       "      <td>{\"/m/04306rv\": \"German Language\"}</td>\n",
       "      <td>{\"/m/0345h\": \"Germany\"}</td>\n",
       "      <td>{\"/m/07s9rl0\": \"Drama\"}</td>\n",
       "    </tr>\n",
       "  </tbody>\n",
       "</table>\n",
       "</div>"
      ],
      "text/plain": [
       "   Wikipedia Movie ID Freebase Movie ID  \\\n",
       "0              975900         /m/03vyhn   \n",
       "1             3196793         /m/08yl5d   \n",
       "2            28463795        /m/0crgdbh   \n",
       "3             9363483        /m/0285_cd   \n",
       "4              261236         /m/01mrr1   \n",
       "\n",
       "                                          Movie name Movie release date  \\\n",
       "0                                     Ghosts of Mars         2001-08-24   \n",
       "1  Getting Away with Murder: The JonBenét Ramsey ...         2000-02-16   \n",
       "2                                        Brun bitter               1988   \n",
       "3                                   White Of The Eye               1987   \n",
       "4                                  A Woman in Flames               1983   \n",
       "\n",
       "   Movie box office revenue  Movie runtime  \\\n",
       "0                14010832.0           98.0   \n",
       "1                       NaN           95.0   \n",
       "2                       NaN           83.0   \n",
       "3                       NaN          110.0   \n",
       "4                       NaN          106.0   \n",
       "\n",
       "                      Movie languages  \\\n",
       "0  {\"/m/02h40lc\": \"English Language\"}   \n",
       "1  {\"/m/02h40lc\": \"English Language\"}   \n",
       "2  {\"/m/05f_3\": \"Norwegian Language\"}   \n",
       "3  {\"/m/02h40lc\": \"English Language\"}   \n",
       "4   {\"/m/04306rv\": \"German Language\"}   \n",
       "\n",
       "                             Movie countries  \\\n",
       "0  {\"/m/09c7w0\": \"United States of America\"}   \n",
       "1  {\"/m/09c7w0\": \"United States of America\"}   \n",
       "2                     {\"/m/05b4w\": \"Norway\"}   \n",
       "3             {\"/m/07ssc\": \"United Kingdom\"}   \n",
       "4                    {\"/m/0345h\": \"Germany\"}   \n",
       "\n",
       "                                        Movie genres  \n",
       "0  {\"/m/01jfsb\": \"Thriller\", \"/m/06n90\": \"Science...  \n",
       "1  {\"/m/02n4kr\": \"Mystery\", \"/m/03bxz7\": \"Biograp...  \n",
       "2  {\"/m/0lsxr\": \"Crime Fiction\", \"/m/07s9rl0\": \"D...  \n",
       "3  {\"/m/01jfsb\": \"Thriller\", \"/m/0glj9q\": \"Erotic...  \n",
       "4                            {\"/m/07s9rl0\": \"Drama\"}  "
      ]
     },
     "execution_count": 39,
     "metadata": {},
     "output_type": "execute_result"
    }
   ],
   "source": [
    "movie.head()"
   ]
  },
  {
   "cell_type": "code",
   "execution_count": 40,
   "id": "f3e2b4f2-c34c-442e-8e8e-da15c18856d2",
   "metadata": {},
   "outputs": [],
   "source": [
    "with open(\"Data/title.ratings.tsv\") as file:\n",
    "    title = pd.read_csv(file, delimiter=\"\\t\")"
   ]
  },
  {
   "cell_type": "code",
   "execution_count": 41,
   "id": "e3e3b08c-4c2b-45d7-8cbb-b3b7d44c82c5",
   "metadata": {},
   "outputs": [
    {
     "data": {
      "text/html": [
       "<div>\n",
       "<style scoped>\n",
       "    .dataframe tbody tr th:only-of-type {\n",
       "        vertical-align: middle;\n",
       "    }\n",
       "\n",
       "    .dataframe tbody tr th {\n",
       "        vertical-align: top;\n",
       "    }\n",
       "\n",
       "    .dataframe thead th {\n",
       "        text-align: right;\n",
       "    }\n",
       "</style>\n",
       "<table border=\"1\" class=\"dataframe\">\n",
       "  <thead>\n",
       "    <tr style=\"text-align: right;\">\n",
       "      <th></th>\n",
       "      <th>tconst</th>\n",
       "      <th>averageRating</th>\n",
       "      <th>numVotes</th>\n",
       "    </tr>\n",
       "  </thead>\n",
       "  <tbody>\n",
       "    <tr>\n",
       "      <th>0</th>\n",
       "      <td>tt0000001</td>\n",
       "      <td>5.7</td>\n",
       "      <td>1917</td>\n",
       "    </tr>\n",
       "    <tr>\n",
       "      <th>1</th>\n",
       "      <td>tt0000002</td>\n",
       "      <td>5.8</td>\n",
       "      <td>260</td>\n",
       "    </tr>\n",
       "    <tr>\n",
       "      <th>2</th>\n",
       "      <td>tt0000003</td>\n",
       "      <td>6.5</td>\n",
       "      <td>1725</td>\n",
       "    </tr>\n",
       "    <tr>\n",
       "      <th>3</th>\n",
       "      <td>tt0000004</td>\n",
       "      <td>5.6</td>\n",
       "      <td>173</td>\n",
       "    </tr>\n",
       "    <tr>\n",
       "      <th>4</th>\n",
       "      <td>tt0000005</td>\n",
       "      <td>6.2</td>\n",
       "      <td>2541</td>\n",
       "    </tr>\n",
       "  </tbody>\n",
       "</table>\n",
       "</div>"
      ],
      "text/plain": [
       "      tconst  averageRating  numVotes\n",
       "0  tt0000001            5.7      1917\n",
       "1  tt0000002            5.8       260\n",
       "2  tt0000003            6.5      1725\n",
       "3  tt0000004            5.6       173\n",
       "4  tt0000005            6.2      2541"
      ]
     },
     "execution_count": 41,
     "metadata": {},
     "output_type": "execute_result"
    }
   ],
   "source": [
    "title.head()"
   ]
  },
  {
   "cell_type": "code",
   "execution_count": 42,
   "id": "402390dd-4fb4-4123-86a9-a22a8d890335",
   "metadata": {},
   "outputs": [],
   "source": [
    "#Create a dataFrame with only the Movie release date and drop the rows with NaN \n",
    "mv = pd.DataFrame(movie, columns =['Movie release date'])\n",
    "mv = mv.dropna()"
   ]
  },
  {
   "cell_type": "code",
   "execution_count": 43,
   "id": "a6a0ba54-f1ce-4853-a00a-4ac906c0e935",
   "metadata": {},
   "outputs": [
    {
     "data": {
      "text/plain": [
       "74839"
      ]
     },
     "execution_count": 43,
     "metadata": {},
     "output_type": "execute_result"
    }
   ],
   "source": [
    "len(mv)"
   ]
  },
  {
   "cell_type": "code",
   "execution_count": 44,
   "id": "e5fc6a53-0dc0-435c-8565-1593ff4c7b41",
   "metadata": {},
   "outputs": [],
   "source": [
    "time = pd.DataFrame(movie, columns =['Movie runtime'])\n",
    "time = time.dropna()\n"
   ]
  },
  {
   "cell_type": "code",
   "execution_count": 45,
   "id": "53f7bfab-14ac-4afa-8b65-318e58486254",
   "metadata": {},
   "outputs": [
    {
     "data": {
      "text/html": [
       "<div>\n",
       "<style scoped>\n",
       "    .dataframe tbody tr th:only-of-type {\n",
       "        vertical-align: middle;\n",
       "    }\n",
       "\n",
       "    .dataframe tbody tr th {\n",
       "        vertical-align: top;\n",
       "    }\n",
       "\n",
       "    .dataframe thead th {\n",
       "        text-align: right;\n",
       "    }\n",
       "</style>\n",
       "<table border=\"1\" class=\"dataframe\">\n",
       "  <thead>\n",
       "    <tr style=\"text-align: right;\">\n",
       "      <th></th>\n",
       "      <th>Movie runtime</th>\n",
       "    </tr>\n",
       "  </thead>\n",
       "  <tbody>\n",
       "    <tr>\n",
       "      <th>0</th>\n",
       "      <td>98.0</td>\n",
       "    </tr>\n",
       "    <tr>\n",
       "      <th>1</th>\n",
       "      <td>95.0</td>\n",
       "    </tr>\n",
       "    <tr>\n",
       "      <th>2</th>\n",
       "      <td>83.0</td>\n",
       "    </tr>\n",
       "    <tr>\n",
       "      <th>3</th>\n",
       "      <td>110.0</td>\n",
       "    </tr>\n",
       "    <tr>\n",
       "      <th>4</th>\n",
       "      <td>106.0</td>\n",
       "    </tr>\n",
       "    <tr>\n",
       "      <th>...</th>\n",
       "      <td>...</td>\n",
       "    </tr>\n",
       "    <tr>\n",
       "      <th>81736</th>\n",
       "      <td>120.0</td>\n",
       "    </tr>\n",
       "    <tr>\n",
       "      <th>81737</th>\n",
       "      <td>96.0</td>\n",
       "    </tr>\n",
       "    <tr>\n",
       "      <th>81738</th>\n",
       "      <td>66.0</td>\n",
       "    </tr>\n",
       "    <tr>\n",
       "      <th>81739</th>\n",
       "      <td>150.0</td>\n",
       "    </tr>\n",
       "    <tr>\n",
       "      <th>81740</th>\n",
       "      <td>86.0</td>\n",
       "    </tr>\n",
       "  </tbody>\n",
       "</table>\n",
       "<p>61291 rows × 1 columns</p>\n",
       "</div>"
      ],
      "text/plain": [
       "       Movie runtime\n",
       "0               98.0\n",
       "1               95.0\n",
       "2               83.0\n",
       "3              110.0\n",
       "4              106.0\n",
       "...              ...\n",
       "81736          120.0\n",
       "81737           96.0\n",
       "81738           66.0\n",
       "81739          150.0\n",
       "81740           86.0\n",
       "\n",
       "[61291 rows x 1 columns]"
      ]
     },
     "execution_count": 45,
     "metadata": {},
     "output_type": "execute_result"
    }
   ],
   "source": [
    "time"
   ]
  },
  {
   "cell_type": "code",
   "execution_count": 46,
   "id": "ed8986d9-f8bc-4a8c-a655-d75979aed6cb",
   "metadata": {},
   "outputs": [
    {
     "data": {
      "text/plain": [
       "81741"
      ]
     },
     "execution_count": 46,
     "metadata": {},
     "output_type": "execute_result"
    }
   ],
   "source": [
    "len(movie)"
   ]
  },
  {
   "cell_type": "code",
   "execution_count": 47,
   "id": "4ec19e7e-14d4-4f15-b770-e78646ffe25b",
   "metadata": {},
   "outputs": [
    {
     "data": {
      "text/plain": [
       "61291"
      ]
     },
     "execution_count": 47,
     "metadata": {},
     "output_type": "execute_result"
    }
   ],
   "source": [
    "len(time)"
   ]
  },
  {
   "cell_type": "code",
   "execution_count": 48,
   "id": "4b7ad512-f9aa-42a0-a178-c917f62ce66c",
   "metadata": {},
   "outputs": [
    {
     "data": {
      "text/html": [
       "<div>\n",
       "<style scoped>\n",
       "    .dataframe tbody tr th:only-of-type {\n",
       "        vertical-align: middle;\n",
       "    }\n",
       "\n",
       "    .dataframe tbody tr th {\n",
       "        vertical-align: top;\n",
       "    }\n",
       "\n",
       "    .dataframe thead th {\n",
       "        text-align: right;\n",
       "    }\n",
       "</style>\n",
       "<table border=\"1\" class=\"dataframe\">\n",
       "  <thead>\n",
       "    <tr style=\"text-align: right;\">\n",
       "      <th></th>\n",
       "      <th>Movie runtime</th>\n",
       "    </tr>\n",
       "  </thead>\n",
       "  <tbody>\n",
       "    <tr>\n",
       "      <th>0</th>\n",
       "      <td>98.0</td>\n",
       "    </tr>\n",
       "    <tr>\n",
       "      <th>1</th>\n",
       "      <td>95.0</td>\n",
       "    </tr>\n",
       "    <tr>\n",
       "      <th>2</th>\n",
       "      <td>83.0</td>\n",
       "    </tr>\n",
       "    <tr>\n",
       "      <th>3</th>\n",
       "      <td>110.0</td>\n",
       "    </tr>\n",
       "    <tr>\n",
       "      <th>4</th>\n",
       "      <td>106.0</td>\n",
       "    </tr>\n",
       "  </tbody>\n",
       "</table>\n",
       "</div>"
      ],
      "text/plain": [
       "   Movie runtime\n",
       "0           98.0\n",
       "1           95.0\n",
       "2           83.0\n",
       "3          110.0\n",
       "4          106.0"
      ]
     },
     "execution_count": 48,
     "metadata": {},
     "output_type": "execute_result"
    }
   ],
   "source": [
    "time.head()"
   ]
  },
  {
   "cell_type": "code",
   "execution_count": 49,
   "id": "d252a735-432f-4590-8cc5-87f7a5608c8b",
   "metadata": {},
   "outputs": [
    {
     "data": {
      "text/plain": [
       "str"
      ]
     },
     "execution_count": 49,
     "metadata": {},
     "output_type": "execute_result"
    }
   ],
   "source": [
    "type(mv['Movie release date'][0])"
   ]
  },
  {
   "cell_type": "code",
   "execution_count": 50,
   "id": "97ab2819-8194-4d37-827f-192e919060fe",
   "metadata": {},
   "outputs": [],
   "source": [
    "mv['Movie release date'] = pd.to_datetime(mv['Movie release date'],format=\"%Y-%m-%d\",errors = 'coerce')"
   ]
  },
  {
   "cell_type": "code",
   "execution_count": 51,
   "id": "ec5313cc-7b1c-44c2-85ce-d85f14f991da",
   "metadata": {},
   "outputs": [
    {
     "data": {
      "text/plain": [
       "74839"
      ]
     },
     "execution_count": 51,
     "metadata": {},
     "output_type": "execute_result"
    }
   ],
   "source": [
    "len(mv)"
   ]
  },
  {
   "cell_type": "code",
   "execution_count": 52,
   "id": "3fe27dd4-555f-427b-9f52-6bbe88ef83df",
   "metadata": {},
   "outputs": [],
   "source": [
    "mv['year'] = pd.DatetimeIndex(mv['Movie release date']).year"
   ]
  },
  {
   "cell_type": "code",
   "execution_count": 53,
   "id": "add0738a-4d26-4cd2-9a0e-e8025e4f01ce",
   "metadata": {},
   "outputs": [
    {
     "data": {
      "text/html": [
       "<div>\n",
       "<style scoped>\n",
       "    .dataframe tbody tr th:only-of-type {\n",
       "        vertical-align: middle;\n",
       "    }\n",
       "\n",
       "    .dataframe tbody tr th {\n",
       "        vertical-align: top;\n",
       "    }\n",
       "\n",
       "    .dataframe thead th {\n",
       "        text-align: right;\n",
       "    }\n",
       "</style>\n",
       "<table border=\"1\" class=\"dataframe\">\n",
       "  <thead>\n",
       "    <tr style=\"text-align: right;\">\n",
       "      <th></th>\n",
       "      <th>Movie release date</th>\n",
       "      <th>year</th>\n",
       "    </tr>\n",
       "  </thead>\n",
       "  <tbody>\n",
       "    <tr>\n",
       "      <th>0</th>\n",
       "      <td>2001-08-24</td>\n",
       "      <td>2001.0</td>\n",
       "    </tr>\n",
       "    <tr>\n",
       "      <th>1</th>\n",
       "      <td>2000-02-16</td>\n",
       "      <td>2000.0</td>\n",
       "    </tr>\n",
       "    <tr>\n",
       "      <th>2</th>\n",
       "      <td>1988-01-01</td>\n",
       "      <td>1988.0</td>\n",
       "    </tr>\n",
       "    <tr>\n",
       "      <th>3</th>\n",
       "      <td>1987-01-01</td>\n",
       "      <td>1987.0</td>\n",
       "    </tr>\n",
       "    <tr>\n",
       "      <th>4</th>\n",
       "      <td>1983-01-01</td>\n",
       "      <td>1983.0</td>\n",
       "    </tr>\n",
       "    <tr>\n",
       "      <th>...</th>\n",
       "      <td>...</td>\n",
       "      <td>...</td>\n",
       "    </tr>\n",
       "    <tr>\n",
       "      <th>81736</th>\n",
       "      <td>2011-03-19</td>\n",
       "      <td>2011.0</td>\n",
       "    </tr>\n",
       "    <tr>\n",
       "      <th>81737</th>\n",
       "      <td>2011-01-21</td>\n",
       "      <td>2011.0</td>\n",
       "    </tr>\n",
       "    <tr>\n",
       "      <th>81738</th>\n",
       "      <td>1972-09-22</td>\n",
       "      <td>1972.0</td>\n",
       "    </tr>\n",
       "    <tr>\n",
       "      <th>81739</th>\n",
       "      <td>1992-05-21</td>\n",
       "      <td>1992.0</td>\n",
       "    </tr>\n",
       "    <tr>\n",
       "      <th>81740</th>\n",
       "      <td>2002-01-01</td>\n",
       "      <td>2002.0</td>\n",
       "    </tr>\n",
       "  </tbody>\n",
       "</table>\n",
       "<p>74839 rows × 2 columns</p>\n",
       "</div>"
      ],
      "text/plain": [
       "      Movie release date    year\n",
       "0             2001-08-24  2001.0\n",
       "1             2000-02-16  2000.0\n",
       "2             1988-01-01  1988.0\n",
       "3             1987-01-01  1987.0\n",
       "4             1983-01-01  1983.0\n",
       "...                  ...     ...\n",
       "81736         2011-03-19  2011.0\n",
       "81737         2011-01-21  2011.0\n",
       "81738         1972-09-22  1972.0\n",
       "81739         1992-05-21  1992.0\n",
       "81740         2002-01-01  2002.0\n",
       "\n",
       "[74839 rows x 2 columns]"
      ]
     },
     "execution_count": 53,
     "metadata": {},
     "output_type": "execute_result"
    }
   ],
   "source": [
    "mv"
   ]
  },
  {
   "cell_type": "code",
   "execution_count": 55,
   "id": "6baf0d05-f2be-4c9e-afef-4b365d2aee67",
   "metadata": {},
   "outputs": [
    {
     "data": {
      "text/plain": [
       "numpy.float64"
      ]
     },
     "execution_count": 55,
     "metadata": {},
     "output_type": "execute_result"
    }
   ],
   "source": [
    "type(mv['year'][0])"
   ]
  },
  {
   "cell_type": "code",
   "execution_count": 56,
   "id": "709da479-d5fc-4c26-a992-850a1a586920",
   "metadata": {},
   "outputs": [
    {
     "data": {
      "text/plain": [
       "Text(0.5, 1.0, 'Number of movies per year')"
      ]
     },
     "execution_count": 56,
     "metadata": {},
     "output_type": "execute_result"
    },
    {
     "data": {
      "image/png": "[encoded data removed]",
      "text/plain": [
       "<Figure size 1500x700 with 1 Axes>"
      ]
     },
     "metadata": {},
     "output_type": "display_data"
    }
   ],
   "source": [
    "#mv['date'] = mv['Movie release date'].date.year\n",
    "fig,ax = plt.subplots(figsize =(15,7))\n",
    "mv.groupby(by='year').count().plot(ax=ax)\n",
    "ax.set_xlabel('time')\n",
    "ax.set_ylabel('count')\n",
    "ax.set_title('Number of movies per year')"
   ]
  },
  {
   "cell_type": "code",
   "execution_count": 57,
   "id": "e5141391-522c-423b-baba-a39aeeeac96c",
   "metadata": {},
   "outputs": [
    {
     "data": {
      "text/plain": [
       "<AxesSubplot:>"
      ]
     },
     "execution_count": 57,
     "metadata": {},
     "output_type": "execute_result"
    },
    {
     "data": {
      "image/png": "[encoded data removed]",
      "text/plain": [
       "<Figure size 640x480 with 1 Axes>"
      ]
     },
     "metadata": {},
     "output_type": "display_data"
    }
   ],
   "source": [
    "mv['year'].hist(bins = 100)"
   ]
  },
  {
   "cell_type": "code",
   "execution_count": 58,
   "id": "87596825-b8d3-4cfa-8c0b-967088d93a42",
   "metadata": {},
   "outputs": [],
   "source": [
    "\n",
    "time['Round_Movie_TIME'] = time['Movie runtime'].apply(lambda x : round(x))\n"
   ]
  },
  {
   "cell_type": "code",
   "execution_count": 59,
   "id": "fa50fa1f-ba8d-47e7-9456-7d75a63878ac",
   "metadata": {},
   "outputs": [
    {
     "data": {
      "text/html": [
       "<div>\n",
       "<style scoped>\n",
       "    .dataframe tbody tr th:only-of-type {\n",
       "        vertical-align: middle;\n",
       "    }\n",
       "\n",
       "    .dataframe tbody tr th {\n",
       "        vertical-align: top;\n",
       "    }\n",
       "\n",
       "    .dataframe thead th {\n",
       "        text-align: right;\n",
       "    }\n",
       "</style>\n",
       "<table border=\"1\" class=\"dataframe\">\n",
       "  <thead>\n",
       "    <tr style=\"text-align: right;\">\n",
       "      <th></th>\n",
       "      <th>Movie runtime</th>\n",
       "      <th>Round_Movie_TIME</th>\n",
       "    </tr>\n",
       "  </thead>\n",
       "  <tbody>\n",
       "    <tr>\n",
       "      <th>0</th>\n",
       "      <td>98.0</td>\n",
       "      <td>98</td>\n",
       "    </tr>\n",
       "    <tr>\n",
       "      <th>1</th>\n",
       "      <td>95.0</td>\n",
       "      <td>95</td>\n",
       "    </tr>\n",
       "    <tr>\n",
       "      <th>2</th>\n",
       "      <td>83.0</td>\n",
       "      <td>83</td>\n",
       "    </tr>\n",
       "    <tr>\n",
       "      <th>3</th>\n",
       "      <td>110.0</td>\n",
       "      <td>110</td>\n",
       "    </tr>\n",
       "    <tr>\n",
       "      <th>4</th>\n",
       "      <td>106.0</td>\n",
       "      <td>106</td>\n",
       "    </tr>\n",
       "    <tr>\n",
       "      <th>...</th>\n",
       "      <td>...</td>\n",
       "      <td>...</td>\n",
       "    </tr>\n",
       "    <tr>\n",
       "      <th>81736</th>\n",
       "      <td>120.0</td>\n",
       "      <td>120</td>\n",
       "    </tr>\n",
       "    <tr>\n",
       "      <th>81737</th>\n",
       "      <td>96.0</td>\n",
       "      <td>96</td>\n",
       "    </tr>\n",
       "    <tr>\n",
       "      <th>81738</th>\n",
       "      <td>66.0</td>\n",
       "      <td>66</td>\n",
       "    </tr>\n",
       "    <tr>\n",
       "      <th>81739</th>\n",
       "      <td>150.0</td>\n",
       "      <td>150</td>\n",
       "    </tr>\n",
       "    <tr>\n",
       "      <th>81740</th>\n",
       "      <td>86.0</td>\n",
       "      <td>86</td>\n",
       "    </tr>\n",
       "  </tbody>\n",
       "</table>\n",
       "<p>61291 rows × 2 columns</p>\n",
       "</div>"
      ],
      "text/plain": [
       "       Movie runtime  Round_Movie_TIME\n",
       "0               98.0                98\n",
       "1               95.0                95\n",
       "2               83.0                83\n",
       "3              110.0               110\n",
       "4              106.0               106\n",
       "...              ...               ...\n",
       "81736          120.0               120\n",
       "81737           96.0                96\n",
       "81738           66.0                66\n",
       "81739          150.0               150\n",
       "81740           86.0                86\n",
       "\n",
       "[61291 rows x 2 columns]"
      ]
     },
     "execution_count": 59,
     "metadata": {},
     "output_type": "execute_result"
    }
   ],
   "source": [
    "time"
   ]
  },
  {
   "cell_type": "code",
   "execution_count": 60,
   "id": "3bc87a2d-dc96-4e53-8245-4202b2fb8e23",
   "metadata": {},
   "outputs": [
    {
     "data": {
      "text/plain": [
       "numpy.float64"
      ]
     },
     "execution_count": 60,
     "metadata": {},
     "output_type": "execute_result"
    }
   ],
   "source": [
    "type(time['Movie runtime'][0])"
   ]
  },
  {
   "cell_type": "code",
   "execution_count": 61,
   "id": "8a22f87c-4a3b-4322-bb3a-6274fe32b996",
   "metadata": {},
   "outputs": [
    {
     "data": {
      "text/plain": [
       "111.81912515703773"
      ]
     },
     "execution_count": 61,
     "metadata": {},
     "output_type": "execute_result"
    }
   ],
   "source": [
    "time['Round_Movie_TIME'].mean()"
   ]
  },
  {
   "cell_type": "code",
   "execution_count": 62,
   "id": "10742b0e-b44d-46d8-969d-1f090174d35f",
   "metadata": {},
   "outputs": [
    {
     "data": {
      "text/plain": [
       "count    6.129100e+04\n",
       "mean     1.118192e+02\n",
       "std      4.360070e+03\n",
       "min      0.000000e+00\n",
       "25%      8.100000e+01\n",
       "50%      9.300000e+01\n",
       "75%      1.060000e+02\n",
       "max      1.079281e+06\n",
       "Name: Movie runtime, dtype: float64"
      ]
     },
     "execution_count": 62,
     "metadata": {},
     "output_type": "execute_result"
    }
   ],
   "source": [
    "time['Movie runtime'].describe()"
   ]
  },
  {
   "cell_type": "code",
   "execution_count": 64,
   "id": "6f601ab5-7d58-4dea-83fe-f6911251914d",
   "metadata": {},
   "outputs": [
    {
     "data": {
      "text/plain": [
       "<AxesSubplot:>"
      ]
     },
     "execution_count": 64,
     "metadata": {},
     "output_type": "execute_result"
    },
    {
     "data": {
      "image/png": "[encoded data removed]",
      "text/plain": [
       "<Figure size 640x480 with 1 Axes>"
      ]
     },
     "metadata": {},
     "output_type": "display_data"
    }
   ],
   "source": [
    "time['Movie runtime'].hist(bins = 100)"
   ]
  },
  {
   "cell_type": "code",
   "execution_count": null,
   "id": "979dc114-fa49-4bcd-82f9-d8084b934a7c",
   "metadata": {},
   "outputs": [],
   "source": [
    "#remove outlier "
   ]
  },
  {
   "cell_type": "code",
   "execution_count": 65,
   "id": "fce6a30c-c00e-4cb0-8af0-e9278827bd87",
   "metadata": {},
   "outputs": [
    {
     "data": {
      "image/png": "[encoded data removed]",
      "text/plain": [
       "<Figure size 640x480 with 1 Axes>"
      ]
     },
     "metadata": {},
     "output_type": "display_data"
    }
   ],
   "source": [
    "plt.boxplot(time['Movie runtime'])\n",
    "plt.xticks([])\n",
    "plt.title('Movie Runtime');"
   ]
  },
  {
   "cell_type": "code",
   "execution_count": 66,
   "id": "3622c934-403d-4d15-bc03-5a62c84712de",
   "metadata": {},
   "outputs": [],
   "source": [
    "time.drop(time[time['Movie runtime'] >= 300].index, inplace = True)"
   ]
  },
  {
   "cell_type": "code",
   "execution_count": 67,
   "id": "b1308c50-bf5a-4a3c-b7ce-fb60fbfce23f",
   "metadata": {},
   "outputs": [
    {
     "data": {
      "image/png": "[encoded data removed]",
      "text/plain": [
       "<Figure size 640x480 with 1 Axes>"
      ]
     },
     "metadata": {},
     "output_type": "display_data"
    }
   ],
   "source": [
    "plt.boxplot(time['Movie runtime'])\n",
    "plt.xticks([])\n",
    "plt.title('Movie Runtime');"
   ]
  },
  {
   "cell_type": "code",
   "execution_count": 68,
   "id": "fe32272c-73b5-4ee6-aada-8f0758ce0e46",
   "metadata": {},
   "outputs": [
    {
     "data": {
      "text/plain": [
       "Text(0.5, 1.0, 'Distribution of Movie Time')"
      ]
     },
     "execution_count": 68,
     "metadata": {},
     "output_type": "execute_result"
    },
    {
     "data": {
      "image/png": "[encoded data removed]",
      "text/plain": [
       "<Figure size 1500x700 with 1 Axes>"
      ]
     },
     "metadata": {},
     "output_type": "display_data"
    }
   ],
   "source": [
    "fig,ax = plt.subplots(figsize =(15,7))\n",
    "time.groupby(by='Round_Movie_TIME').count().plot(ax=ax)\n",
    "ax.set_xlabel('time')\n",
    "ax.set_ylabel('count')\n",
    "ax.set_title('Distribution of Movie Time')"
   ]
  },
  {
   "cell_type": "code",
   "execution_count": 24,
   "id": "1684b16f-90ec-446d-b2a8-caf1345be8ce",
   "metadata": {},
   "outputs": [],
   "source": [
    "character['year'] = pd.to_datetime(character['Movie release date'],format=\"%Y-%m-%d\",errors = 'coerce')"
   ]
  },
  {
   "cell_type": "code",
   "execution_count": 26,
   "id": "8bab02bc-bdfe-4fe5-b3b9-851152d921c6",
   "metadata": {},
   "outputs": [
    {
     "data": {
      "text/html": [
       "<div>\n",
       "<style scoped>\n",
       "    .dataframe tbody tr th:only-of-type {\n",
       "        vertical-align: middle;\n",
       "    }\n",
       "\n",
       "    .dataframe tbody tr th {\n",
       "        vertical-align: top;\n",
       "    }\n",
       "\n",
       "    .dataframe thead th {\n",
       "        text-align: right;\n",
       "    }\n",
       "</style>\n",
       "<table border=\"1\" class=\"dataframe\">\n",
       "  <thead>\n",
       "    <tr style=\"text-align: right;\">\n",
       "      <th></th>\n",
       "      <th>Wikipedia Movie ID</th>\n",
       "      <th>Freebase Movie ID</th>\n",
       "      <th>Movie release date</th>\n",
       "      <th>Character Name</th>\n",
       "      <th>Actor DOB</th>\n",
       "      <th>Actor height</th>\n",
       "      <th>Actor ethnicity</th>\n",
       "      <th>Actor Name</th>\n",
       "      <th>Actor age at movie release</th>\n",
       "      <th>Freebase character/actor map</th>\n",
       "      <th>Freebase character ID</th>\n",
       "      <th>Freebase actor ID</th>\n",
       "      <th>year</th>\n",
       "    </tr>\n",
       "    <tr>\n",
       "      <th>Actor gender</th>\n",
       "      <th></th>\n",
       "      <th></th>\n",
       "      <th></th>\n",
       "      <th></th>\n",
       "      <th></th>\n",
       "      <th></th>\n",
       "      <th></th>\n",
       "      <th></th>\n",
       "      <th></th>\n",
       "      <th></th>\n",
       "      <th></th>\n",
       "      <th></th>\n",
       "      <th></th>\n",
       "    </tr>\n",
       "  </thead>\n",
       "  <tbody>\n",
       "    <tr>\n",
       "      <th>F</th>\n",
       "      <td>134803</td>\n",
       "      <td>134803</td>\n",
       "      <td>131312</td>\n",
       "      <td>65795</td>\n",
       "      <td>113343</td>\n",
       "      <td>56515</td>\n",
       "      <td>34825</td>\n",
       "      <td>134800</td>\n",
       "      <td>99246</td>\n",
       "      <td>134803</td>\n",
       "      <td>65795</td>\n",
       "      <td>134803</td>\n",
       "      <td>131307</td>\n",
       "    </tr>\n",
       "    <tr>\n",
       "      <th>M</th>\n",
       "      <td>270257</td>\n",
       "      <td>270257</td>\n",
       "      <td>263902</td>\n",
       "      <td>119666</td>\n",
       "      <td>229082</td>\n",
       "      <td>98148</td>\n",
       "      <td>71186</td>\n",
       "      <td>270248</td>\n",
       "      <td>191524</td>\n",
       "      <td>270257</td>\n",
       "      <td>119674</td>\n",
       "      <td>270257</td>\n",
       "      <td>263892</td>\n",
       "    </tr>\n",
       "  </tbody>\n",
       "</table>\n",
       "</div>"
      ],
      "text/plain": [
       "              Wikipedia Movie ID  Freebase Movie ID  Movie release date  \\\n",
       "Actor gender                                                              \n",
       "F                         134803             134803              131312   \n",
       "M                         270257             270257              263902   \n",
       "\n",
       "              Character Name  Actor DOB  Actor height  Actor ethnicity  \\\n",
       "Actor gender                                                             \n",
       "F                      65795     113343         56515            34825   \n",
       "M                     119666     229082         98148            71186   \n",
       "\n",
       "              Actor Name  Actor age at movie release  \\\n",
       "Actor gender                                           \n",
       "F                 134800                       99246   \n",
       "M                 270248                      191524   \n",
       "\n",
       "              Freebase character/actor map  Freebase character ID  \\\n",
       "Actor gender                                                        \n",
       "F                                   134803                  65795   \n",
       "M                                   270257                 119674   \n",
       "\n",
       "              Freebase actor ID    year  \n",
       "Actor gender                             \n",
       "F                        134803  131307  \n",
       "M                        270257  263892  "
      ]
     },
     "metadata": {},
     "output_type": "display_data"
    }
   ],
   "source": [
    "display(character.groupby('Actor gender').count())"
   ]
  },
  {
   "cell_type": "code",
   "execution_count": 27,
   "id": "6687e72e-34d7-459d-9b26-3e7fadf2e8dc",
   "metadata": {},
   "outputs": [
    {
     "data": {
      "image/png": "[encoded data removed]",
      "text/plain": [
       "<Figure size 640x480 with 1 Axes>"
      ]
     },
     "metadata": {},
     "output_type": "display_data"
    }
   ],
   "source": [
    "#display(character.groupby('Actor gender').count())\n",
    "\n",
    "character.groupby('Actor gender')['year'].hist(alpha=0.3, bins=100, legend=True)\n",
    "plt.ylabel('Count')    \n",
    "plt.xlabel('year')\n",
    "plt.title(\"Distribution of Male/Female genders across the time\")\n",
    "plt.show()\n"
   ]
  },
  {
   "cell_type": "code",
   "execution_count": null,
   "id": "a8f53233-bbc6-4018-8e21-bf2b740f96da",
   "metadata": {},
   "outputs": [],
   "source": [
    "#maybe use the ratio it's more \n"
   ]
  },
  {
   "cell_type": "code",
   "execution_count": 82,
   "id": "ce6e9479-8c23-4151-b169-d980d7816e85",
   "metadata": {},
   "outputs": [],
   "source": [
    "male = character.loc[character['Actor gender'] == 'M']\n",
    "female = character.loc[character['Actor gender'] == 'F']"
   ]
  },
  {
   "cell_type": "code",
   "execution_count": 83,
   "id": "7e5605a9-af21-4185-948a-28c0a7edaba4",
   "metadata": {},
   "outputs": [
    {
     "data": {
      "text/html": [
       "<div>\n",
       "<style scoped>\n",
       "    .dataframe tbody tr th:only-of-type {\n",
       "        vertical-align: middle;\n",
       "    }\n",
       "\n",
       "    .dataframe tbody tr th {\n",
       "        vertical-align: top;\n",
       "    }\n",
       "\n",
       "    .dataframe thead th {\n",
       "        text-align: right;\n",
       "    }\n",
       "</style>\n",
       "<table border=\"1\" class=\"dataframe\">\n",
       "  <thead>\n",
       "    <tr style=\"text-align: right;\">\n",
       "      <th></th>\n",
       "      <th>Wikipedia Movie ID</th>\n",
       "      <th>Freebase Movie ID</th>\n",
       "      <th>Movie release date</th>\n",
       "      <th>Character Name</th>\n",
       "      <th>Actor DOB</th>\n",
       "      <th>Actor gender</th>\n",
       "      <th>Actor height</th>\n",
       "      <th>Actor ethnicity</th>\n",
       "      <th>Actor Name</th>\n",
       "      <th>Actor age at movie release</th>\n",
       "      <th>Freebase character/actor map</th>\n",
       "      <th>Freebase character ID</th>\n",
       "      <th>Freebase actor ID</th>\n",
       "    </tr>\n",
       "  </thead>\n",
       "  <tbody>\n",
       "    <tr>\n",
       "      <th>2</th>\n",
       "      <td>975900</td>\n",
       "      <td>/m/03vyhn</td>\n",
       "      <td>2001-08-24</td>\n",
       "      <td>Desolation Williams</td>\n",
       "      <td>1969-06-15</td>\n",
       "      <td>M</td>\n",
       "      <td>1.727</td>\n",
       "      <td>/m/0x67</td>\n",
       "      <td>Ice Cube</td>\n",
       "      <td>32.0</td>\n",
       "      <td>/m/0jys3g</td>\n",
       "      <td>/m/0bgchn_</td>\n",
       "      <td>/m/01vw26l</td>\n",
       "    </tr>\n",
       "    <tr>\n",
       "      <th>3</th>\n",
       "      <td>975900</td>\n",
       "      <td>/m/03vyhn</td>\n",
       "      <td>2001-08-24</td>\n",
       "      <td>Sgt Jericho Butler</td>\n",
       "      <td>1967-09-12</td>\n",
       "      <td>M</td>\n",
       "      <td>1.750</td>\n",
       "      <td>NaN</td>\n",
       "      <td>Jason Statham</td>\n",
       "      <td>33.0</td>\n",
       "      <td>/m/02vchl6</td>\n",
       "      <td>/m/0bgchnq</td>\n",
       "      <td>/m/034hyc</td>\n",
       "    </tr>\n",
       "    <tr>\n",
       "      <th>7</th>\n",
       "      <td>975900</td>\n",
       "      <td>/m/03vyhn</td>\n",
       "      <td>2001-08-24</td>\n",
       "      <td>Big Daddy Mars</td>\n",
       "      <td>NaN</td>\n",
       "      <td>M</td>\n",
       "      <td>NaN</td>\n",
       "      <td>NaN</td>\n",
       "      <td>Richard Cetrone</td>\n",
       "      <td>NaN</td>\n",
       "      <td>/m/0bgchsy</td>\n",
       "      <td>/m/0bgcht0</td>\n",
       "      <td>/m/0bgcht7</td>\n",
       "    </tr>\n",
       "    <tr>\n",
       "      <th>8</th>\n",
       "      <td>975900</td>\n",
       "      <td>/m/03vyhn</td>\n",
       "      <td>2001-08-24</td>\n",
       "      <td>Michael Descanso</td>\n",
       "      <td>1971-03-20</td>\n",
       "      <td>M</td>\n",
       "      <td>1.892</td>\n",
       "      <td>NaN</td>\n",
       "      <td>Liam Waite</td>\n",
       "      <td>30.0</td>\n",
       "      <td>/m/03jqhb0</td>\n",
       "      <td>/m/0bgchs4</td>\n",
       "      <td>/m/0ks8b0</td>\n",
       "    </tr>\n",
       "    <tr>\n",
       "      <th>9</th>\n",
       "      <td>975900</td>\n",
       "      <td>/m/03vyhn</td>\n",
       "      <td>2001-08-24</td>\n",
       "      <td>Uno</td>\n",
       "      <td>NaN</td>\n",
       "      <td>M</td>\n",
       "      <td>NaN</td>\n",
       "      <td>NaN</td>\n",
       "      <td>Duane Davis</td>\n",
       "      <td>NaN</td>\n",
       "      <td>/m/0bgchtj</td>\n",
       "      <td>/m/0bgchtm</td>\n",
       "      <td>/m/03nrwdy</td>\n",
       "    </tr>\n",
       "    <tr>\n",
       "      <th>...</th>\n",
       "      <td>...</td>\n",
       "      <td>...</td>\n",
       "      <td>...</td>\n",
       "      <td>...</td>\n",
       "      <td>...</td>\n",
       "      <td>...</td>\n",
       "      <td>...</td>\n",
       "      <td>...</td>\n",
       "      <td>...</td>\n",
       "      <td>...</td>\n",
       "      <td>...</td>\n",
       "      <td>...</td>\n",
       "      <td>...</td>\n",
       "    </tr>\n",
       "    <tr>\n",
       "      <th>450660</th>\n",
       "      <td>913762</td>\n",
       "      <td>/m/03pcrp</td>\n",
       "      <td>1992-05-21</td>\n",
       "      <td>Additional Voices</td>\n",
       "      <td>1954</td>\n",
       "      <td>M</td>\n",
       "      <td>NaN</td>\n",
       "      <td>NaN</td>\n",
       "      <td>Sonny Byrkett</td>\n",
       "      <td>38.0</td>\n",
       "      <td>/m/0kr405f</td>\n",
       "      <td>/m/0kr405k</td>\n",
       "      <td>/m/0gn4bz</td>\n",
       "    </tr>\n",
       "    <tr>\n",
       "      <th>450661</th>\n",
       "      <td>913762</td>\n",
       "      <td>/m/03pcrp</td>\n",
       "      <td>1992-05-21</td>\n",
       "      <td>UN Spacy Commander</td>\n",
       "      <td>1954</td>\n",
       "      <td>M</td>\n",
       "      <td>NaN</td>\n",
       "      <td>NaN</td>\n",
       "      <td>Sonny Byrkett</td>\n",
       "      <td>38.0</td>\n",
       "      <td>/m/0kr407w</td>\n",
       "      <td>/m/0kr407_</td>\n",
       "      <td>/m/0gn4bz</td>\n",
       "    </tr>\n",
       "    <tr>\n",
       "      <th>450663</th>\n",
       "      <td>913762</td>\n",
       "      <td>/m/03pcrp</td>\n",
       "      <td>1992-05-21</td>\n",
       "      <td>Exegran</td>\n",
       "      <td>NaN</td>\n",
       "      <td>M</td>\n",
       "      <td>NaN</td>\n",
       "      <td>NaN</td>\n",
       "      <td>Hal Cleaveland</td>\n",
       "      <td>NaN</td>\n",
       "      <td>/m/0kr407c</td>\n",
       "      <td>/m/0kr406_</td>\n",
       "      <td>/m/0kr407h</td>\n",
       "    </tr>\n",
       "    <tr>\n",
       "      <th>450665</th>\n",
       "      <td>913762</td>\n",
       "      <td>/m/03pcrp</td>\n",
       "      <td>1992-05-21</td>\n",
       "      <td>Hibiki</td>\n",
       "      <td>1965-04-12</td>\n",
       "      <td>M</td>\n",
       "      <td>NaN</td>\n",
       "      <td>NaN</td>\n",
       "      <td>Jonathan Fahn</td>\n",
       "      <td>27.0</td>\n",
       "      <td>/m/0kr405_</td>\n",
       "      <td>/m/0kr4090</td>\n",
       "      <td>/m/0bx7_j</td>\n",
       "    </tr>\n",
       "    <tr>\n",
       "      <th>450666</th>\n",
       "      <td>28308153</td>\n",
       "      <td>/m/0cp05t9</td>\n",
       "      <td>1957</td>\n",
       "      <td>NaN</td>\n",
       "      <td>1941-11-18</td>\n",
       "      <td>M</td>\n",
       "      <td>1.730</td>\n",
       "      <td>/m/02w7gg</td>\n",
       "      <td>David Hemmings</td>\n",
       "      <td>15.0</td>\n",
       "      <td>/m/0g8ngmc</td>\n",
       "      <td>NaN</td>\n",
       "      <td>/m/022g44</td>\n",
       "    </tr>\n",
       "  </tbody>\n",
       "</table>\n",
       "<p>270257 rows × 13 columns</p>\n",
       "</div>"
      ],
      "text/plain": [
       "        Wikipedia Movie ID Freebase Movie ID Movie release date  \\\n",
       "2                   975900         /m/03vyhn         2001-08-24   \n",
       "3                   975900         /m/03vyhn         2001-08-24   \n",
       "7                   975900         /m/03vyhn         2001-08-24   \n",
       "8                   975900         /m/03vyhn         2001-08-24   \n",
       "9                   975900         /m/03vyhn         2001-08-24   \n",
       "...                    ...               ...                ...   \n",
       "450660              913762         /m/03pcrp         1992-05-21   \n",
       "450661              913762         /m/03pcrp         1992-05-21   \n",
       "450663              913762         /m/03pcrp         1992-05-21   \n",
       "450665              913762         /m/03pcrp         1992-05-21   \n",
       "450666            28308153        /m/0cp05t9               1957   \n",
       "\n",
       "             Character Name   Actor DOB Actor gender  Actor height  \\\n",
       "2       Desolation Williams  1969-06-15            M         1.727   \n",
       "3        Sgt Jericho Butler  1967-09-12            M         1.750   \n",
       "7            Big Daddy Mars         NaN            M           NaN   \n",
       "8          Michael Descanso  1971-03-20            M         1.892   \n",
       "9                       Uno         NaN            M           NaN   \n",
       "...                     ...         ...          ...           ...   \n",
       "450660    Additional Voices        1954            M           NaN   \n",
       "450661   UN Spacy Commander        1954            M           NaN   \n",
       "450663              Exegran         NaN            M           NaN   \n",
       "450665               Hibiki  1965-04-12            M           NaN   \n",
       "450666                  NaN  1941-11-18            M         1.730   \n",
       "\n",
       "       Actor ethnicity       Actor Name  Actor age at movie release  \\\n",
       "2              /m/0x67         Ice Cube                        32.0   \n",
       "3                  NaN    Jason Statham                        33.0   \n",
       "7                  NaN  Richard Cetrone                         NaN   \n",
       "8                  NaN       Liam Waite                        30.0   \n",
       "9                  NaN      Duane Davis                         NaN   \n",
       "...                ...              ...                         ...   \n",
       "450660             NaN    Sonny Byrkett                        38.0   \n",
       "450661             NaN    Sonny Byrkett                        38.0   \n",
       "450663             NaN   Hal Cleaveland                         NaN   \n",
       "450665             NaN    Jonathan Fahn                        27.0   \n",
       "450666       /m/02w7gg   David Hemmings                        15.0   \n",
       "\n",
       "       Freebase character/actor map Freebase character ID Freebase actor ID  \n",
       "2                         /m/0jys3g            /m/0bgchn_        /m/01vw26l  \n",
       "3                        /m/02vchl6            /m/0bgchnq         /m/034hyc  \n",
       "7                        /m/0bgchsy            /m/0bgcht0        /m/0bgcht7  \n",
       "8                        /m/03jqhb0            /m/0bgchs4         /m/0ks8b0  \n",
       "9                        /m/0bgchtj            /m/0bgchtm        /m/03nrwdy  \n",
       "...                             ...                   ...               ...  \n",
       "450660                   /m/0kr405f            /m/0kr405k         /m/0gn4bz  \n",
       "450661                   /m/0kr407w            /m/0kr407_         /m/0gn4bz  \n",
       "450663                   /m/0kr407c            /m/0kr406_        /m/0kr407h  \n",
       "450665                   /m/0kr405_            /m/0kr4090         /m/0bx7_j  \n",
       "450666                   /m/0g8ngmc                   NaN         /m/022g44  \n",
       "\n",
       "[270257 rows x 13 columns]"
      ]
     },
     "execution_count": 83,
     "metadata": {},
     "output_type": "execute_result"
    }
   ],
   "source": []
  },
  {
   "cell_type": "code",
   "execution_count": 84,
   "id": "abe4caf5-2ae5-4e52-b4a5-8915d41d1628",
   "metadata": {},
   "outputs": [],
   "source": [
    "grouped_male = male.groupby('Movie release date')\n",
    "grouped_female = female.groupby('Movie release date')"
   ]
  },
  {
   "cell_type": "code",
   "execution_count": null,
   "id": "d0cbfb90-9df6-42a9-a173-431a2ac309dd",
   "metadata": {},
   "outputs": [],
   "source": []
  },
  {
   "cell_type": "code",
   "execution_count": 72,
   "id": "f6dca8f2-9bf2-4ac1-9892-a3501737c533",
   "metadata": {},
   "outputs": [],
   "source": [
    "diff = (male.groupby('Movie release date').count()) - (female.groupby('Movie release date').count())"
   ]
  },
  {
   "cell_type": "code",
   "execution_count": 29,
   "id": "39dce11a-6bec-42c9-9af0-1699bdc80572",
   "metadata": {},
   "outputs": [
    {
     "name": "stdout",
     "output_type": "stream",
     "text": [
      "['{\"/m/09c7w0\": \"United States of America\"}' '{\"/m/05b4w\": \"Norway\"}'\n",
      " '{\"/m/07ssc\": \"United Kingdom\"}' ...\n",
      " '{\"/m/0f8l9c\": \"France\", \"/m/06mzp\": \"Switzerland\", \"/m/0h3y\": \"Algeria\", \"/m/0345h\": \"Germany\"}'\n",
      " '{\"/m/014tss\": \"Kingdom of Great Britain\", \"/m/03_3d\": \"Japan\", \"/m/02jx1\": \"England\", \"/m/07ssc\": \"United Kingdom\", \"/m/0345h\": \"Germany\"}'\n",
      " '{\"/m/06mzp\": \"Switzerland\", \"/m/03rjj\": \"Italy\", \"/m/082fr\": \"West Germany\", \"/m/03f2w\": \"German Democratic Republic\"}']\n"
     ]
    }
   ],
   "source": [
    "print(movie['Movie countries'].unique())"
   ]
  },
  {
   "cell_type": "code",
   "execution_count": 30,
   "id": "cfd0c514-9517-4696-ac1d-2fab8044a034",
   "metadata": {},
   "outputs": [
    {
     "data": {
      "image/png": "[encoded data removed]",
      "text/plain": [
       "<Figure size 640x480 with 1 Axes>"
      ]
     },
     "metadata": {},
     "output_type": "display_data"
    }
   ],
   "source": [
    "sns.countplot(x='Movie countries', data=movie)\n",
    "plt.yscale(\"log\")"
   ]
  },
  {
   "cell_type": "code",
   "execution_count": 33,
   "id": "4f018bef-75c6-467d-85be-2f308e76cd6c",
   "metadata": {},
   "outputs": [],
   "source": [
    "country = pd.DataFrame(movie, columns =['Movie countries'])"
   ]
  },
  {
   "cell_type": "code",
   "execution_count": 36,
   "id": "a591fc2c-23ef-47da-9d74-64fc04789b0e",
   "metadata": {},
   "outputs": [
    {
     "data": {
      "text/plain": [
       "<AxesSubplot:>"
      ]
     },
     "execution_count": 36,
     "metadata": {},
     "output_type": "execute_result"
    },
    {
     "data": {
      "image/png": "[encoded data removed]",
      "text/plain": [
       "<Figure size 640x480 with 1 Axes>"
      ]
     },
     "metadata": {},
     "output_type": "display_data"
    }
   ],
   "source": [
    "#the top20 countries \n",
    "country['Movie countries'].value_counts()[:20].plot(kind='barh')"
   ]
  },
  {
   "cell_type": "code",
   "execution_count": null,
   "id": "57b3586e-1aef-4cc8-93bb-bff9629d8436",
   "metadata": {},
   "outputs": [],
   "source": [
    "#the third most abundant is one without origins, we decided to focus on USA... "
   ]
  },
  {
   "cell_type": "code",
   "execution_count": 7,
   "id": "e30d40b0-e72b-43f7-ac4a-bb9ffae69346",
   "metadata": {},
   "outputs": [],
   "source": [
    "#drop actor names ou il y a NaN \n",
    "name_actor = pd.DataFrame(character, columns =['Character Name'])\n",
    "name_actor = name_actor.dropna()"
   ]
  },
  {
   "cell_type": "code",
   "execution_count": 8,
   "id": "0040fc67-eb31-41b4-9678-c16c93001ad7",
   "metadata": {},
   "outputs": [
    {
     "data": {
      "text/plain": [
       "192794"
      ]
     },
     "execution_count": 8,
     "metadata": {},
     "output_type": "execute_result"
    }
   ],
   "source": [
    "len(name_actor)"
   ]
  }
 ],
 "metadata": {
  "kernelspec": {
   "display_name": "Python 3 (ipykernel)",
   "language": "python",
   "name": "python3"
  },
  "language_info": {
   "codemirror_mode": {
    "name": "ipython",
    "version": 3
   },
   "file_extension": ".py",
   "mimetype": "text/x-python",
   "name": "python",
   "nbconvert_exporter": "python",
   "pygments_lexer": "ipython3",
   "version": "3.9.13"
  }
 },
 "nbformat": 4,
 "nbformat_minor": 5
}
