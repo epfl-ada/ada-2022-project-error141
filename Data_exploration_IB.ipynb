{
 "cells": [
  {
   "cell_type": "code",
   "execution_count": 1,
   "metadata": {},
   "outputs": [],
   "source": [
    "import numpy as np\n",
    "import pandas as pd\n",
    "import matplotlib.pyplot as plt\n",
    "from datetime import datetime, date, time"
   ]
  },
  {
   "cell_type": "code",
   "execution_count": 84,
   "metadata": {},
   "outputs": [],
   "source": [
    "#pip install neuralcoref"
   ]
  },
  {
   "cell_type": "code",
   "execution_count": 80,
   "metadata": {},
   "outputs": [
    {
     "data": {
      "text/html": [
       "<div>\n",
       "<style scoped>\n",
       "    .dataframe tbody tr th:only-of-type {\n",
       "        vertical-align: middle;\n",
       "    }\n",
       "\n",
       "    .dataframe tbody tr th {\n",
       "        vertical-align: top;\n",
       "    }\n",
       "\n",
       "    .dataframe thead th {\n",
       "        text-align: right;\n",
       "    }\n",
       "</style>\n",
       "<table border=\"1\" class=\"dataframe\">\n",
       "  <thead>\n",
       "    <tr style=\"text-align: right;\">\n",
       "      <th></th>\n",
       "      <th>Wiki movie ID</th>\n",
       "      <th>Free movie ID</th>\n",
       "      <th>Name</th>\n",
       "      <th>Release date</th>\n",
       "      <th>Box office revenue</th>\n",
       "      <th>Runtime</th>\n",
       "      <th>Languages</th>\n",
       "      <th>Countries</th>\n",
       "      <th>Genres</th>\n",
       "    </tr>\n",
       "  </thead>\n",
       "  <tbody>\n",
       "    <tr>\n",
       "      <th>0</th>\n",
       "      <td>975900</td>\n",
       "      <td>/m/03vyhn</td>\n",
       "      <td>Ghosts of Mars</td>\n",
       "      <td>2001-08-24</td>\n",
       "      <td>14010832.0</td>\n",
       "      <td>98.0</td>\n",
       "      <td>{\"/m/02h40lc\": \"English Language\"}</td>\n",
       "      <td>{\"/m/09c7w0\": \"United States of America\"}</td>\n",
       "      <td>{\"/m/01jfsb\": \"Thriller\", \"/m/06n90\": \"Science...</td>\n",
       "    </tr>\n",
       "    <tr>\n",
       "      <th>1</th>\n",
       "      <td>3196793</td>\n",
       "      <td>/m/08yl5d</td>\n",
       "      <td>Getting Away with Murder: The JonBenét Ramsey ...</td>\n",
       "      <td>2000-02-16</td>\n",
       "      <td>NaN</td>\n",
       "      <td>95.0</td>\n",
       "      <td>{\"/m/02h40lc\": \"English Language\"}</td>\n",
       "      <td>{\"/m/09c7w0\": \"United States of America\"}</td>\n",
       "      <td>{\"/m/02n4kr\": \"Mystery\", \"/m/03bxz7\": \"Biograp...</td>\n",
       "    </tr>\n",
       "    <tr>\n",
       "      <th>2</th>\n",
       "      <td>28463795</td>\n",
       "      <td>/m/0crgdbh</td>\n",
       "      <td>Brun bitter</td>\n",
       "      <td>1988</td>\n",
       "      <td>NaN</td>\n",
       "      <td>83.0</td>\n",
       "      <td>{\"/m/05f_3\": \"Norwegian Language\"}</td>\n",
       "      <td>{\"/m/05b4w\": \"Norway\"}</td>\n",
       "      <td>{\"/m/0lsxr\": \"Crime Fiction\", \"/m/07s9rl0\": \"D...</td>\n",
       "    </tr>\n",
       "  </tbody>\n",
       "</table>\n",
       "</div>"
      ],
      "text/plain": [
       "   Wiki movie ID Free movie ID  \\\n",
       "0         975900     /m/03vyhn   \n",
       "1        3196793     /m/08yl5d   \n",
       "2       28463795    /m/0crgdbh   \n",
       "\n",
       "                                                Name Release date  \\\n",
       "0                                     Ghosts of Mars   2001-08-24   \n",
       "1  Getting Away with Murder: The JonBenét Ramsey ...   2000-02-16   \n",
       "2                                        Brun bitter         1988   \n",
       "\n",
       "   Box office revenue  Runtime                           Languages  \\\n",
       "0          14010832.0     98.0  {\"/m/02h40lc\": \"English Language\"}   \n",
       "1                 NaN     95.0  {\"/m/02h40lc\": \"English Language\"}   \n",
       "2                 NaN     83.0  {\"/m/05f_3\": \"Norwegian Language\"}   \n",
       "\n",
       "                                   Countries  \\\n",
       "0  {\"/m/09c7w0\": \"United States of America\"}   \n",
       "1  {\"/m/09c7w0\": \"United States of America\"}   \n",
       "2                     {\"/m/05b4w\": \"Norway\"}   \n",
       "\n",
       "                                              Genres  \n",
       "0  {\"/m/01jfsb\": \"Thriller\", \"/m/06n90\": \"Science...  \n",
       "1  {\"/m/02n4kr\": \"Mystery\", \"/m/03bxz7\": \"Biograp...  \n",
       "2  {\"/m/0lsxr\": \"Crime Fiction\", \"/m/07s9rl0\": \"D...  "
      ]
     },
     "execution_count": 80,
     "metadata": {},
     "output_type": "execute_result"
    }
   ],
   "source": [
    "df_movie = pd.read_table(\"movie.metadata.tsv\", header = None)\n",
    "df_movie.columns = ['Wiki movie ID', 'Free movie ID', 'Name', 'Release date', 'Box office revenue', 'Runtime', 'Languages','Countries', 'Genres']\n",
    "df_movie.head(3)"
   ]
  },
  {
   "cell_type": "code",
   "execution_count": 81,
   "metadata": {},
   "outputs": [],
   "source": [
    "df_movie['Languages'] = [lang.split('\"')[3::4] for lang in df_movie.Languages]\n",
    "df_movie['Countries'] = [lang.split('\"')[3::4] for lang in df_movie.Countries]\n",
    "df_movie['Genres'] = [lang.split('\"')[3::4] for lang in df_movie.Genres]\n",
    "\n",
    "df_movie = df_movie[df_movie['Release date'].notna()]\n",
    "df_movie['Release date'] = df_movie['Release date'].apply(lambda x : datetime.strptime(str(x)[0:4],\"%Y\")) #keeping only the year\n",
    "df_movie['Release date'] = [date.year for date in df_movie['Release date']]  #Expliquer pourquoi on garde que l'année"
   ]
  },
  {
   "cell_type": "code",
   "execution_count": 82,
   "metadata": {},
   "outputs": [
    {
     "data": {
      "text/plain": [
       "1010"
      ]
     },
     "execution_count": 82,
     "metadata": {},
     "output_type": "execute_result"
    }
   ],
   "source": [
    "min(df_movie['Release date'])"
   ]
  },
  {
   "cell_type": "markdown",
   "metadata": {},
   "source": [
    "We discovered an error in one of the dates of the movies. Indeed, the earliest movie in the dataset is from 1010, however this is not possible. Thus, we looked for the true release date of this movie by using its name and origin. We found that its release year is actually 2010 thus we assume that there was simply a mistake in the first number. Now that we have the true year of release, we modify the value in the data."
   ]
  },
  {
   "cell_type": "code",
   "execution_count": 83,
   "metadata": {},
   "outputs": [],
   "source": [
    "df_movie = df_movie.replace(1010, 2010)"
   ]
  },
  {
   "cell_type": "code",
   "execution_count": 84,
   "metadata": {},
   "outputs": [
    {
     "data": {
      "text/html": [
       "<div>\n",
       "<style scoped>\n",
       "    .dataframe tbody tr th:only-of-type {\n",
       "        vertical-align: middle;\n",
       "    }\n",
       "\n",
       "    .dataframe tbody tr th {\n",
       "        vertical-align: top;\n",
       "    }\n",
       "\n",
       "    .dataframe thead th {\n",
       "        text-align: right;\n",
       "    }\n",
       "</style>\n",
       "<table border=\"1\" class=\"dataframe\">\n",
       "  <thead>\n",
       "    <tr style=\"text-align: right;\">\n",
       "      <th></th>\n",
       "      <th>Wiki movie ID</th>\n",
       "      <th>Free movie ID</th>\n",
       "      <th>Name</th>\n",
       "      <th>Release date</th>\n",
       "      <th>Box office revenue</th>\n",
       "      <th>Runtime</th>\n",
       "      <th>Languages</th>\n",
       "      <th>Countries</th>\n",
       "      <th>Genres</th>\n",
       "    </tr>\n",
       "  </thead>\n",
       "  <tbody>\n",
       "    <tr>\n",
       "      <th>62836</th>\n",
       "      <td>29666067</td>\n",
       "      <td>/m/0fphzrf</td>\n",
       "      <td>Hunting Season</td>\n",
       "      <td>2010</td>\n",
       "      <td>12160978.0</td>\n",
       "      <td>140.0</td>\n",
       "      <td>[Turkish Language, English Language]</td>\n",
       "      <td>[Turkey]</td>\n",
       "      <td>[Crime Fiction, Mystery, Drama, Thriller]</td>\n",
       "    </tr>\n",
       "  </tbody>\n",
       "</table>\n",
       "</div>"
      ],
      "text/plain": [
       "       Wiki movie ID Free movie ID            Name  Release date  \\\n",
       "62836       29666067    /m/0fphzrf  Hunting Season          2010   \n",
       "\n",
       "       Box office revenue  Runtime                             Languages  \\\n",
       "62836          12160978.0    140.0  [Turkish Language, English Language]   \n",
       "\n",
       "      Countries                                     Genres  \n",
       "62836  [Turkey]  [Crime Fiction, Mystery, Drama, Thriller]  "
      ]
     },
     "execution_count": 84,
     "metadata": {},
     "output_type": "execute_result"
    }
   ],
   "source": [
    "df_movie[df_movie['Name'] == 'Hunting Season']"
   ]
  },
  {
   "cell_type": "code",
   "execution_count": 85,
   "metadata": {},
   "outputs": [
    {
     "data": {
      "image/png": "[encoded data removed]",
      "text/plain": [
       "<Figure size 640x480 with 1 Axes>"
      ]
     },
     "metadata": {},
     "output_type": "display_data"
    }
   ],
   "source": [
    "plt.hist(df_movie['Release date'], bins = 1000)\n",
    "plt.xlabel('Year of movie release')\n",
    "plt.ylabel('Number of movies released by bin')\n",
    "plt.show()"
   ]
  },
  {
   "cell_type": "code",
   "execution_count": 69,
   "metadata": {},
   "outputs": [
    {
     "data": {
      "text/plain": [
       "(array([6.129e+04, 0.000e+00, 0.000e+00, 0.000e+00, 0.000e+00, 0.000e+00,\n",
       "        0.000e+00, 0.000e+00, 0.000e+00, 1.000e+00]),\n",
       " array([      0. ,  107928.1,  215856.2,  323784.3,  431712.4,  539640.5,\n",
       "         647568.6,  755496.7,  863424.8,  971352.9, 1079281. ]),\n",
       " <BarContainer object of 10 artists>)"
      ]
     },
     "execution_count": 69,
     "metadata": {},
     "output_type": "execute_result"
    },
    {
     "data": {
      "image/png": "[encoded data removed]",
      "text/plain": [
       "<Figure size 432x288 with 1 Axes>"
      ]
     },
     "metadata": {
      "needs_background": "light"
     },
     "output_type": "display_data"
    }
   ],
   "source": [
    "#Not important for us\n",
    "plt.hist(df_movie['Runtime'], bins = 10)\n",
    "plt.show()"
   ]
  },
  {
   "cell_type": "code",
   "execution_count": null,
   "metadata": {},
   "outputs": [],
   "source": [
    "plt.hist(df_movie['Languages'])\n",
    "plt.show()"
   ]
  },
  {
   "cell_type": "code",
   "execution_count": 75,
   "metadata": {},
   "outputs": [],
   "source": [
    "categ_df = df_movie.groupby(df_movie['Languages']).count"
   ]
  },
  {
   "cell_type": "code",
   "execution_count": 73,
   "metadata": {},
   "outputs": [
    {
     "data": {
      "text/plain": [
       "<bound method DataFrameGroupBy.count of <pandas.core.groupby.generic.DataFrameGroupBy object at 0x0000023DD6806580>>"
      ]
     },
     "execution_count": 73,
     "metadata": {},
     "output_type": "execute_result"
    }
   ],
   "source": [
    "categ_df"
   ]
  },
  {
   "cell_type": "code",
   "execution_count": null,
   "metadata": {},
   "outputs": [],
   "source": [
    "boxplot\n",
    "describe"
   ]
  },
  {
   "cell_type": "code",
   "execution_count": 196,
   "metadata": {},
   "outputs": [
    {
     "data": {
      "text/html": [
       "<div>\n",
       "<style scoped>\n",
       "    .dataframe tbody tr th:only-of-type {\n",
       "        vertical-align: middle;\n",
       "    }\n",
       "\n",
       "    .dataframe tbody tr th {\n",
       "        vertical-align: top;\n",
       "    }\n",
       "\n",
       "    .dataframe thead th {\n",
       "        text-align: right;\n",
       "    }\n",
       "</style>\n",
       "<table border=\"1\" class=\"dataframe\">\n",
       "  <thead>\n",
       "    <tr style=\"text-align: right;\">\n",
       "      <th></th>\n",
       "      <th>Wiki movie ID</th>\n",
       "      <th>Free movie ID</th>\n",
       "      <th>Release date</th>\n",
       "      <th>Character name</th>\n",
       "      <th>Actor DOB</th>\n",
       "      <th>Gender</th>\n",
       "      <th>Height</th>\n",
       "      <th>Ethnicity</th>\n",
       "      <th>Actor name</th>\n",
       "      <th>Age at release</th>\n",
       "      <th>Charac/actor map</th>\n",
       "      <th>Free charac ID</th>\n",
       "      <th>Free actor ID</th>\n",
       "    </tr>\n",
       "  </thead>\n",
       "  <tbody>\n",
       "    <tr>\n",
       "      <th>0</th>\n",
       "      <td>975900</td>\n",
       "      <td>/m/03vyhn</td>\n",
       "      <td>2001-08-24</td>\n",
       "      <td>Akooshay</td>\n",
       "      <td>1958-08-26</td>\n",
       "      <td>F</td>\n",
       "      <td>1.620</td>\n",
       "      <td>NaN</td>\n",
       "      <td>Wanda De Jesus</td>\n",
       "      <td>42.0</td>\n",
       "      <td>/m/0bgchxw</td>\n",
       "      <td>/m/0bgcj3x</td>\n",
       "      <td>/m/03wcfv7</td>\n",
       "    </tr>\n",
       "    <tr>\n",
       "      <th>1</th>\n",
       "      <td>975900</td>\n",
       "      <td>/m/03vyhn</td>\n",
       "      <td>2001-08-24</td>\n",
       "      <td>Lieutenant Melanie Ballard</td>\n",
       "      <td>1974-08-15</td>\n",
       "      <td>F</td>\n",
       "      <td>1.780</td>\n",
       "      <td>/m/044038p</td>\n",
       "      <td>Natasha Henstridge</td>\n",
       "      <td>27.0</td>\n",
       "      <td>/m/0jys3m</td>\n",
       "      <td>/m/0bgchn4</td>\n",
       "      <td>/m/0346l4</td>\n",
       "    </tr>\n",
       "    <tr>\n",
       "      <th>2</th>\n",
       "      <td>975900</td>\n",
       "      <td>/m/03vyhn</td>\n",
       "      <td>2001-08-24</td>\n",
       "      <td>Desolation Williams</td>\n",
       "      <td>1969-06-15</td>\n",
       "      <td>M</td>\n",
       "      <td>1.727</td>\n",
       "      <td>/m/0x67</td>\n",
       "      <td>Ice Cube</td>\n",
       "      <td>32.0</td>\n",
       "      <td>/m/0jys3g</td>\n",
       "      <td>/m/0bgchn_</td>\n",
       "      <td>/m/01vw26l</td>\n",
       "    </tr>\n",
       "  </tbody>\n",
       "</table>\n",
       "</div>"
      ],
      "text/plain": [
       "   Wiki movie ID Free movie ID Release date              Character name  \\\n",
       "0         975900     /m/03vyhn   2001-08-24                    Akooshay   \n",
       "1         975900     /m/03vyhn   2001-08-24  Lieutenant Melanie Ballard   \n",
       "2         975900     /m/03vyhn   2001-08-24         Desolation Williams   \n",
       "\n",
       "    Actor DOB Gender  Height   Ethnicity          Actor name  Age at release  \\\n",
       "0  1958-08-26      F   1.620         NaN      Wanda De Jesus            42.0   \n",
       "1  1974-08-15      F   1.780  /m/044038p  Natasha Henstridge            27.0   \n",
       "2  1969-06-15      M   1.727     /m/0x67            Ice Cube            32.0   \n",
       "\n",
       "  Charac/actor map Free charac ID  Free actor ID  \n",
       "0       /m/0bgchxw      /m/0bgcj3x    /m/03wcfv7  \n",
       "1        /m/0jys3m      /m/0bgchn4     /m/0346l4  \n",
       "2        /m/0jys3g      /m/0bgchn_    /m/01vw26l  "
      ]
     },
     "execution_count": 196,
     "metadata": {},
     "output_type": "execute_result"
    }
   ],
   "source": [
    "#Characters data\n",
    "df_characters = pd.read_table(\"character.metadata.tsv\", header = None)\n",
    "df_characters.columns = ['Wiki movie ID', 'Free movie ID', 'Release date', 'Character name', 'Actor DOB', 'Gender', 'Height', 'Ethnicity', 'Actor name', 'Age at release', 'Charac/actor map', 'Free charac ID ', 'Free actor ID']\n",
    "df_characters.head(3)"
   ]
  },
  {
   "cell_type": "code",
   "execution_count": 197,
   "metadata": {},
   "outputs": [],
   "source": [
    "df_characters = df_characters[df_characters['Release date'].notna()]\n",
    "df_characters['Release date'] = df_characters['Release date'].apply(lambda x : datetime.strptime(str(x)[0:4],\"%Y\")) #keeping only the year\n",
    "df_characters['Release date'] = [date.year for date in df_characters['Release date']]  #Expliquer pourquoi on garde que l'année\n",
    "df_characters = df_characters.replace(1010, 2010)"
   ]
  },
  {
   "cell_type": "code",
   "execution_count": 198,
   "metadata": {},
   "outputs": [
    {
     "data": {
      "text/html": [
       "<div>\n",
       "<style scoped>\n",
       "    .dataframe tbody tr th:only-of-type {\n",
       "        vertical-align: middle;\n",
       "    }\n",
       "\n",
       "    .dataframe tbody tr th {\n",
       "        vertical-align: top;\n",
       "    }\n",
       "\n",
       "    .dataframe thead th {\n",
       "        text-align: right;\n",
       "    }\n",
       "</style>\n",
       "<table border=\"1\" class=\"dataframe\">\n",
       "  <thead>\n",
       "    <tr style=\"text-align: right;\">\n",
       "      <th></th>\n",
       "      <th>Wiki movie ID</th>\n",
       "      <th>Free movie ID</th>\n",
       "      <th>Release date</th>\n",
       "      <th>Character name</th>\n",
       "      <th>Actor DOB</th>\n",
       "      <th>Gender</th>\n",
       "      <th>Height</th>\n",
       "      <th>Ethnicity</th>\n",
       "      <th>Actor name</th>\n",
       "      <th>Age at release</th>\n",
       "      <th>Charac/actor map</th>\n",
       "      <th>Free charac ID</th>\n",
       "      <th>Free actor ID</th>\n",
       "    </tr>\n",
       "  </thead>\n",
       "  <tbody>\n",
       "    <tr>\n",
       "      <th>67624</th>\n",
       "      <td>29666067</td>\n",
       "      <td>/m/0fphzrf</td>\n",
       "      <td>2010</td>\n",
       "      <td>Kamuran</td>\n",
       "      <td>1983</td>\n",
       "      <td>M</td>\n",
       "      <td>NaN</td>\n",
       "      <td>NaN</td>\n",
       "      <td>Bartu Küçükçaglayan</td>\n",
       "      <td>NaN</td>\n",
       "      <td>/m/0n4fxh5</td>\n",
       "      <td>/m/0n4fxh8</td>\n",
       "      <td>/m/0df0qkt</td>\n",
       "    </tr>\n",
       "    <tr>\n",
       "      <th>67625</th>\n",
       "      <td>29666067</td>\n",
       "      <td>/m/0fphzrf</td>\n",
       "      <td>2010</td>\n",
       "      <td>Ferman</td>\n",
       "      <td>1941-12-26</td>\n",
       "      <td>M</td>\n",
       "      <td>NaN</td>\n",
       "      <td>NaN</td>\n",
       "      <td>Şener Şen</td>\n",
       "      <td>NaN</td>\n",
       "      <td>/m/0gb33kh</td>\n",
       "      <td>/m/0n4fgzm</td>\n",
       "      <td>/m/02z247j</td>\n",
       "    </tr>\n",
       "  </tbody>\n",
       "</table>\n",
       "</div>"
      ],
      "text/plain": [
       "       Wiki movie ID Free movie ID  Release date Character name   Actor DOB  \\\n",
       "67624       29666067    /m/0fphzrf          2010        Kamuran        1983   \n",
       "67625       29666067    /m/0fphzrf          2010         Ferman  1941-12-26   \n",
       "\n",
       "      Gender  Height Ethnicity           Actor name  Age at release  \\\n",
       "67624      M     NaN       NaN  Bartu Küçükçaglayan             NaN   \n",
       "67625      M     NaN       NaN            Şener Şen             NaN   \n",
       "\n",
       "      Charac/actor map Free charac ID  Free actor ID  \n",
       "67624       /m/0n4fxh5      /m/0n4fxh8    /m/0df0qkt  \n",
       "67625       /m/0gb33kh      /m/0n4fgzm    /m/02z247j  "
      ]
     },
     "execution_count": 198,
     "metadata": {},
     "output_type": "execute_result"
    }
   ],
   "source": [
    "df_characters[df_characters['Wiki movie ID'] == 29666067].head(2)"
   ]
  },
  {
   "cell_type": "code",
   "execution_count": 199,
   "metadata": {},
   "outputs": [
    {
     "data": {
      "text/html": [
       "<div>\n",
       "<style scoped>\n",
       "    .dataframe tbody tr th:only-of-type {\n",
       "        vertical-align: middle;\n",
       "    }\n",
       "\n",
       "    .dataframe tbody tr th {\n",
       "        vertical-align: top;\n",
       "    }\n",
       "\n",
       "    .dataframe thead th {\n",
       "        text-align: right;\n",
       "    }\n",
       "</style>\n",
       "<table border=\"1\" class=\"dataframe\">\n",
       "  <thead>\n",
       "    <tr style=\"text-align: right;\">\n",
       "      <th></th>\n",
       "      <th>Wiki movie ID</th>\n",
       "      <th>Free movie ID_x</th>\n",
       "      <th>Release date_x</th>\n",
       "      <th>Character name</th>\n",
       "      <th>Actor DOB</th>\n",
       "      <th>Gender</th>\n",
       "      <th>Height</th>\n",
       "      <th>Ethnicity</th>\n",
       "      <th>Actor name</th>\n",
       "      <th>Age at release</th>\n",
       "      <th>...</th>\n",
       "      <th>Free charac ID</th>\n",
       "      <th>Free actor ID</th>\n",
       "      <th>Free movie ID_y</th>\n",
       "      <th>Name</th>\n",
       "      <th>Release date_y</th>\n",
       "      <th>Box office revenue</th>\n",
       "      <th>Runtime</th>\n",
       "      <th>Languages</th>\n",
       "      <th>Countries</th>\n",
       "      <th>Genres</th>\n",
       "    </tr>\n",
       "  </thead>\n",
       "  <tbody>\n",
       "    <tr>\n",
       "      <th>0</th>\n",
       "      <td>975900</td>\n",
       "      <td>/m/03vyhn</td>\n",
       "      <td>2001</td>\n",
       "      <td>Akooshay</td>\n",
       "      <td>1958-08-26</td>\n",
       "      <td>F</td>\n",
       "      <td>1.620</td>\n",
       "      <td>NaN</td>\n",
       "      <td>Wanda De Jesus</td>\n",
       "      <td>42.0</td>\n",
       "      <td>...</td>\n",
       "      <td>/m/0bgcj3x</td>\n",
       "      <td>/m/03wcfv7</td>\n",
       "      <td>/m/03vyhn</td>\n",
       "      <td>Ghosts of Mars</td>\n",
       "      <td>2001</td>\n",
       "      <td>14010832.0</td>\n",
       "      <td>98.0</td>\n",
       "      <td>[English Language]</td>\n",
       "      <td>[United States of America]</td>\n",
       "      <td>[Thriller, Science Fiction, Horror, Adventure,...</td>\n",
       "    </tr>\n",
       "    <tr>\n",
       "      <th>1</th>\n",
       "      <td>975900</td>\n",
       "      <td>/m/03vyhn</td>\n",
       "      <td>2001</td>\n",
       "      <td>Lieutenant Melanie Ballard</td>\n",
       "      <td>1974-08-15</td>\n",
       "      <td>F</td>\n",
       "      <td>1.780</td>\n",
       "      <td>/m/044038p</td>\n",
       "      <td>Natasha Henstridge</td>\n",
       "      <td>27.0</td>\n",
       "      <td>...</td>\n",
       "      <td>/m/0bgchn4</td>\n",
       "      <td>/m/0346l4</td>\n",
       "      <td>/m/03vyhn</td>\n",
       "      <td>Ghosts of Mars</td>\n",
       "      <td>2001</td>\n",
       "      <td>14010832.0</td>\n",
       "      <td>98.0</td>\n",
       "      <td>[English Language]</td>\n",
       "      <td>[United States of America]</td>\n",
       "      <td>[Thriller, Science Fiction, Horror, Adventure,...</td>\n",
       "    </tr>\n",
       "    <tr>\n",
       "      <th>2</th>\n",
       "      <td>975900</td>\n",
       "      <td>/m/03vyhn</td>\n",
       "      <td>2001</td>\n",
       "      <td>Desolation Williams</td>\n",
       "      <td>1969-06-15</td>\n",
       "      <td>M</td>\n",
       "      <td>1.727</td>\n",
       "      <td>/m/0x67</td>\n",
       "      <td>Ice Cube</td>\n",
       "      <td>32.0</td>\n",
       "      <td>...</td>\n",
       "      <td>/m/0bgchn_</td>\n",
       "      <td>/m/01vw26l</td>\n",
       "      <td>/m/03vyhn</td>\n",
       "      <td>Ghosts of Mars</td>\n",
       "      <td>2001</td>\n",
       "      <td>14010832.0</td>\n",
       "      <td>98.0</td>\n",
       "      <td>[English Language]</td>\n",
       "      <td>[United States of America]</td>\n",
       "      <td>[Thriller, Science Fiction, Horror, Adventure,...</td>\n",
       "    </tr>\n",
       "    <tr>\n",
       "      <th>3</th>\n",
       "      <td>975900</td>\n",
       "      <td>/m/03vyhn</td>\n",
       "      <td>2001</td>\n",
       "      <td>Sgt Jericho Butler</td>\n",
       "      <td>1967-09-12</td>\n",
       "      <td>M</td>\n",
       "      <td>1.750</td>\n",
       "      <td>NaN</td>\n",
       "      <td>Jason Statham</td>\n",
       "      <td>33.0</td>\n",
       "      <td>...</td>\n",
       "      <td>/m/0bgchnq</td>\n",
       "      <td>/m/034hyc</td>\n",
       "      <td>/m/03vyhn</td>\n",
       "      <td>Ghosts of Mars</td>\n",
       "      <td>2001</td>\n",
       "      <td>14010832.0</td>\n",
       "      <td>98.0</td>\n",
       "      <td>[English Language]</td>\n",
       "      <td>[United States of America]</td>\n",
       "      <td>[Thriller, Science Fiction, Horror, Adventure,...</td>\n",
       "    </tr>\n",
       "    <tr>\n",
       "      <th>4</th>\n",
       "      <td>975900</td>\n",
       "      <td>/m/03vyhn</td>\n",
       "      <td>2001</td>\n",
       "      <td>Bashira Kincaid</td>\n",
       "      <td>1977-09-25</td>\n",
       "      <td>F</td>\n",
       "      <td>1.650</td>\n",
       "      <td>NaN</td>\n",
       "      <td>Clea DuVall</td>\n",
       "      <td>23.0</td>\n",
       "      <td>...</td>\n",
       "      <td>/m/0bgchp9</td>\n",
       "      <td>/m/01y9xg</td>\n",
       "      <td>/m/03vyhn</td>\n",
       "      <td>Ghosts of Mars</td>\n",
       "      <td>2001</td>\n",
       "      <td>14010832.0</td>\n",
       "      <td>98.0</td>\n",
       "      <td>[English Language]</td>\n",
       "      <td>[United States of America]</td>\n",
       "      <td>[Thriller, Science Fiction, Horror, Adventure,...</td>\n",
       "    </tr>\n",
       "  </tbody>\n",
       "</table>\n",
       "<p>5 rows × 21 columns</p>\n",
       "</div>"
      ],
      "text/plain": [
       "   Wiki movie ID Free movie ID_x  Release date_x              Character name  \\\n",
       "0         975900       /m/03vyhn            2001                    Akooshay   \n",
       "1         975900       /m/03vyhn            2001  Lieutenant Melanie Ballard   \n",
       "2         975900       /m/03vyhn            2001         Desolation Williams   \n",
       "3         975900       /m/03vyhn            2001          Sgt Jericho Butler   \n",
       "4         975900       /m/03vyhn            2001             Bashira Kincaid   \n",
       "\n",
       "    Actor DOB Gender  Height   Ethnicity          Actor name  Age at release  \\\n",
       "0  1958-08-26      F   1.620         NaN      Wanda De Jesus            42.0   \n",
       "1  1974-08-15      F   1.780  /m/044038p  Natasha Henstridge            27.0   \n",
       "2  1969-06-15      M   1.727     /m/0x67            Ice Cube            32.0   \n",
       "3  1967-09-12      M   1.750         NaN       Jason Statham            33.0   \n",
       "4  1977-09-25      F   1.650         NaN         Clea DuVall            23.0   \n",
       "\n",
       "   ... Free charac ID  Free actor ID Free movie ID_y            Name  \\\n",
       "0  ...      /m/0bgcj3x    /m/03wcfv7       /m/03vyhn  Ghosts of Mars   \n",
       "1  ...      /m/0bgchn4     /m/0346l4       /m/03vyhn  Ghosts of Mars   \n",
       "2  ...      /m/0bgchn_    /m/01vw26l       /m/03vyhn  Ghosts of Mars   \n",
       "3  ...      /m/0bgchnq     /m/034hyc       /m/03vyhn  Ghosts of Mars   \n",
       "4  ...      /m/0bgchp9     /m/01y9xg       /m/03vyhn  Ghosts of Mars   \n",
       "\n",
       "  Release date_y  Box office revenue  Runtime           Languages  \\\n",
       "0           2001          14010832.0     98.0  [English Language]   \n",
       "1           2001          14010832.0     98.0  [English Language]   \n",
       "2           2001          14010832.0     98.0  [English Language]   \n",
       "3           2001          14010832.0     98.0  [English Language]   \n",
       "4           2001          14010832.0     98.0  [English Language]   \n",
       "\n",
       "                    Countries  \\\n",
       "0  [United States of America]   \n",
       "1  [United States of America]   \n",
       "2  [United States of America]   \n",
       "3  [United States of America]   \n",
       "4  [United States of America]   \n",
       "\n",
       "                                              Genres  \n",
       "0  [Thriller, Science Fiction, Horror, Adventure,...  \n",
       "1  [Thriller, Science Fiction, Horror, Adventure,...  \n",
       "2  [Thriller, Science Fiction, Horror, Adventure,...  \n",
       "3  [Thriller, Science Fiction, Horror, Adventure,...  \n",
       "4  [Thriller, Science Fiction, Horror, Adventure,...  \n",
       "\n",
       "[5 rows x 21 columns]"
      ]
     },
     "execution_count": 199,
     "metadata": {},
     "output_type": "execute_result"
    }
   ],
   "source": [
    "merged_charac = pd.merge(left = df_characters, right = df_movie, on = 'Wiki movie ID', how = 'left')\n",
    "merged_charac.head(5)"
   ]
  },
  {
   "cell_type": "code",
   "execution_count": 200,
   "metadata": {},
   "outputs": [],
   "source": [
    "#Taking first genre mentionned as main genre, ignoring rows with no genre\n",
    "merged_charac['Main genre'] = merged_charac['Genres'].apply(lambda x :x[0] if (x != []) else None) "
   ]
  },
  {
   "cell_type": "code",
   "execution_count": 201,
   "metadata": {},
   "outputs": [],
   "source": [
    "df_characters_F = merged_charac[merged_charac['Gender'] == 'F']\n",
    "df_characters_M = merged_charac[merged_charac['Gender'] == 'M']"
   ]
  },
  {
   "cell_type": "code",
   "execution_count": 202,
   "metadata": {},
   "outputs": [
    {
     "data": {
      "text/html": [
       "<div>\n",
       "<style scoped>\n",
       "    .dataframe tbody tr th:only-of-type {\n",
       "        vertical-align: middle;\n",
       "    }\n",
       "\n",
       "    .dataframe tbody tr th {\n",
       "        vertical-align: top;\n",
       "    }\n",
       "\n",
       "    .dataframe thead th {\n",
       "        text-align: right;\n",
       "    }\n",
       "</style>\n",
       "<table border=\"1\" class=\"dataframe\">\n",
       "  <thead>\n",
       "    <tr style=\"text-align: right;\">\n",
       "      <th></th>\n",
       "      <th>Wiki movie ID</th>\n",
       "      <th>Free movie ID_x</th>\n",
       "      <th>Character name</th>\n",
       "      <th>Actor DOB</th>\n",
       "      <th>Gender</th>\n",
       "      <th>Height</th>\n",
       "      <th>Ethnicity</th>\n",
       "      <th>Actor name</th>\n",
       "      <th>Age at release</th>\n",
       "      <th>Charac/actor map</th>\n",
       "      <th>...</th>\n",
       "      <th>Free actor ID</th>\n",
       "      <th>Free movie ID_y</th>\n",
       "      <th>Name</th>\n",
       "      <th>Release date_y</th>\n",
       "      <th>Box office revenue</th>\n",
       "      <th>Runtime</th>\n",
       "      <th>Languages</th>\n",
       "      <th>Countries</th>\n",
       "      <th>Genres</th>\n",
       "      <th>Main genre</th>\n",
       "    </tr>\n",
       "    <tr>\n",
       "      <th>Release date_x</th>\n",
       "      <th></th>\n",
       "      <th></th>\n",
       "      <th></th>\n",
       "      <th></th>\n",
       "      <th></th>\n",
       "      <th></th>\n",
       "      <th></th>\n",
       "      <th></th>\n",
       "      <th></th>\n",
       "      <th></th>\n",
       "      <th></th>\n",
       "      <th></th>\n",
       "      <th></th>\n",
       "      <th></th>\n",
       "      <th></th>\n",
       "      <th></th>\n",
       "      <th></th>\n",
       "      <th></th>\n",
       "      <th></th>\n",
       "      <th></th>\n",
       "      <th></th>\n",
       "    </tr>\n",
       "  </thead>\n",
       "  <tbody>\n",
       "    <tr>\n",
       "      <th>1888</th>\n",
       "      <td>2</td>\n",
       "      <td>2</td>\n",
       "      <td>0</td>\n",
       "      <td>0</td>\n",
       "      <td>2</td>\n",
       "      <td>0</td>\n",
       "      <td>0</td>\n",
       "      <td>2</td>\n",
       "      <td>0</td>\n",
       "      <td>2</td>\n",
       "      <td>...</td>\n",
       "      <td>2</td>\n",
       "      <td>2</td>\n",
       "      <td>2</td>\n",
       "      <td>2</td>\n",
       "      <td>0</td>\n",
       "      <td>2</td>\n",
       "      <td>2</td>\n",
       "      <td>2</td>\n",
       "      <td>2</td>\n",
       "      <td>2</td>\n",
       "    </tr>\n",
       "    <tr>\n",
       "      <th>1891</th>\n",
       "      <td>1</td>\n",
       "      <td>1</td>\n",
       "      <td>0</td>\n",
       "      <td>1</td>\n",
       "      <td>1</td>\n",
       "      <td>0</td>\n",
       "      <td>1</td>\n",
       "      <td>1</td>\n",
       "      <td>0</td>\n",
       "      <td>1</td>\n",
       "      <td>...</td>\n",
       "      <td>1</td>\n",
       "      <td>1</td>\n",
       "      <td>1</td>\n",
       "      <td>1</td>\n",
       "      <td>0</td>\n",
       "      <td>1</td>\n",
       "      <td>1</td>\n",
       "      <td>1</td>\n",
       "      <td>1</td>\n",
       "      <td>1</td>\n",
       "    </tr>\n",
       "    <tr>\n",
       "      <th>1893</th>\n",
       "      <td>2</td>\n",
       "      <td>2</td>\n",
       "      <td>0</td>\n",
       "      <td>1</td>\n",
       "      <td>2</td>\n",
       "      <td>0</td>\n",
       "      <td>0</td>\n",
       "      <td>2</td>\n",
       "      <td>0</td>\n",
       "      <td>2</td>\n",
       "      <td>...</td>\n",
       "      <td>2</td>\n",
       "      <td>2</td>\n",
       "      <td>2</td>\n",
       "      <td>2</td>\n",
       "      <td>0</td>\n",
       "      <td>2</td>\n",
       "      <td>2</td>\n",
       "      <td>2</td>\n",
       "      <td>2</td>\n",
       "      <td>2</td>\n",
       "    </tr>\n",
       "  </tbody>\n",
       "</table>\n",
       "<p>3 rows × 21 columns</p>\n",
       "</div>"
      ],
      "text/plain": [
       "                Wiki movie ID  Free movie ID_x  Character name  Actor DOB  \\\n",
       "Release date_x                                                              \n",
       "1888                        2                2               0          0   \n",
       "1891                        1                1               0          1   \n",
       "1893                        2                2               0          1   \n",
       "\n",
       "                Gender  Height  Ethnicity  Actor name  Age at release  \\\n",
       "Release date_x                                                          \n",
       "1888                 2       0          0           2               0   \n",
       "1891                 1       0          1           1               0   \n",
       "1893                 2       0          0           2               0   \n",
       "\n",
       "                Charac/actor map  ...  Free actor ID  Free movie ID_y  Name  \\\n",
       "Release date_x                    ...                                         \n",
       "1888                           2  ...              2                2     2   \n",
       "1891                           1  ...              1                1     1   \n",
       "1893                           2  ...              2                2     2   \n",
       "\n",
       "                Release date_y  Box office revenue  Runtime  Languages  \\\n",
       "Release date_x                                                           \n",
       "1888                         2                   0        2          2   \n",
       "1891                         1                   0        1          1   \n",
       "1893                         2                   0        2          2   \n",
       "\n",
       "                Countries  Genres  Main genre  \n",
       "Release date_x                                 \n",
       "1888                    2       2           2  \n",
       "1891                    1       1           1  \n",
       "1893                    2       2           2  \n",
       "\n",
       "[3 rows x 21 columns]"
      ]
     },
     "execution_count": 202,
     "metadata": {},
     "output_type": "execute_result"
    }
   ],
   "source": [
    "Nb_charac_F = df_characters_F.groupby('Release date_x').count()\n",
    "Nb_charac_M = df_characters_M.groupby('Release date_x').count()\n",
    "Nb_charac_M.head(3)"
   ]
  },
  {
   "cell_type": "code",
   "execution_count": 238,
   "metadata": {},
   "outputs": [
    {
     "data": {
      "image/png": "[encoded data removed]",
      "text/plain": [
       "<Figure size 640x480 with 1 Axes>"
      ]
     },
     "metadata": {},
     "output_type": "display_data"
    }
   ],
   "source": [
    "plt.plot(Nb_charac_F['Wiki movie ID'], label = 'F')\n",
    "plt.plot(Nb_charac_M['Wiki movie ID'], label = 'M')\n",
    "plt.plot(Nb_charac_M['Wiki movie ID'] - Nb_charac_F['Wiki movie ID'], label = 'diff')\n",
    "plt.ylabel('Number of movies released per year')\n",
    "plt.xlabel('Release year')\n",
    "plt.legend()\n",
    "plt.show()"
   ]
  },
  {
   "cell_type": "code",
   "execution_count": 158,
   "metadata": {},
   "outputs": [
    {
     "data": {
      "text/plain": [
       "'Thriller'"
      ]
     },
     "execution_count": 158,
     "metadata": {},
     "output_type": "execute_result"
    }
   ],
   "source": [
    "genre_ex = merged_charac['Genres'][0]\n",
    "genre_ex[0]"
   ]
  },
  {
   "cell_type": "code",
   "execution_count": 193,
   "metadata": {},
   "outputs": [],
   "source": [
    "empty_genre = merged_charac[merged_charac['Wiki movie ID'] == 32456683]"
   ]
  },
  {
   "cell_type": "code",
   "execution_count": 215,
   "metadata": {},
   "outputs": [
    {
     "data": {
      "text/html": [
       "<div>\n",
       "<style scoped>\n",
       "    .dataframe tbody tr th:only-of-type {\n",
       "        vertical-align: middle;\n",
       "    }\n",
       "\n",
       "    .dataframe tbody tr th {\n",
       "        vertical-align: top;\n",
       "    }\n",
       "\n",
       "    .dataframe thead th {\n",
       "        text-align: right;\n",
       "    }\n",
       "</style>\n",
       "<table border=\"1\" class=\"dataframe\">\n",
       "  <thead>\n",
       "    <tr style=\"text-align: right;\">\n",
       "      <th></th>\n",
       "      <th>Wiki movie ID</th>\n",
       "      <th>Free movie ID_x</th>\n",
       "      <th>Release date_x</th>\n",
       "      <th>Character name</th>\n",
       "      <th>Actor DOB</th>\n",
       "      <th>Gender</th>\n",
       "      <th>Height</th>\n",
       "      <th>Ethnicity</th>\n",
       "      <th>Actor name</th>\n",
       "      <th>Age at release</th>\n",
       "      <th>...</th>\n",
       "      <th>Free charac ID</th>\n",
       "      <th>Free actor ID</th>\n",
       "      <th>Free movie ID_y</th>\n",
       "      <th>Name</th>\n",
       "      <th>Release date_y</th>\n",
       "      <th>Box office revenue</th>\n",
       "      <th>Runtime</th>\n",
       "      <th>Languages</th>\n",
       "      <th>Countries</th>\n",
       "      <th>Genres</th>\n",
       "    </tr>\n",
       "    <tr>\n",
       "      <th>Main genre</th>\n",
       "      <th></th>\n",
       "      <th></th>\n",
       "      <th></th>\n",
       "      <th></th>\n",
       "      <th></th>\n",
       "      <th></th>\n",
       "      <th></th>\n",
       "      <th></th>\n",
       "      <th></th>\n",
       "      <th></th>\n",
       "      <th></th>\n",
       "      <th></th>\n",
       "      <th></th>\n",
       "      <th></th>\n",
       "      <th></th>\n",
       "      <th></th>\n",
       "      <th></th>\n",
       "      <th></th>\n",
       "      <th></th>\n",
       "      <th></th>\n",
       "      <th></th>\n",
       "    </tr>\n",
       "  </thead>\n",
       "  <tbody>\n",
       "    <tr>\n",
       "      <th>Drama</th>\n",
       "      <td>18122</td>\n",
       "      <td>18122</td>\n",
       "      <td>18122</td>\n",
       "      <td>8772</td>\n",
       "      <td>14360</td>\n",
       "      <td>18122</td>\n",
       "      <td>5630</td>\n",
       "      <td>4070</td>\n",
       "      <td>18122</td>\n",
       "      <td>13048</td>\n",
       "      <td>...</td>\n",
       "      <td>8772</td>\n",
       "      <td>18122</td>\n",
       "      <td>18122</td>\n",
       "      <td>18122</td>\n",
       "      <td>18122</td>\n",
       "      <td>2085</td>\n",
       "      <td>15405</td>\n",
       "      <td>18122</td>\n",
       "      <td>18122</td>\n",
       "      <td>18122</td>\n",
       "    </tr>\n",
       "    <tr>\n",
       "      <th>Thriller</th>\n",
       "      <td>17385</td>\n",
       "      <td>17385</td>\n",
       "      <td>17385</td>\n",
       "      <td>10198</td>\n",
       "      <td>14566</td>\n",
       "      <td>17385</td>\n",
       "      <td>8630</td>\n",
       "      <td>4796</td>\n",
       "      <td>17385</td>\n",
       "      <td>13811</td>\n",
       "      <td>...</td>\n",
       "      <td>10198</td>\n",
       "      <td>17385</td>\n",
       "      <td>17385</td>\n",
       "      <td>17385</td>\n",
       "      <td>17385</td>\n",
       "      <td>5830</td>\n",
       "      <td>16459</td>\n",
       "      <td>17385</td>\n",
       "      <td>17385</td>\n",
       "      <td>17385</td>\n",
       "    </tr>\n",
       "    <tr>\n",
       "      <th>Romantic comedy</th>\n",
       "      <td>9286</td>\n",
       "      <td>9286</td>\n",
       "      <td>9286</td>\n",
       "      <td>5355</td>\n",
       "      <td>8234</td>\n",
       "      <td>9286</td>\n",
       "      <td>5422</td>\n",
       "      <td>3053</td>\n",
       "      <td>9286</td>\n",
       "      <td>7776</td>\n",
       "      <td>...</td>\n",
       "      <td>5355</td>\n",
       "      <td>9286</td>\n",
       "      <td>9286</td>\n",
       "      <td>9286</td>\n",
       "      <td>9286</td>\n",
       "      <td>4243</td>\n",
       "      <td>9134</td>\n",
       "      <td>9286</td>\n",
       "      <td>9286</td>\n",
       "      <td>9286</td>\n",
       "    </tr>\n",
       "  </tbody>\n",
       "</table>\n",
       "<p>3 rows × 21 columns</p>\n",
       "</div>"
      ],
      "text/plain": [
       "                 Wiki movie ID  Free movie ID_x  Release date_x  \\\n",
       "Main genre                                                        \n",
       "Drama                    18122            18122           18122   \n",
       "Thriller                 17385            17385           17385   \n",
       "Romantic comedy           9286             9286            9286   \n",
       "\n",
       "                 Character name  Actor DOB  Gender  Height  Ethnicity  \\\n",
       "Main genre                                                              \n",
       "Drama                      8772      14360   18122    5630       4070   \n",
       "Thriller                  10198      14566   17385    8630       4796   \n",
       "Romantic comedy            5355       8234    9286    5422       3053   \n",
       "\n",
       "                 Actor name  Age at release  ...  Free charac ID   \\\n",
       "Main genre                                   ...                    \n",
       "Drama                 18122           13048  ...             8772   \n",
       "Thriller              17385           13811  ...            10198   \n",
       "Romantic comedy        9286            7776  ...             5355   \n",
       "\n",
       "                 Free actor ID  Free movie ID_y   Name  Release date_y  \\\n",
       "Main genre                                                               \n",
       "Drama                    18122            18122  18122           18122   \n",
       "Thriller                 17385            17385  17385           17385   \n",
       "Romantic comedy           9286             9286   9286            9286   \n",
       "\n",
       "                 Box office revenue  Runtime  Languages  Countries  Genres  \n",
       "Main genre                                                                  \n",
       "Drama                          2085    15405      18122      18122   18122  \n",
       "Thriller                       5830    16459      17385      17385   17385  \n",
       "Romantic comedy                4243     9134       9286       9286    9286  \n",
       "\n",
       "[3 rows x 21 columns]"
      ]
     },
     "execution_count": 215,
     "metadata": {},
     "output_type": "execute_result"
    }
   ],
   "source": [
    "F_genre = df_characters_F.groupby('Main genre').count()\n",
    "M_genre = df_characters_M.groupby('Main genre').count()\n",
    "\n",
    "F_genre = F_genre.sort_values('Wiki movie ID', axis = 0, ascending = False)\n",
    "M_genre = M_genre.sort_values('Wiki movie ID', axis = 0, ascending = False)\n",
    "\n",
    "F_genre.head(3)"
   ]
  },
  {
   "cell_type": "code",
   "execution_count": 250,
   "metadata": {},
   "outputs": [
    {
     "data": {
      "image/png": "[encoded data removed]",
      "text/plain": [
       "<Figure size 1800x800 with 2 Axes>"
      ]
     },
     "metadata": {},
     "output_type": "display_data"
    }
   ],
   "source": [
    "fig, ax = plt.subplots(2,1, figsize = (18,8), sharey = True)   #share x ??\n",
    "\n",
    "ax[0].bar(M_genre.index[0:10], M_genre['Wiki movie ID'][0:10], label = 'M', color = 'turquoise')\n",
    "ax[0].legend()\n",
    "ax[1].bar(F_genre.index[0:10], F_genre['Wiki movie ID'][0:10], label = 'F', color = 'orange')\n",
    "ax[1].legend()\n",
    "plt.show()"
   ]
  },
  {
   "cell_type": "markdown",
   "metadata": {},
   "source": [
    "Ce serait intéressant de voir l'évolution de drama, thriller and crime fiction dans le temps"
   ]
  },
  {
   "cell_type": "code",
   "execution_count": 276,
   "metadata": {},
   "outputs": [
    {
     "data": {
      "image/png": "[encoded data removed]",
      "text/plain": [
       "<Figure size 640x480 with 1 Axes>"
      ]
     },
     "metadata": {},
     "output_type": "display_data"
    }
   ],
   "source": [
    "M_drama = df_characters_M[df_characters_M['Main genre'] == 'Drama']\n",
    "M_drama_year = M_drama.groupby('Release date_x').count()\n",
    "plt.bar(M_drama_year.index, M_drama_year['Wiki movie ID'], label = 'M')\n",
    "\n",
    "F_drama = df_characters_F[df_characters_F['Main genre'] == 'Drama']\n",
    "F_drama_year = F_drama.groupby('Release date_x').count()\n",
    "plt.bar(F_drama_year.index, F_drama_year['Wiki movie ID'], label = 'F')\n",
    "\n",
    "plt.bar(F_drama_year.index, M_drama_year['Wiki movie ID'] - F_drama_year['Wiki movie ID'], label = 'diff')\n",
    "plt.title('Drama')\n",
    "plt.legend()\n",
    "plt.show()"
   ]
  },
  {
   "cell_type": "markdown",
   "metadata": {},
   "source": [
    "La différence en vert permet de voir que l'augmentation des hommes est plus grandes que celles des femmes"
   ]
  },
  {
   "cell_type": "code",
   "execution_count": 277,
   "metadata": {},
   "outputs": [
    {
     "data": {
      "image/png": "[encoded data removed]",
      "text/plain": [
       "<Figure size 640x480 with 1 Axes>"
      ]
     },
     "metadata": {},
     "output_type": "display_data"
    }
   ],
   "source": [
    "M_thriller = df_characters_M[df_characters_M['Main genre'] == 'Thriller']\n",
    "M_thriller_year = M_drama.groupby('Release date_x').count()\n",
    "plt.bar(M_thriller_year. index, M_thriller_year['Wiki movie ID'], label = 'M')\n",
    "\n",
    "F_thriller = df_characters_F[df_characters_F['Main genre'] == 'Thriller']\n",
    "F_thriller_year = F_thriller.groupby('Release date_x').count()\n",
    "plt.bar(F_thriller_year. index, F_thriller_year['Wiki movie ID'], label = 'F')\n",
    "\n",
    "#plt.bar(F_thriller_year.index, M_thriller_year['Wiki movie ID'] - F_thriller_year['Wiki movie ID'], label = 'diff')\n",
    "\n",
    "plt.title('Thriller')\n",
    "plt.legend()\n",
    "plt.show()"
   ]
  },
  {
   "cell_type": "markdown",
   "metadata": {},
   "source": [
    "On voit que l'augmentation des femmes est plus grande que celle des hommes."
   ]
  },
  {
   "cell_type": "code",
   "execution_count": 280,
   "metadata": {},
   "outputs": [
    {
     "data": {
      "image/png": "[encoded data removed]",
      "text/plain": [
       "<Figure size 640x480 with 1 Axes>"
      ]
     },
     "metadata": {},
     "output_type": "display_data"
    }
   ],
   "source": [
    "M_CF = df_characters_M[df_characters_M['Main genre'] == 'Crime Fiction']\n",
    "M_CF_year = M_CF.groupby('Release date_x').count()\n",
    "plt.bar(M_CF_year.index, M_CF_year['Wiki movie ID'], label = 'M')\n",
    "\n",
    "F_CF = df_characters_F[df_characters_F['Main genre'] == 'Crime Fiction']\n",
    "F_CF_year = F_CF.groupby('Release date_x').count()\n",
    "plt.bar(F_CF_year.index, F_CF_year['Wiki movie ID'], label = 'F')\n",
    "\n",
    "#plt.bar(F_CF_year.index, M_CF_year['Wiki movie ID'] - F_CF_year['Wiki movie ID'], label = 'diff')\n",
    "\n",
    "plt.title('Crime fiction')\n",
    "plt.legend()\n",
    "plt.show()"
   ]
  },
  {
   "cell_type": "markdown",
   "metadata": {},
   "source": [
    "On voit que l'augmentation des hommes est bien plus grande chez les hommes que les femmes."
   ]
  },
  {
   "cell_type": "markdown",
   "metadata": {},
   "source": [
    "Est-ce qu'il existe une mesure pour mesurer l'augmentation ?"
   ]
  },
  {
   "cell_type": "code",
   "execution_count": null,
   "metadata": {},
   "outputs": [],
   "source": []
  }
 ],
 "metadata": {
  "kernelspec": {
   "display_name": "Python 3 (ipykernel)",
   "language": "python",
   "name": "python3"
  },
  "language_info": {
   "codemirror_mode": {
    "name": "ipython",
    "version": 3
   },
   "file_extension": ".py",
   "mimetype": "text/x-python",
   "name": "python",
   "nbconvert_exporter": "python",
   "pygments_lexer": "ipython3",
   "version": "3.9.13"
  }
 },
 "nbformat": 4,
 "nbformat_minor": 4
}
