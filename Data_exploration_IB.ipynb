{
 "cells": [
  {
   "cell_type": "code",
   "execution_count": 11,
   "metadata": {},
   "outputs": [],
   "source": [
    "import numpy as np\n",
    "import pandas as pd\n",
    "import matplotlib.pyplot as plt\n",
    "from datetime import datetime, date, time"
   ]
  },
  {
   "cell_type": "code",
   "execution_count": 108,
   "metadata": {},
   "outputs": [],
   "source": [
    "#pip install neuralcoref"
   ]
  },
  {
   "cell_type": "code",
   "execution_count": 12,
   "metadata": {},
   "outputs": [
    {
     "data": {
      "text/html": [
       "<div>\n",
       "<style scoped>\n",
       "    .dataframe tbody tr th:only-of-type {\n",
       "        vertical-align: middle;\n",
       "    }\n",
       "\n",
       "    .dataframe tbody tr th {\n",
       "        vertical-align: top;\n",
       "    }\n",
       "\n",
       "    .dataframe thead th {\n",
       "        text-align: right;\n",
       "    }\n",
       "</style>\n",
       "<table border=\"1\" class=\"dataframe\">\n",
       "  <thead>\n",
       "    <tr style=\"text-align: right;\">\n",
       "      <th></th>\n",
       "      <th>Wiki movie ID</th>\n",
       "      <th>Free movie ID</th>\n",
       "      <th>Name</th>\n",
       "      <th>Release date</th>\n",
       "      <th>Box office revenue</th>\n",
       "      <th>Runtime</th>\n",
       "      <th>Languages</th>\n",
       "      <th>Countries</th>\n",
       "      <th>Genres</th>\n",
       "    </tr>\n",
       "  </thead>\n",
       "  <tbody>\n",
       "    <tr>\n",
       "      <th>0</th>\n",
       "      <td>975900</td>\n",
       "      <td>/m/03vyhn</td>\n",
       "      <td>Ghosts of Mars</td>\n",
       "      <td>2001-08-24</td>\n",
       "      <td>14010832.0</td>\n",
       "      <td>98.0</td>\n",
       "      <td>{\"/m/02h40lc\": \"English Language\"}</td>\n",
       "      <td>{\"/m/09c7w0\": \"United States of America\"}</td>\n",
       "      <td>{\"/m/01jfsb\": \"Thriller\", \"/m/06n90\": \"Science...</td>\n",
       "    </tr>\n",
       "    <tr>\n",
       "      <th>1</th>\n",
       "      <td>3196793</td>\n",
       "      <td>/m/08yl5d</td>\n",
       "      <td>Getting Away with Murder: The JonBenét Ramsey ...</td>\n",
       "      <td>2000-02-16</td>\n",
       "      <td>NaN</td>\n",
       "      <td>95.0</td>\n",
       "      <td>{\"/m/02h40lc\": \"English Language\"}</td>\n",
       "      <td>{\"/m/09c7w0\": \"United States of America\"}</td>\n",
       "      <td>{\"/m/02n4kr\": \"Mystery\", \"/m/03bxz7\": \"Biograp...</td>\n",
       "    </tr>\n",
       "    <tr>\n",
       "      <th>2</th>\n",
       "      <td>28463795</td>\n",
       "      <td>/m/0crgdbh</td>\n",
       "      <td>Brun bitter</td>\n",
       "      <td>1988</td>\n",
       "      <td>NaN</td>\n",
       "      <td>83.0</td>\n",
       "      <td>{\"/m/05f_3\": \"Norwegian Language\"}</td>\n",
       "      <td>{\"/m/05b4w\": \"Norway\"}</td>\n",
       "      <td>{\"/m/0lsxr\": \"Crime Fiction\", \"/m/07s9rl0\": \"D...</td>\n",
       "    </tr>\n",
       "  </tbody>\n",
       "</table>\n",
       "</div>"
      ],
      "text/plain": [
       "   Wiki movie ID Free movie ID  \\\n",
       "0         975900     /m/03vyhn   \n",
       "1        3196793     /m/08yl5d   \n",
       "2       28463795    /m/0crgdbh   \n",
       "\n",
       "                                                Name Release date  \\\n",
       "0                                     Ghosts of Mars   2001-08-24   \n",
       "1  Getting Away with Murder: The JonBenét Ramsey ...   2000-02-16   \n",
       "2                                        Brun bitter         1988   \n",
       "\n",
       "   Box office revenue  Runtime                           Languages  \\\n",
       "0          14010832.0     98.0  {\"/m/02h40lc\": \"English Language\"}   \n",
       "1                 NaN     95.0  {\"/m/02h40lc\": \"English Language\"}   \n",
       "2                 NaN     83.0  {\"/m/05f_3\": \"Norwegian Language\"}   \n",
       "\n",
       "                                   Countries  \\\n",
       "0  {\"/m/09c7w0\": \"United States of America\"}   \n",
       "1  {\"/m/09c7w0\": \"United States of America\"}   \n",
       "2                     {\"/m/05b4w\": \"Norway\"}   \n",
       "\n",
       "                                              Genres  \n",
       "0  {\"/m/01jfsb\": \"Thriller\", \"/m/06n90\": \"Science...  \n",
       "1  {\"/m/02n4kr\": \"Mystery\", \"/m/03bxz7\": \"Biograp...  \n",
       "2  {\"/m/0lsxr\": \"Crime Fiction\", \"/m/07s9rl0\": \"D...  "
      ]
     },
     "execution_count": 12,
     "metadata": {},
     "output_type": "execute_result"
    }
   ],
   "source": [
    "df_movie = pd.read_table(\"movie.metadata.tsv\", header = None)\n",
    "df_movie.columns = ['Wiki movie ID', 'Free movie ID', 'Name', 'Release date', 'Box office revenue', 'Runtime', 'Languages','Countries', 'Genres']\n",
    "df_movie.head(3)"
   ]
  },
  {
   "cell_type": "code",
   "execution_count": 13,
   "metadata": {},
   "outputs": [],
   "source": [
    "df_movie['Languages'] = [lang.split('\"')[3::4] for lang in df_movie.Languages]\n",
    "df_movie['Countries'] = [lang.split('\"')[3::4] for lang in df_movie.Countries]\n",
    "df_movie['Genres'] = [lang.split('\"')[3::4] for lang in df_movie.Genres]\n",
    "\n",
    "df_movie = df_movie[df_movie['Release date'].notna()]\n",
    "df_movie['Release date'] = df_movie['Release date'].apply(lambda x : datetime.strptime(str(x)[0:4],\"%Y\")) #keeping only the year\n",
    "df_movie['Release date'] = [date.year for date in df_movie['Release date']]  #Expliquer pourquoi on garde que l'année"
   ]
  },
  {
   "cell_type": "code",
   "execution_count": 14,
   "metadata": {},
   "outputs": [
    {
     "data": {
      "text/plain": [
       "1010"
      ]
     },
     "execution_count": 14,
     "metadata": {},
     "output_type": "execute_result"
    }
   ],
   "source": [
    "min(df_movie['Release date'])"
   ]
  },
  {
   "cell_type": "markdown",
   "metadata": {},
   "source": [
    "We discovered an error in one of the dates of the movies. Indeed, the earliest movie in the dataset is from 1010, however this is not possible. Thus, we looked for the true release date of this movie by using its name and origin. We found that its release year is actually 2010 thus we assume that there was simply a mistake in the first number. Now that we have the true year of release, we modify the value in the data."
   ]
  },
  {
   "cell_type": "code",
   "execution_count": 15,
   "metadata": {},
   "outputs": [],
   "source": [
    "df_movie = df_movie.replace(1010, 2010)"
   ]
  },
  {
   "cell_type": "code",
   "execution_count": 16,
   "metadata": {},
   "outputs": [
    {
     "data": {
      "text/html": [
       "<div>\n",
       "<style scoped>\n",
       "    .dataframe tbody tr th:only-of-type {\n",
       "        vertical-align: middle;\n",
       "    }\n",
       "\n",
       "    .dataframe tbody tr th {\n",
       "        vertical-align: top;\n",
       "    }\n",
       "\n",
       "    .dataframe thead th {\n",
       "        text-align: right;\n",
       "    }\n",
       "</style>\n",
       "<table border=\"1\" class=\"dataframe\">\n",
       "  <thead>\n",
       "    <tr style=\"text-align: right;\">\n",
       "      <th></th>\n",
       "      <th>Wiki movie ID</th>\n",
       "      <th>Free movie ID</th>\n",
       "      <th>Name</th>\n",
       "      <th>Release date</th>\n",
       "      <th>Box office revenue</th>\n",
       "      <th>Runtime</th>\n",
       "      <th>Languages</th>\n",
       "      <th>Countries</th>\n",
       "      <th>Genres</th>\n",
       "    </tr>\n",
       "  </thead>\n",
       "  <tbody>\n",
       "    <tr>\n",
       "      <th>62836</th>\n",
       "      <td>29666067</td>\n",
       "      <td>/m/0fphzrf</td>\n",
       "      <td>Hunting Season</td>\n",
       "      <td>2010</td>\n",
       "      <td>12160978.0</td>\n",
       "      <td>140.0</td>\n",
       "      <td>[Turkish Language, English Language]</td>\n",
       "      <td>[Turkey]</td>\n",
       "      <td>[Crime Fiction, Mystery, Drama, Thriller]</td>\n",
       "    </tr>\n",
       "  </tbody>\n",
       "</table>\n",
       "</div>"
      ],
      "text/plain": [
       "       Wiki movie ID Free movie ID            Name  Release date  \\\n",
       "62836       29666067    /m/0fphzrf  Hunting Season          2010   \n",
       "\n",
       "       Box office revenue  Runtime                             Languages  \\\n",
       "62836          12160978.0    140.0  [Turkish Language, English Language]   \n",
       "\n",
       "      Countries                                     Genres  \n",
       "62836  [Turkey]  [Crime Fiction, Mystery, Drama, Thriller]  "
      ]
     },
     "execution_count": 16,
     "metadata": {},
     "output_type": "execute_result"
    }
   ],
   "source": [
    "df_movie[df_movie['Name'] == 'Hunting Season']"
   ]
  },
  {
   "cell_type": "code",
   "execution_count": 284,
   "metadata": {},
   "outputs": [
    {
     "data": {
      "image/png": "[encoded data removed]",
      "text/plain": [
       "<Figure size 640x480 with 1 Axes>"
      ]
     },
     "metadata": {},
     "output_type": "display_data"
    }
   ],
   "source": [
    "plt.hist(df_movie['Release date'], bins = 200)\n",
    "plt.xlabel('Year of movie release')\n",
    "plt.ylabel('Number of movies released by bin')\n",
    "plt.show()"
   ]
  },
  {
   "cell_type": "code",
   "execution_count": 69,
   "metadata": {},
   "outputs": [
    {
     "data": {
      "text/plain": [
       "(array([6.129e+04, 0.000e+00, 0.000e+00, 0.000e+00, 0.000e+00, 0.000e+00,\n",
       "        0.000e+00, 0.000e+00, 0.000e+00, 1.000e+00]),\n",
       " array([      0. ,  107928.1,  215856.2,  323784.3,  431712.4,  539640.5,\n",
       "         647568.6,  755496.7,  863424.8,  971352.9, 1079281. ]),\n",
       " <BarContainer object of 10 artists>)"
      ]
     },
     "execution_count": 69,
     "metadata": {},
     "output_type": "execute_result"
    },
    {
     "data": {
      "image/png": "[encoded data removed]",
      "text/plain": [
       "<Figure size 432x288 with 1 Axes>"
      ]
     },
     "metadata": {
      "needs_background": "light"
     },
     "output_type": "display_data"
    }
   ],
   "source": [
    "#Not important for us\n",
    "plt.hist(df_movie['Runtime'], bins = 10)\n",
    "plt.show()"
   ]
  },
  {
   "cell_type": "code",
   "execution_count": null,
   "metadata": {},
   "outputs": [],
   "source": [
    "plt.hist(df_movie['Languages'])\n",
    "plt.show()"
   ]
  },
  {
   "cell_type": "code",
   "execution_count": 17,
   "metadata": {},
   "outputs": [],
   "source": [
    "categ_df = df_movie.groupby(df_movie['Languages']).count"
   ]
  },
  {
   "cell_type": "code",
   "execution_count": 18,
   "metadata": {},
   "outputs": [
    {
     "data": {
      "text/plain": [
       "<bound method GroupBy.count of <pandas.core.groupby.generic.DataFrameGroupBy object at 0x00000266A66371C0>>"
      ]
     },
     "execution_count": 18,
     "metadata": {},
     "output_type": "execute_result"
    }
   ],
   "source": [
    "categ_df"
   ]
  },
  {
   "cell_type": "code",
   "execution_count": null,
   "metadata": {},
   "outputs": [],
   "source": [
    "boxplot\n",
    "describe"
   ]
  },
  {
   "cell_type": "code",
   "execution_count": 19,
   "metadata": {},
   "outputs": [
    {
     "data": {
      "text/html": [
       "<div>\n",
       "<style scoped>\n",
       "    .dataframe tbody tr th:only-of-type {\n",
       "        vertical-align: middle;\n",
       "    }\n",
       "\n",
       "    .dataframe tbody tr th {\n",
       "        vertical-align: top;\n",
       "    }\n",
       "\n",
       "    .dataframe thead th {\n",
       "        text-align: right;\n",
       "    }\n",
       "</style>\n",
       "<table border=\"1\" class=\"dataframe\">\n",
       "  <thead>\n",
       "    <tr style=\"text-align: right;\">\n",
       "      <th></th>\n",
       "      <th>Wiki movie ID</th>\n",
       "      <th>Free movie ID</th>\n",
       "      <th>Release date</th>\n",
       "      <th>Character name</th>\n",
       "      <th>Actor DOB</th>\n",
       "      <th>Gender</th>\n",
       "      <th>Height</th>\n",
       "      <th>Ethnicity</th>\n",
       "      <th>Actor name</th>\n",
       "      <th>Age at release</th>\n",
       "      <th>Charac/actor map</th>\n",
       "      <th>Free charac ID</th>\n",
       "      <th>Free actor ID</th>\n",
       "    </tr>\n",
       "  </thead>\n",
       "  <tbody>\n",
       "    <tr>\n",
       "      <th>0</th>\n",
       "      <td>975900</td>\n",
       "      <td>/m/03vyhn</td>\n",
       "      <td>2001-08-24</td>\n",
       "      <td>Akooshay</td>\n",
       "      <td>1958-08-26</td>\n",
       "      <td>F</td>\n",
       "      <td>1.620</td>\n",
       "      <td>NaN</td>\n",
       "      <td>Wanda De Jesus</td>\n",
       "      <td>42.0</td>\n",
       "      <td>/m/0bgchxw</td>\n",
       "      <td>/m/0bgcj3x</td>\n",
       "      <td>/m/03wcfv7</td>\n",
       "    </tr>\n",
       "    <tr>\n",
       "      <th>1</th>\n",
       "      <td>975900</td>\n",
       "      <td>/m/03vyhn</td>\n",
       "      <td>2001-08-24</td>\n",
       "      <td>Lieutenant Melanie Ballard</td>\n",
       "      <td>1974-08-15</td>\n",
       "      <td>F</td>\n",
       "      <td>1.780</td>\n",
       "      <td>/m/044038p</td>\n",
       "      <td>Natasha Henstridge</td>\n",
       "      <td>27.0</td>\n",
       "      <td>/m/0jys3m</td>\n",
       "      <td>/m/0bgchn4</td>\n",
       "      <td>/m/0346l4</td>\n",
       "    </tr>\n",
       "    <tr>\n",
       "      <th>2</th>\n",
       "      <td>975900</td>\n",
       "      <td>/m/03vyhn</td>\n",
       "      <td>2001-08-24</td>\n",
       "      <td>Desolation Williams</td>\n",
       "      <td>1969-06-15</td>\n",
       "      <td>M</td>\n",
       "      <td>1.727</td>\n",
       "      <td>/m/0x67</td>\n",
       "      <td>Ice Cube</td>\n",
       "      <td>32.0</td>\n",
       "      <td>/m/0jys3g</td>\n",
       "      <td>/m/0bgchn_</td>\n",
       "      <td>/m/01vw26l</td>\n",
       "    </tr>\n",
       "  </tbody>\n",
       "</table>\n",
       "</div>"
      ],
      "text/plain": [
       "   Wiki movie ID Free movie ID Release date              Character name  \\\n",
       "0         975900     /m/03vyhn   2001-08-24                    Akooshay   \n",
       "1         975900     /m/03vyhn   2001-08-24  Lieutenant Melanie Ballard   \n",
       "2         975900     /m/03vyhn   2001-08-24         Desolation Williams   \n",
       "\n",
       "    Actor DOB Gender  Height   Ethnicity          Actor name  Age at release  \\\n",
       "0  1958-08-26      F   1.620         NaN      Wanda De Jesus            42.0   \n",
       "1  1974-08-15      F   1.780  /m/044038p  Natasha Henstridge            27.0   \n",
       "2  1969-06-15      M   1.727     /m/0x67            Ice Cube            32.0   \n",
       "\n",
       "  Charac/actor map Free charac ID  Free actor ID  \n",
       "0       /m/0bgchxw      /m/0bgcj3x    /m/03wcfv7  \n",
       "1        /m/0jys3m      /m/0bgchn4     /m/0346l4  \n",
       "2        /m/0jys3g      /m/0bgchn_    /m/01vw26l  "
      ]
     },
     "execution_count": 19,
     "metadata": {},
     "output_type": "execute_result"
    }
   ],
   "source": [
    "#Characters data\n",
    "df_characters = pd.read_table(\"character.metadata.tsv\", header = None)\n",
    "df_characters.columns = ['Wiki movie ID', 'Free movie ID', 'Release date', 'Character name', 'Actor DOB', 'Gender', 'Height', 'Ethnicity', 'Actor name', 'Age at release', 'Charac/actor map', 'Free charac ID ', 'Free actor ID']\n",
    "df_characters.head(3)"
   ]
  },
  {
   "cell_type": "code",
   "execution_count": 20,
   "metadata": {},
   "outputs": [],
   "source": [
    "df_characters = df_characters[df_characters['Release date'].notna()]\n",
    "df_characters['Release date'] = df_characters['Release date'].apply(lambda x : datetime.strptime(str(x)[0:4],\"%Y\")) #keeping only the year\n",
    "df_characters['Release date'] = [date.year for date in df_characters['Release date']]  #Expliquer pourquoi on garde que l'année\n",
    "df_characters = df_characters.replace(1010, 2010)"
   ]
  },
  {
   "cell_type": "code",
   "execution_count": 21,
   "metadata": {},
   "outputs": [
    {
     "data": {
      "text/html": [
       "<div>\n",
       "<style scoped>\n",
       "    .dataframe tbody tr th:only-of-type {\n",
       "        vertical-align: middle;\n",
       "    }\n",
       "\n",
       "    .dataframe tbody tr th {\n",
       "        vertical-align: top;\n",
       "    }\n",
       "\n",
       "    .dataframe thead th {\n",
       "        text-align: right;\n",
       "    }\n",
       "</style>\n",
       "<table border=\"1\" class=\"dataframe\">\n",
       "  <thead>\n",
       "    <tr style=\"text-align: right;\">\n",
       "      <th></th>\n",
       "      <th>Wiki movie ID</th>\n",
       "      <th>Free movie ID</th>\n",
       "      <th>Release date</th>\n",
       "      <th>Character name</th>\n",
       "      <th>Actor DOB</th>\n",
       "      <th>Gender</th>\n",
       "      <th>Height</th>\n",
       "      <th>Ethnicity</th>\n",
       "      <th>Actor name</th>\n",
       "      <th>Age at release</th>\n",
       "      <th>Charac/actor map</th>\n",
       "      <th>Free charac ID</th>\n",
       "      <th>Free actor ID</th>\n",
       "    </tr>\n",
       "  </thead>\n",
       "  <tbody>\n",
       "    <tr>\n",
       "      <th>67624</th>\n",
       "      <td>29666067</td>\n",
       "      <td>/m/0fphzrf</td>\n",
       "      <td>2010</td>\n",
       "      <td>Kamuran</td>\n",
       "      <td>1983</td>\n",
       "      <td>M</td>\n",
       "      <td>NaN</td>\n",
       "      <td>NaN</td>\n",
       "      <td>Bartu Küçükçaglayan</td>\n",
       "      <td>NaN</td>\n",
       "      <td>/m/0n4fxh5</td>\n",
       "      <td>/m/0n4fxh8</td>\n",
       "      <td>/m/0df0qkt</td>\n",
       "    </tr>\n",
       "    <tr>\n",
       "      <th>67625</th>\n",
       "      <td>29666067</td>\n",
       "      <td>/m/0fphzrf</td>\n",
       "      <td>2010</td>\n",
       "      <td>Ferman</td>\n",
       "      <td>1941-12-26</td>\n",
       "      <td>M</td>\n",
       "      <td>NaN</td>\n",
       "      <td>NaN</td>\n",
       "      <td>Şener Şen</td>\n",
       "      <td>NaN</td>\n",
       "      <td>/m/0gb33kh</td>\n",
       "      <td>/m/0n4fgzm</td>\n",
       "      <td>/m/02z247j</td>\n",
       "    </tr>\n",
       "  </tbody>\n",
       "</table>\n",
       "</div>"
      ],
      "text/plain": [
       "       Wiki movie ID Free movie ID  Release date Character name   Actor DOB  \\\n",
       "67624       29666067    /m/0fphzrf          2010        Kamuran        1983   \n",
       "67625       29666067    /m/0fphzrf          2010         Ferman  1941-12-26   \n",
       "\n",
       "      Gender  Height Ethnicity           Actor name  Age at release  \\\n",
       "67624      M     NaN       NaN  Bartu Küçükçaglayan             NaN   \n",
       "67625      M     NaN       NaN            Şener Şen             NaN   \n",
       "\n",
       "      Charac/actor map Free charac ID  Free actor ID  \n",
       "67624       /m/0n4fxh5      /m/0n4fxh8    /m/0df0qkt  \n",
       "67625       /m/0gb33kh      /m/0n4fgzm    /m/02z247j  "
      ]
     },
     "execution_count": 21,
     "metadata": {},
     "output_type": "execute_result"
    }
   ],
   "source": [
    "df_characters[df_characters['Wiki movie ID'] == 29666067].head(2)"
   ]
  },
  {
   "cell_type": "code",
   "execution_count": 22,
   "metadata": {},
   "outputs": [
    {
     "data": {
      "text/html": [
       "<div>\n",
       "<style scoped>\n",
       "    .dataframe tbody tr th:only-of-type {\n",
       "        vertical-align: middle;\n",
       "    }\n",
       "\n",
       "    .dataframe tbody tr th {\n",
       "        vertical-align: top;\n",
       "    }\n",
       "\n",
       "    .dataframe thead th {\n",
       "        text-align: right;\n",
       "    }\n",
       "</style>\n",
       "<table border=\"1\" class=\"dataframe\">\n",
       "  <thead>\n",
       "    <tr style=\"text-align: right;\">\n",
       "      <th></th>\n",
       "      <th>Wiki movie ID</th>\n",
       "      <th>Free movie ID_x</th>\n",
       "      <th>Release date_x</th>\n",
       "      <th>Character name</th>\n",
       "      <th>Actor DOB</th>\n",
       "      <th>Gender</th>\n",
       "      <th>Height</th>\n",
       "      <th>Ethnicity</th>\n",
       "      <th>Actor name</th>\n",
       "      <th>Age at release</th>\n",
       "      <th>...</th>\n",
       "      <th>Free charac ID</th>\n",
       "      <th>Free actor ID</th>\n",
       "      <th>Free movie ID_y</th>\n",
       "      <th>Name</th>\n",
       "      <th>Release date_y</th>\n",
       "      <th>Box office revenue</th>\n",
       "      <th>Runtime</th>\n",
       "      <th>Languages</th>\n",
       "      <th>Countries</th>\n",
       "      <th>Genres</th>\n",
       "    </tr>\n",
       "  </thead>\n",
       "  <tbody>\n",
       "    <tr>\n",
       "      <th>0</th>\n",
       "      <td>975900</td>\n",
       "      <td>/m/03vyhn</td>\n",
       "      <td>2001</td>\n",
       "      <td>Akooshay</td>\n",
       "      <td>1958-08-26</td>\n",
       "      <td>F</td>\n",
       "      <td>1.620</td>\n",
       "      <td>NaN</td>\n",
       "      <td>Wanda De Jesus</td>\n",
       "      <td>42.0</td>\n",
       "      <td>...</td>\n",
       "      <td>/m/0bgcj3x</td>\n",
       "      <td>/m/03wcfv7</td>\n",
       "      <td>/m/03vyhn</td>\n",
       "      <td>Ghosts of Mars</td>\n",
       "      <td>2001</td>\n",
       "      <td>14010832.0</td>\n",
       "      <td>98.0</td>\n",
       "      <td>[English Language]</td>\n",
       "      <td>[United States of America]</td>\n",
       "      <td>[Thriller, Science Fiction, Horror, Adventure,...</td>\n",
       "    </tr>\n",
       "    <tr>\n",
       "      <th>1</th>\n",
       "      <td>975900</td>\n",
       "      <td>/m/03vyhn</td>\n",
       "      <td>2001</td>\n",
       "      <td>Lieutenant Melanie Ballard</td>\n",
       "      <td>1974-08-15</td>\n",
       "      <td>F</td>\n",
       "      <td>1.780</td>\n",
       "      <td>/m/044038p</td>\n",
       "      <td>Natasha Henstridge</td>\n",
       "      <td>27.0</td>\n",
       "      <td>...</td>\n",
       "      <td>/m/0bgchn4</td>\n",
       "      <td>/m/0346l4</td>\n",
       "      <td>/m/03vyhn</td>\n",
       "      <td>Ghosts of Mars</td>\n",
       "      <td>2001</td>\n",
       "      <td>14010832.0</td>\n",
       "      <td>98.0</td>\n",
       "      <td>[English Language]</td>\n",
       "      <td>[United States of America]</td>\n",
       "      <td>[Thriller, Science Fiction, Horror, Adventure,...</td>\n",
       "    </tr>\n",
       "    <tr>\n",
       "      <th>2</th>\n",
       "      <td>975900</td>\n",
       "      <td>/m/03vyhn</td>\n",
       "      <td>2001</td>\n",
       "      <td>Desolation Williams</td>\n",
       "      <td>1969-06-15</td>\n",
       "      <td>M</td>\n",
       "      <td>1.727</td>\n",
       "      <td>/m/0x67</td>\n",
       "      <td>Ice Cube</td>\n",
       "      <td>32.0</td>\n",
       "      <td>...</td>\n",
       "      <td>/m/0bgchn_</td>\n",
       "      <td>/m/01vw26l</td>\n",
       "      <td>/m/03vyhn</td>\n",
       "      <td>Ghosts of Mars</td>\n",
       "      <td>2001</td>\n",
       "      <td>14010832.0</td>\n",
       "      <td>98.0</td>\n",
       "      <td>[English Language]</td>\n",
       "      <td>[United States of America]</td>\n",
       "      <td>[Thriller, Science Fiction, Horror, Adventure,...</td>\n",
       "    </tr>\n",
       "    <tr>\n",
       "      <th>3</th>\n",
       "      <td>975900</td>\n",
       "      <td>/m/03vyhn</td>\n",
       "      <td>2001</td>\n",
       "      <td>Sgt Jericho Butler</td>\n",
       "      <td>1967-09-12</td>\n",
       "      <td>M</td>\n",
       "      <td>1.750</td>\n",
       "      <td>NaN</td>\n",
       "      <td>Jason Statham</td>\n",
       "      <td>33.0</td>\n",
       "      <td>...</td>\n",
       "      <td>/m/0bgchnq</td>\n",
       "      <td>/m/034hyc</td>\n",
       "      <td>/m/03vyhn</td>\n",
       "      <td>Ghosts of Mars</td>\n",
       "      <td>2001</td>\n",
       "      <td>14010832.0</td>\n",
       "      <td>98.0</td>\n",
       "      <td>[English Language]</td>\n",
       "      <td>[United States of America]</td>\n",
       "      <td>[Thriller, Science Fiction, Horror, Adventure,...</td>\n",
       "    </tr>\n",
       "    <tr>\n",
       "      <th>4</th>\n",
       "      <td>975900</td>\n",
       "      <td>/m/03vyhn</td>\n",
       "      <td>2001</td>\n",
       "      <td>Bashira Kincaid</td>\n",
       "      <td>1977-09-25</td>\n",
       "      <td>F</td>\n",
       "      <td>1.650</td>\n",
       "      <td>NaN</td>\n",
       "      <td>Clea DuVall</td>\n",
       "      <td>23.0</td>\n",
       "      <td>...</td>\n",
       "      <td>/m/0bgchp9</td>\n",
       "      <td>/m/01y9xg</td>\n",
       "      <td>/m/03vyhn</td>\n",
       "      <td>Ghosts of Mars</td>\n",
       "      <td>2001</td>\n",
       "      <td>14010832.0</td>\n",
       "      <td>98.0</td>\n",
       "      <td>[English Language]</td>\n",
       "      <td>[United States of America]</td>\n",
       "      <td>[Thriller, Science Fiction, Horror, Adventure,...</td>\n",
       "    </tr>\n",
       "  </tbody>\n",
       "</table>\n",
       "<p>5 rows × 21 columns</p>\n",
       "</div>"
      ],
      "text/plain": [
       "   Wiki movie ID Free movie ID_x  Release date_x              Character name  \\\n",
       "0         975900       /m/03vyhn            2001                    Akooshay   \n",
       "1         975900       /m/03vyhn            2001  Lieutenant Melanie Ballard   \n",
       "2         975900       /m/03vyhn            2001         Desolation Williams   \n",
       "3         975900       /m/03vyhn            2001          Sgt Jericho Butler   \n",
       "4         975900       /m/03vyhn            2001             Bashira Kincaid   \n",
       "\n",
       "    Actor DOB Gender  Height   Ethnicity          Actor name  Age at release  \\\n",
       "0  1958-08-26      F   1.620         NaN      Wanda De Jesus            42.0   \n",
       "1  1974-08-15      F   1.780  /m/044038p  Natasha Henstridge            27.0   \n",
       "2  1969-06-15      M   1.727     /m/0x67            Ice Cube            32.0   \n",
       "3  1967-09-12      M   1.750         NaN       Jason Statham            33.0   \n",
       "4  1977-09-25      F   1.650         NaN         Clea DuVall            23.0   \n",
       "\n",
       "   ... Free charac ID  Free actor ID Free movie ID_y            Name  \\\n",
       "0  ...      /m/0bgcj3x    /m/03wcfv7       /m/03vyhn  Ghosts of Mars   \n",
       "1  ...      /m/0bgchn4     /m/0346l4       /m/03vyhn  Ghosts of Mars   \n",
       "2  ...      /m/0bgchn_    /m/01vw26l       /m/03vyhn  Ghosts of Mars   \n",
       "3  ...      /m/0bgchnq     /m/034hyc       /m/03vyhn  Ghosts of Mars   \n",
       "4  ...      /m/0bgchp9     /m/01y9xg       /m/03vyhn  Ghosts of Mars   \n",
       "\n",
       "  Release date_y  Box office revenue  Runtime           Languages  \\\n",
       "0           2001          14010832.0     98.0  [English Language]   \n",
       "1           2001          14010832.0     98.0  [English Language]   \n",
       "2           2001          14010832.0     98.0  [English Language]   \n",
       "3           2001          14010832.0     98.0  [English Language]   \n",
       "4           2001          14010832.0     98.0  [English Language]   \n",
       "\n",
       "                    Countries  \\\n",
       "0  [United States of America]   \n",
       "1  [United States of America]   \n",
       "2  [United States of America]   \n",
       "3  [United States of America]   \n",
       "4  [United States of America]   \n",
       "\n",
       "                                              Genres  \n",
       "0  [Thriller, Science Fiction, Horror, Adventure,...  \n",
       "1  [Thriller, Science Fiction, Horror, Adventure,...  \n",
       "2  [Thriller, Science Fiction, Horror, Adventure,...  \n",
       "3  [Thriller, Science Fiction, Horror, Adventure,...  \n",
       "4  [Thriller, Science Fiction, Horror, Adventure,...  \n",
       "\n",
       "[5 rows x 21 columns]"
      ]
     },
     "execution_count": 22,
     "metadata": {},
     "output_type": "execute_result"
    }
   ],
   "source": [
    "merged_charac = pd.merge(left = df_characters, right = df_movie, on = 'Wiki movie ID', how = 'left')\n",
    "merged_charac.head(5)"
   ]
  },
  {
   "cell_type": "code",
   "execution_count": 23,
   "metadata": {},
   "outputs": [],
   "source": [
    "#Taking first genre mentionned as main genre, ignoring rows with no genre\n",
    "merged_charac['Main genre'] = merged_charac['Genres'].apply(lambda x :x[0] if (x != []) else None) "
   ]
  },
  {
   "cell_type": "code",
   "execution_count": 24,
   "metadata": {},
   "outputs": [],
   "source": [
    "df_characters_F = merged_charac[merged_charac['Gender'] == 'F']\n",
    "df_characters_M = merged_charac[merged_charac['Gender'] == 'M']"
   ]
  },
  {
   "cell_type": "code",
   "execution_count": 25,
   "metadata": {},
   "outputs": [
    {
     "data": {
      "text/html": [
       "<div>\n",
       "<style scoped>\n",
       "    .dataframe tbody tr th:only-of-type {\n",
       "        vertical-align: middle;\n",
       "    }\n",
       "\n",
       "    .dataframe tbody tr th {\n",
       "        vertical-align: top;\n",
       "    }\n",
       "\n",
       "    .dataframe thead th {\n",
       "        text-align: right;\n",
       "    }\n",
       "</style>\n",
       "<table border=\"1\" class=\"dataframe\">\n",
       "  <thead>\n",
       "    <tr style=\"text-align: right;\">\n",
       "      <th></th>\n",
       "      <th>Wiki movie ID</th>\n",
       "      <th>Free movie ID_x</th>\n",
       "      <th>Character name</th>\n",
       "      <th>Actor DOB</th>\n",
       "      <th>Gender</th>\n",
       "      <th>Height</th>\n",
       "      <th>Ethnicity</th>\n",
       "      <th>Actor name</th>\n",
       "      <th>Age at release</th>\n",
       "      <th>Charac/actor map</th>\n",
       "      <th>...</th>\n",
       "      <th>Free actor ID</th>\n",
       "      <th>Free movie ID_y</th>\n",
       "      <th>Name</th>\n",
       "      <th>Release date_y</th>\n",
       "      <th>Box office revenue</th>\n",
       "      <th>Runtime</th>\n",
       "      <th>Languages</th>\n",
       "      <th>Countries</th>\n",
       "      <th>Genres</th>\n",
       "      <th>Main genre</th>\n",
       "    </tr>\n",
       "    <tr>\n",
       "      <th>Release date_x</th>\n",
       "      <th></th>\n",
       "      <th></th>\n",
       "      <th></th>\n",
       "      <th></th>\n",
       "      <th></th>\n",
       "      <th></th>\n",
       "      <th></th>\n",
       "      <th></th>\n",
       "      <th></th>\n",
       "      <th></th>\n",
       "      <th></th>\n",
       "      <th></th>\n",
       "      <th></th>\n",
       "      <th></th>\n",
       "      <th></th>\n",
       "      <th></th>\n",
       "      <th></th>\n",
       "      <th></th>\n",
       "      <th></th>\n",
       "      <th></th>\n",
       "      <th></th>\n",
       "    </tr>\n",
       "  </thead>\n",
       "  <tbody>\n",
       "    <tr>\n",
       "      <th>1888</th>\n",
       "      <td>2</td>\n",
       "      <td>2</td>\n",
       "      <td>0</td>\n",
       "      <td>0</td>\n",
       "      <td>2</td>\n",
       "      <td>0</td>\n",
       "      <td>0</td>\n",
       "      <td>2</td>\n",
       "      <td>0</td>\n",
       "      <td>2</td>\n",
       "      <td>...</td>\n",
       "      <td>2</td>\n",
       "      <td>2</td>\n",
       "      <td>2</td>\n",
       "      <td>2</td>\n",
       "      <td>0</td>\n",
       "      <td>2</td>\n",
       "      <td>2</td>\n",
       "      <td>2</td>\n",
       "      <td>2</td>\n",
       "      <td>2</td>\n",
       "    </tr>\n",
       "    <tr>\n",
       "      <th>1891</th>\n",
       "      <td>1</td>\n",
       "      <td>1</td>\n",
       "      <td>0</td>\n",
       "      <td>1</td>\n",
       "      <td>1</td>\n",
       "      <td>0</td>\n",
       "      <td>1</td>\n",
       "      <td>1</td>\n",
       "      <td>0</td>\n",
       "      <td>1</td>\n",
       "      <td>...</td>\n",
       "      <td>1</td>\n",
       "      <td>1</td>\n",
       "      <td>1</td>\n",
       "      <td>1</td>\n",
       "      <td>0</td>\n",
       "      <td>1</td>\n",
       "      <td>1</td>\n",
       "      <td>1</td>\n",
       "      <td>1</td>\n",
       "      <td>1</td>\n",
       "    </tr>\n",
       "    <tr>\n",
       "      <th>1893</th>\n",
       "      <td>2</td>\n",
       "      <td>2</td>\n",
       "      <td>0</td>\n",
       "      <td>1</td>\n",
       "      <td>2</td>\n",
       "      <td>0</td>\n",
       "      <td>0</td>\n",
       "      <td>2</td>\n",
       "      <td>0</td>\n",
       "      <td>2</td>\n",
       "      <td>...</td>\n",
       "      <td>2</td>\n",
       "      <td>2</td>\n",
       "      <td>2</td>\n",
       "      <td>2</td>\n",
       "      <td>0</td>\n",
       "      <td>2</td>\n",
       "      <td>2</td>\n",
       "      <td>2</td>\n",
       "      <td>2</td>\n",
       "      <td>2</td>\n",
       "    </tr>\n",
       "  </tbody>\n",
       "</table>\n",
       "<p>3 rows × 21 columns</p>\n",
       "</div>"
      ],
      "text/plain": [
       "                Wiki movie ID  Free movie ID_x  Character name  Actor DOB  \\\n",
       "Release date_x                                                              \n",
       "1888                        2                2               0          0   \n",
       "1891                        1                1               0          1   \n",
       "1893                        2                2               0          1   \n",
       "\n",
       "                Gender  Height  Ethnicity  Actor name  Age at release  \\\n",
       "Release date_x                                                          \n",
       "1888                 2       0          0           2               0   \n",
       "1891                 1       0          1           1               0   \n",
       "1893                 2       0          0           2               0   \n",
       "\n",
       "                Charac/actor map  ...  Free actor ID  Free movie ID_y  Name  \\\n",
       "Release date_x                    ...                                         \n",
       "1888                           2  ...              2                2     2   \n",
       "1891                           1  ...              1                1     1   \n",
       "1893                           2  ...              2                2     2   \n",
       "\n",
       "                Release date_y  Box office revenue  Runtime  Languages  \\\n",
       "Release date_x                                                           \n",
       "1888                         2                   0        2          2   \n",
       "1891                         1                   0        1          1   \n",
       "1893                         2                   0        2          2   \n",
       "\n",
       "                Countries  Genres  Main genre  \n",
       "Release date_x                                 \n",
       "1888                    2       2           2  \n",
       "1891                    1       1           1  \n",
       "1893                    2       2           2  \n",
       "\n",
       "[3 rows x 21 columns]"
      ]
     },
     "execution_count": 25,
     "metadata": {},
     "output_type": "execute_result"
    }
   ],
   "source": [
    "Nb_charac_F = df_characters_F.groupby('Release date_x').count()\n",
    "Nb_charac_M = df_characters_M.groupby('Release date_x').count()\n",
    "Nb_charac_M.head(3)"
   ]
  },
  {
   "cell_type": "code",
   "execution_count": 26,
   "metadata": {},
   "outputs": [
    {
     "data": {
      "image/png": "[encoded data removed]",
      "text/plain": [
       "<Figure size 640x480 with 1 Axes>"
      ]
     },
     "metadata": {},
     "output_type": "display_data"
    }
   ],
   "source": [
    "plt.plot(Nb_charac_F['Wiki movie ID'], label = 'F')\n",
    "plt.plot(Nb_charac_M['Wiki movie ID'], label = 'M')\n",
    "plt.plot(Nb_charac_M['Wiki movie ID'] - Nb_charac_F['Wiki movie ID'], label = 'diff')\n",
    "plt.ylabel('Number of characters per movie released per year')\n",
    "plt.xlabel('Release year')\n",
    "plt.legend()\n",
    "plt.show()"
   ]
  },
  {
   "cell_type": "code",
   "execution_count": 27,
   "metadata": {},
   "outputs": [
    {
     "data": {
      "text/plain": [
       "'Thriller'"
      ]
     },
     "execution_count": 27,
     "metadata": {},
     "output_type": "execute_result"
    }
   ],
   "source": [
    "genre_ex = merged_charac['Genres'][0]\n",
    "genre_ex[0]"
   ]
  },
  {
   "cell_type": "code",
   "execution_count": 28,
   "metadata": {},
   "outputs": [],
   "source": [
    "empty_genre = merged_charac[merged_charac['Wiki movie ID'] == 32456683]"
   ]
  },
  {
   "cell_type": "code",
   "execution_count": 29,
   "metadata": {},
   "outputs": [
    {
     "data": {
      "text/html": [
       "<div>\n",
       "<style scoped>\n",
       "    .dataframe tbody tr th:only-of-type {\n",
       "        vertical-align: middle;\n",
       "    }\n",
       "\n",
       "    .dataframe tbody tr th {\n",
       "        vertical-align: top;\n",
       "    }\n",
       "\n",
       "    .dataframe thead th {\n",
       "        text-align: right;\n",
       "    }\n",
       "</style>\n",
       "<table border=\"1\" class=\"dataframe\">\n",
       "  <thead>\n",
       "    <tr style=\"text-align: right;\">\n",
       "      <th></th>\n",
       "      <th>Wiki movie ID</th>\n",
       "      <th>Free movie ID_x</th>\n",
       "      <th>Release date_x</th>\n",
       "      <th>Character name</th>\n",
       "      <th>Actor DOB</th>\n",
       "      <th>Gender</th>\n",
       "      <th>Height</th>\n",
       "      <th>Ethnicity</th>\n",
       "      <th>Actor name</th>\n",
       "      <th>Age at release</th>\n",
       "      <th>...</th>\n",
       "      <th>Free charac ID</th>\n",
       "      <th>Free actor ID</th>\n",
       "      <th>Free movie ID_y</th>\n",
       "      <th>Name</th>\n",
       "      <th>Release date_y</th>\n",
       "      <th>Box office revenue</th>\n",
       "      <th>Runtime</th>\n",
       "      <th>Languages</th>\n",
       "      <th>Countries</th>\n",
       "      <th>Genres</th>\n",
       "    </tr>\n",
       "    <tr>\n",
       "      <th>Main genre</th>\n",
       "      <th></th>\n",
       "      <th></th>\n",
       "      <th></th>\n",
       "      <th></th>\n",
       "      <th></th>\n",
       "      <th></th>\n",
       "      <th></th>\n",
       "      <th></th>\n",
       "      <th></th>\n",
       "      <th></th>\n",
       "      <th></th>\n",
       "      <th></th>\n",
       "      <th></th>\n",
       "      <th></th>\n",
       "      <th></th>\n",
       "      <th></th>\n",
       "      <th></th>\n",
       "      <th></th>\n",
       "      <th></th>\n",
       "      <th></th>\n",
       "      <th></th>\n",
       "    </tr>\n",
       "  </thead>\n",
       "  <tbody>\n",
       "    <tr>\n",
       "      <th>Drama</th>\n",
       "      <td>18122</td>\n",
       "      <td>18122</td>\n",
       "      <td>18122</td>\n",
       "      <td>8772</td>\n",
       "      <td>14360</td>\n",
       "      <td>18122</td>\n",
       "      <td>5630</td>\n",
       "      <td>4070</td>\n",
       "      <td>18122</td>\n",
       "      <td>13048</td>\n",
       "      <td>...</td>\n",
       "      <td>8772</td>\n",
       "      <td>18122</td>\n",
       "      <td>18122</td>\n",
       "      <td>18122</td>\n",
       "      <td>18122</td>\n",
       "      <td>2085</td>\n",
       "      <td>15405</td>\n",
       "      <td>18122</td>\n",
       "      <td>18122</td>\n",
       "      <td>18122</td>\n",
       "    </tr>\n",
       "    <tr>\n",
       "      <th>Thriller</th>\n",
       "      <td>17385</td>\n",
       "      <td>17385</td>\n",
       "      <td>17385</td>\n",
       "      <td>10198</td>\n",
       "      <td>14566</td>\n",
       "      <td>17385</td>\n",
       "      <td>8630</td>\n",
       "      <td>4796</td>\n",
       "      <td>17385</td>\n",
       "      <td>13811</td>\n",
       "      <td>...</td>\n",
       "      <td>10198</td>\n",
       "      <td>17385</td>\n",
       "      <td>17385</td>\n",
       "      <td>17385</td>\n",
       "      <td>17385</td>\n",
       "      <td>5830</td>\n",
       "      <td>16459</td>\n",
       "      <td>17385</td>\n",
       "      <td>17385</td>\n",
       "      <td>17385</td>\n",
       "    </tr>\n",
       "    <tr>\n",
       "      <th>Romantic comedy</th>\n",
       "      <td>9286</td>\n",
       "      <td>9286</td>\n",
       "      <td>9286</td>\n",
       "      <td>5355</td>\n",
       "      <td>8234</td>\n",
       "      <td>9286</td>\n",
       "      <td>5422</td>\n",
       "      <td>3053</td>\n",
       "      <td>9286</td>\n",
       "      <td>7776</td>\n",
       "      <td>...</td>\n",
       "      <td>5355</td>\n",
       "      <td>9286</td>\n",
       "      <td>9286</td>\n",
       "      <td>9286</td>\n",
       "      <td>9286</td>\n",
       "      <td>4243</td>\n",
       "      <td>9134</td>\n",
       "      <td>9286</td>\n",
       "      <td>9286</td>\n",
       "      <td>9286</td>\n",
       "    </tr>\n",
       "  </tbody>\n",
       "</table>\n",
       "<p>3 rows × 21 columns</p>\n",
       "</div>"
      ],
      "text/plain": [
       "                 Wiki movie ID  Free movie ID_x  Release date_x  \\\n",
       "Main genre                                                        \n",
       "Drama                    18122            18122           18122   \n",
       "Thriller                 17385            17385           17385   \n",
       "Romantic comedy           9286             9286            9286   \n",
       "\n",
       "                 Character name  Actor DOB  Gender  Height  Ethnicity  \\\n",
       "Main genre                                                              \n",
       "Drama                      8772      14360   18122    5630       4070   \n",
       "Thriller                  10198      14566   17385    8630       4796   \n",
       "Romantic comedy            5355       8234    9286    5422       3053   \n",
       "\n",
       "                 Actor name  Age at release  ...  Free charac ID   \\\n",
       "Main genre                                   ...                    \n",
       "Drama                 18122           13048  ...             8772   \n",
       "Thriller              17385           13811  ...            10198   \n",
       "Romantic comedy        9286            7776  ...             5355   \n",
       "\n",
       "                 Free actor ID  Free movie ID_y   Name  Release date_y  \\\n",
       "Main genre                                                               \n",
       "Drama                    18122            18122  18122           18122   \n",
       "Thriller                 17385            17385  17385           17385   \n",
       "Romantic comedy           9286             9286   9286            9286   \n",
       "\n",
       "                 Box office revenue  Runtime  Languages  Countries  Genres  \n",
       "Main genre                                                                  \n",
       "Drama                          2085    15405      18122      18122   18122  \n",
       "Thriller                       5830    16459      17385      17385   17385  \n",
       "Romantic comedy                4243     9134       9286       9286    9286  \n",
       "\n",
       "[3 rows x 21 columns]"
      ]
     },
     "execution_count": 29,
     "metadata": {},
     "output_type": "execute_result"
    }
   ],
   "source": [
    "F_genre = df_characters_F.groupby('Main genre').count()\n",
    "M_genre = df_characters_M.groupby('Main genre').count()\n",
    "\n",
    "F_genre = F_genre.sort_values('Wiki movie ID', axis = 0, ascending = False)\n",
    "M_genre = M_genre.sort_values('Wiki movie ID', axis = 0, ascending = False)\n",
    "\n",
    "F_genre.head(3)"
   ]
  },
  {
   "cell_type": "code",
   "execution_count": 30,
   "metadata": {},
   "outputs": [
    {
     "data": {
      "image/png": "[encoded data removed]",
      "text/plain": [
       "<Figure size 1800x800 with 2 Axes>"
      ]
     },
     "metadata": {},
     "output_type": "display_data"
    }
   ],
   "source": [
    "fig, ax = plt.subplots(2,1, figsize = (18,8), sharey = True)   #share x ??\n",
    "\n",
    "ax[0].bar(M_genre.index[0:10], M_genre['Wiki movie ID'][0:10], label = 'Male characters', color = 'turquoise')\n",
    "ax[0].legend()\n",
    "ax[1].bar(F_genre.index[0:10], F_genre['Wiki movie ID'][0:10], label = 'Female characters', color = 'orange')\n",
    "ax[1].legend()\n",
    "plt.show()"
   ]
  },
  {
   "cell_type": "code",
   "execution_count": 40,
   "metadata": {},
   "outputs": [
    {
     "data": {
      "text/html": [
       "<iframe\n",
       "    scrolling=\"no\"\n",
       "    width=\"1020px\"\n",
       "    height=\"820\"\n",
       "    src=\"iframe_figures/figure_40.html\"\n",
       "    frameborder=\"0\"\n",
       "    allowfullscreen\n",
       "></iframe>\n"
      ]
     },
     "metadata": {},
     "output_type": "display_data"
    }
   ],
   "source": [
    "import plotly\n",
    "import plotly.tools as tls\n",
    "\n",
    "plotly_fig = tls.mpl_to_plotly(fig)\n",
    "#plotly.offline.plot(plotly_fig, filename=\"plotly version of an mpl figure.html\")\n",
    "plotly_fig.update_layout(\n",
    "    autosize=False,\n",
    "    width=1000,\n",
    "    height=800,)\n",
    "#plotly_fig.update_xaxes(type='category')\n",
    "plotly_fig.update_xaxes(categoryorder='array', categoryarray= ['d','a','c','b'])\n",
    "plotly_fig.show(renderer='iframe')\n"
   ]
  },
  {
   "cell_type": "code",
   "execution_count": 85,
   "metadata": {},
   "outputs": [
    {
     "data": {
      "text/html": [
       "<iframe\n",
       "    scrolling=\"no\"\n",
       "    width=\"920px\"\n",
       "    height=\"720\"\n",
       "    src=\"iframe_figures/figure_85.html\"\n",
       "    frameborder=\"0\"\n",
       "    allowfullscreen\n",
       "></iframe>\n"
      ]
     },
     "metadata": {},
     "output_type": "display_data"
    }
   ],
   "source": [
    "from plotly.subplots import make_subplots\n",
    "import plotly.graph_objects as go\n",
    "\n",
    "fig = make_subplots(rows=2, cols=1, shared_yaxes = 'all', vertical_spacing=0.15)\n",
    "\n",
    "fig.add_bar(x=M_genre.index[0:10], y=M_genre['Wiki movie ID'][0:10],\n",
    "    row=1, col=1,\n",
    "    name = 'Male', marker_color = 'turquoise',\n",
    "    legendgroup = '1'\n",
    ")\n",
    "\n",
    "fig.add_bar(x=F_genre.index[0:10], y=F_genre['Wiki movie ID'][0:10],\n",
    "    row=2, col=1,\n",
    "    name = 'Female', marker_color = 'orange',\n",
    "    legendgroup = '2'\n",
    ")\n",
    "\n",
    "fig.update_layout(height=700, width=900, plot_bgcolor=\"whitesmoke\", title=dict(\n",
    "    text=\"Comparison between top 10 genres of male vs female characters\", \n",
    "    y=0.93))\n",
    "\n",
    "fig.update_layout(yaxis1 = dict(tickformat = 000))\n",
    "fig.update_layout(yaxis2 = dict(tickformat = 000))\n",
    "\n",
    "fig.show(renderer='iframe')\n",
    "fig.write_html(\"top10genres_barplot.html\")"
   ]
  },
  {
   "cell_type": "markdown",
   "metadata": {},
   "source": [
    "Ce serait intéressant de voir l'évolution de drama, thriller and crime fiction dans le temps"
   ]
  },
  {
   "cell_type": "code",
   "execution_count": 276,
   "metadata": {},
   "outputs": [
    {
     "data": {
      "image/png": "[encoded data removed]",
      "text/plain": [
       "<Figure size 640x480 with 1 Axes>"
      ]
     },
     "metadata": {},
     "output_type": "display_data"
    }
   ],
   "source": [
    "M_drama = df_characters_M[df_characters_M['Main genre'] == 'Drama']\n",
    "M_drama_year = M_drama.groupby('Release date_x').count()\n",
    "plt.bar(M_drama_year.index, M_drama_year['Wiki movie ID'], label = 'M')\n",
    "\n",
    "F_drama = df_characters_F[df_characters_F['Main genre'] == 'Drama']\n",
    "F_drama_year = F_drama.groupby('Release date_x').count()\n",
    "plt.bar(F_drama_year.index, F_drama_year['Wiki movie ID'], label = 'F')\n",
    "\n",
    "plt.bar(F_drama_year.index, M_drama_year['Wiki movie ID'] - F_drama_year['Wiki movie ID'], label = 'diff')\n",
    "plt.title('Drama')\n",
    "plt.legend()\n",
    "plt.show()"
   ]
  },
  {
   "cell_type": "markdown",
   "metadata": {},
   "source": [
    "La différence en vert permet de voir que l'augmentation des hommes est plus grandes que celles des femmes\n",
    "\n",
    "**NORMALISER PAR RAPPORT AUX NOMBRES DE FILMS**"
   ]
  },
  {
   "cell_type": "code",
   "execution_count": 277,
   "metadata": {},
   "outputs": [
    {
     "data": {
      "image/png": "[encoded data removed]",
      "text/plain": [
       "<Figure size 640x480 with 1 Axes>"
      ]
     },
     "metadata": {},
     "output_type": "display_data"
    }
   ],
   "source": [
    "M_thriller = df_characters_M[df_characters_M['Main genre'] == 'Thriller']\n",
    "M_thriller_year = M_drama.groupby('Release date_x').count()\n",
    "plt.bar(M_thriller_year. index, M_thriller_year['Wiki movie ID'], label = 'M')\n",
    "\n",
    "F_thriller = df_characters_F[df_characters_F['Main genre'] == 'Thriller']\n",
    "F_thriller_year = F_thriller.groupby('Release date_x').count()\n",
    "plt.bar(F_thriller_year. index, F_thriller_year['Wiki movie ID'], label = 'F')\n",
    "\n",
    "#plt.bar(F_thriller_year.index, M_thriller_year['Wiki movie ID'] - F_thriller_year['Wiki movie ID'], label = 'diff')\n",
    "\n",
    "plt.title('Thriller')\n",
    "plt.legend()\n",
    "plt.show()"
   ]
  },
  {
   "cell_type": "markdown",
   "metadata": {},
   "source": [
    "On voit que l'augmentation des femmes est plus grande que celle des hommes."
   ]
  },
  {
   "cell_type": "code",
   "execution_count": 280,
   "metadata": {},
   "outputs": [
    {
     "data": {
      "image/png": "[encoded data removed]",
      "text/plain": [
       "<Figure size 640x480 with 1 Axes>"
      ]
     },
     "metadata": {},
     "output_type": "display_data"
    }
   ],
   "source": [
    "M_CF = df_characters_M[df_characters_M['Main genre'] == 'Crime Fiction']\n",
    "M_CF_year = M_CF.groupby('Release date_x').count()\n",
    "plt.bar(M_CF_year.index, M_CF_year['Wiki movie ID'], label = 'M')\n",
    "\n",
    "F_CF = df_characters_F[df_characters_F['Main genre'] == 'Crime Fiction']\n",
    "F_CF_year = F_CF.groupby('Release date_x').count()\n",
    "plt.bar(F_CF_year.index, F_CF_year['Wiki movie ID'], label = 'F')\n",
    "\n",
    "#plt.bar(F_CF_year.index, M_CF_year['Wiki movie ID'] - F_CF_year['Wiki movie ID'], label = 'diff')\n",
    "\n",
    "plt.title('Crime Fiction')\n",
    "plt.legend()\n",
    "plt.show()"
   ]
  },
  {
   "cell_type": "markdown",
   "metadata": {},
   "source": [
    "On voit que l'augmentation des hommes est bien plus grande chez les hommes que les femmes."
   ]
  },
  {
   "cell_type": "markdown",
   "metadata": {},
   "source": [
    "Est-ce qu'il existe une mesure pour mesurer l'augmentation ?"
   ]
  },
  {
   "cell_type": "code",
   "execution_count": 287,
   "metadata": {},
   "outputs": [
    {
     "data": {
      "text/html": [
       "<div>\n",
       "<style scoped>\n",
       "    .dataframe tbody tr th:only-of-type {\n",
       "        vertical-align: middle;\n",
       "    }\n",
       "\n",
       "    .dataframe tbody tr th {\n",
       "        vertical-align: top;\n",
       "    }\n",
       "\n",
       "    .dataframe thead th {\n",
       "        text-align: right;\n",
       "    }\n",
       "</style>\n",
       "<table border=\"1\" class=\"dataframe\">\n",
       "  <thead>\n",
       "    <tr style=\"text-align: right;\">\n",
       "      <th></th>\n",
       "      <th>Wiki movie ID</th>\n",
       "      <th>Free movie ID_x</th>\n",
       "      <th>Release date_x</th>\n",
       "      <th>Character name</th>\n",
       "      <th>Actor DOB</th>\n",
       "      <th>Gender</th>\n",
       "      <th>Height</th>\n",
       "      <th>Ethnicity</th>\n",
       "      <th>Actor name</th>\n",
       "      <th>Age at release</th>\n",
       "      <th>...</th>\n",
       "      <th>Free actor ID</th>\n",
       "      <th>Free movie ID_y</th>\n",
       "      <th>Name</th>\n",
       "      <th>Release date_y</th>\n",
       "      <th>Box office revenue</th>\n",
       "      <th>Runtime</th>\n",
       "      <th>Languages</th>\n",
       "      <th>Countries</th>\n",
       "      <th>Genres</th>\n",
       "      <th>Main genre</th>\n",
       "    </tr>\n",
       "  </thead>\n",
       "  <tbody>\n",
       "    <tr>\n",
       "      <th>70</th>\n",
       "      <td>18296435</td>\n",
       "      <td>/m/04cqrs4</td>\n",
       "      <td>1986</td>\n",
       "      <td>NaN</td>\n",
       "      <td>1954-06-21</td>\n",
       "      <td>F</td>\n",
       "      <td>NaN</td>\n",
       "      <td>NaN</td>\n",
       "      <td>Müjde Ar</td>\n",
       "      <td>31.0</td>\n",
       "      <td>...</td>\n",
       "      <td>/m/04fd3kh</td>\n",
       "      <td>/m/04cqrs4</td>\n",
       "      <td>Aaah Belinda</td>\n",
       "      <td>1986</td>\n",
       "      <td>NaN</td>\n",
       "      <td>NaN</td>\n",
       "      <td>[Turkish Language]</td>\n",
       "      <td>[Turkey]</td>\n",
       "      <td>[Comedy]</td>\n",
       "      <td>Comedy</td>\n",
       "    </tr>\n",
       "    <tr>\n",
       "      <th>99</th>\n",
       "      <td>22087420</td>\n",
       "      <td>/m/05pckh0</td>\n",
       "      <td>1959</td>\n",
       "      <td>NaN</td>\n",
       "      <td>1903-08-24</td>\n",
       "      <td>M</td>\n",
       "      <td>NaN</td>\n",
       "      <td>NaN</td>\n",
       "      <td>Peppino De Filippo</td>\n",
       "      <td>56.0</td>\n",
       "      <td>...</td>\n",
       "      <td>/m/08392m</td>\n",
       "      <td>/m/05pckh0</td>\n",
       "      <td>Ferdinando I, re di Napoli</td>\n",
       "      <td>1959</td>\n",
       "      <td>NaN</td>\n",
       "      <td>105.0</td>\n",
       "      <td>[Italian Language]</td>\n",
       "      <td>[France, Italy]</td>\n",
       "      <td>[Comedy, Black-and-white]</td>\n",
       "      <td>Comedy</td>\n",
       "    </tr>\n",
       "    <tr>\n",
       "      <th>981</th>\n",
       "      <td>11013589</td>\n",
       "      <td>/m/02qy2q7</td>\n",
       "      <td>1981</td>\n",
       "      <td>NaN</td>\n",
       "      <td>1940-11-05</td>\n",
       "      <td>F</td>\n",
       "      <td>1.70</td>\n",
       "      <td>NaN</td>\n",
       "      <td>Elke Sommer</td>\n",
       "      <td>40.0</td>\n",
       "      <td>...</td>\n",
       "      <td>/m/030bvb</td>\n",
       "      <td>/m/02qy2q7</td>\n",
       "      <td>Der Mann im Pyjama</td>\n",
       "      <td>1981</td>\n",
       "      <td>NaN</td>\n",
       "      <td>95.0</td>\n",
       "      <td>[German Language]</td>\n",
       "      <td>[West Germany]</td>\n",
       "      <td>[Comedy]</td>\n",
       "      <td>Comedy</td>\n",
       "    </tr>\n",
       "    <tr>\n",
       "      <th>982</th>\n",
       "      <td>11013589</td>\n",
       "      <td>/m/02qy2q7</td>\n",
       "      <td>1981</td>\n",
       "      <td>NaN</td>\n",
       "      <td>1941-06-30</td>\n",
       "      <td>M</td>\n",
       "      <td>NaN</td>\n",
       "      <td>NaN</td>\n",
       "      <td>Otto Sander</td>\n",
       "      <td>39.0</td>\n",
       "      <td>...</td>\n",
       "      <td>/m/07np3f</td>\n",
       "      <td>/m/02qy2q7</td>\n",
       "      <td>Der Mann im Pyjama</td>\n",
       "      <td>1981</td>\n",
       "      <td>NaN</td>\n",
       "      <td>95.0</td>\n",
       "      <td>[German Language]</td>\n",
       "      <td>[West Germany]</td>\n",
       "      <td>[Comedy]</td>\n",
       "      <td>Comedy</td>\n",
       "    </tr>\n",
       "    <tr>\n",
       "      <th>1237</th>\n",
       "      <td>6081561</td>\n",
       "      <td>/m/0fp5lk</td>\n",
       "      <td>1979</td>\n",
       "      <td>NaN</td>\n",
       "      <td>1922-10-27</td>\n",
       "      <td>M</td>\n",
       "      <td>NaN</td>\n",
       "      <td>NaN</td>\n",
       "      <td>Michel Galabru</td>\n",
       "      <td>56.0</td>\n",
       "      <td>...</td>\n",
       "      <td>/m/0ff1qp</td>\n",
       "      <td>/m/0fp5lk</td>\n",
       "      <td>Le gendarme et les extra-terrestres</td>\n",
       "      <td>1979</td>\n",
       "      <td>NaN</td>\n",
       "      <td>90.0</td>\n",
       "      <td>[French Language]</td>\n",
       "      <td>[France]</td>\n",
       "      <td>[Comedy]</td>\n",
       "      <td>Comedy</td>\n",
       "    </tr>\n",
       "    <tr>\n",
       "      <th>...</th>\n",
       "      <td>...</td>\n",
       "      <td>...</td>\n",
       "      <td>...</td>\n",
       "      <td>...</td>\n",
       "      <td>...</td>\n",
       "      <td>...</td>\n",
       "      <td>...</td>\n",
       "      <td>...</td>\n",
       "      <td>...</td>\n",
       "      <td>...</td>\n",
       "      <td>...</td>\n",
       "      <td>...</td>\n",
       "      <td>...</td>\n",
       "      <td>...</td>\n",
       "      <td>...</td>\n",
       "      <td>...</td>\n",
       "      <td>...</td>\n",
       "      <td>...</td>\n",
       "      <td>...</td>\n",
       "      <td>...</td>\n",
       "      <td>...</td>\n",
       "    </tr>\n",
       "    <tr>\n",
       "      <th>439470</th>\n",
       "      <td>7146019</td>\n",
       "      <td>/m/0h6npj</td>\n",
       "      <td>1986</td>\n",
       "      <td>Sharon Ferris</td>\n",
       "      <td>1946-04-18</td>\n",
       "      <td>F</td>\n",
       "      <td>1.63</td>\n",
       "      <td>NaN</td>\n",
       "      <td>Hayley Mills</td>\n",
       "      <td>40.0</td>\n",
       "      <td>...</td>\n",
       "      <td>/m/03d9wk</td>\n",
       "      <td>/m/0h6npj</td>\n",
       "      <td>The Parent Trap II</td>\n",
       "      <td>1986</td>\n",
       "      <td>NaN</td>\n",
       "      <td>210.0</td>\n",
       "      <td>[English Language]</td>\n",
       "      <td>[United States of America]</td>\n",
       "      <td>[Comedy]</td>\n",
       "      <td>Comedy</td>\n",
       "    </tr>\n",
       "    <tr>\n",
       "      <th>439869</th>\n",
       "      <td>19078678</td>\n",
       "      <td>/m/04jj_8_</td>\n",
       "      <td>2007</td>\n",
       "      <td>NaN</td>\n",
       "      <td>1950-10-18</td>\n",
       "      <td>M</td>\n",
       "      <td>1.78</td>\n",
       "      <td>NaN</td>\n",
       "      <td>Om Puri</td>\n",
       "      <td>57.0</td>\n",
       "      <td>...</td>\n",
       "      <td>/m/044ptm</td>\n",
       "      <td>/m/04jj_8_</td>\n",
       "      <td>Dumkata</td>\n",
       "      <td>2007</td>\n",
       "      <td>NaN</td>\n",
       "      <td>94.0</td>\n",
       "      <td>[Hindi Language]</td>\n",
       "      <td>[India]</td>\n",
       "      <td>[Comedy]</td>\n",
       "      <td>Comedy</td>\n",
       "    </tr>\n",
       "    <tr>\n",
       "      <th>439870</th>\n",
       "      <td>19078678</td>\n",
       "      <td>/m/04jj_8_</td>\n",
       "      <td>2007</td>\n",
       "      <td>Shree Ranade</td>\n",
       "      <td>NaN</td>\n",
       "      <td>M</td>\n",
       "      <td>NaN</td>\n",
       "      <td>NaN</td>\n",
       "      <td>Sachin Khedekar</td>\n",
       "      <td>NaN</td>\n",
       "      <td>...</td>\n",
       "      <td>/m/0573tj8</td>\n",
       "      <td>/m/04jj_8_</td>\n",
       "      <td>Dumkata</td>\n",
       "      <td>2007</td>\n",
       "      <td>NaN</td>\n",
       "      <td>94.0</td>\n",
       "      <td>[Hindi Language]</td>\n",
       "      <td>[India]</td>\n",
       "      <td>[Comedy]</td>\n",
       "      <td>Comedy</td>\n",
       "    </tr>\n",
       "    <tr>\n",
       "      <th>439871</th>\n",
       "      <td>19078678</td>\n",
       "      <td>/m/04jj_8_</td>\n",
       "      <td>2007</td>\n",
       "      <td>Ananya's Mother</td>\n",
       "      <td>1979-02-01</td>\n",
       "      <td>F</td>\n",
       "      <td>NaN</td>\n",
       "      <td>NaN</td>\n",
       "      <td>Vibhawari Deshpande</td>\n",
       "      <td>28.0</td>\n",
       "      <td>...</td>\n",
       "      <td>/m/0d28mq9</td>\n",
       "      <td>/m/04jj_8_</td>\n",
       "      <td>Dumkata</td>\n",
       "      <td>2007</td>\n",
       "      <td>NaN</td>\n",
       "      <td>94.0</td>\n",
       "      <td>[Hindi Language]</td>\n",
       "      <td>[India]</td>\n",
       "      <td>[Comedy]</td>\n",
       "      <td>Comedy</td>\n",
       "    </tr>\n",
       "    <tr>\n",
       "      <th>440424</th>\n",
       "      <td>21480420</td>\n",
       "      <td>/m/05h3f21</td>\n",
       "      <td>1958</td>\n",
       "      <td>NaN</td>\n",
       "      <td>1930-10-23</td>\n",
       "      <td>M</td>\n",
       "      <td>NaN</td>\n",
       "      <td>NaN</td>\n",
       "      <td>Gérard Blain</td>\n",
       "      <td>27.0</td>\n",
       "      <td>...</td>\n",
       "      <td>/m/05zrd9q</td>\n",
       "      <td>/m/05h3f21</td>\n",
       "      <td>Young Husbands</td>\n",
       "      <td>1958</td>\n",
       "      <td>NaN</td>\n",
       "      <td>98.0</td>\n",
       "      <td>[Italian Language]</td>\n",
       "      <td>[Italy]</td>\n",
       "      <td>[Comedy, Black-and-white]</td>\n",
       "      <td>Comedy</td>\n",
       "    </tr>\n",
       "  </tbody>\n",
       "</table>\n",
       "<p>13938 rows × 22 columns</p>\n",
       "</div>"
      ],
      "text/plain": [
       "        Wiki movie ID Free movie ID_x  Release date_x   Character name  \\\n",
       "70           18296435      /m/04cqrs4            1986              NaN   \n",
       "99           22087420      /m/05pckh0            1959              NaN   \n",
       "981          11013589      /m/02qy2q7            1981              NaN   \n",
       "982          11013589      /m/02qy2q7            1981              NaN   \n",
       "1237          6081561       /m/0fp5lk            1979              NaN   \n",
       "...               ...             ...             ...              ...   \n",
       "439470        7146019       /m/0h6npj            1986    Sharon Ferris   \n",
       "439869       19078678      /m/04jj_8_            2007              NaN   \n",
       "439870       19078678      /m/04jj_8_            2007     Shree Ranade   \n",
       "439871       19078678      /m/04jj_8_            2007  Ananya's Mother   \n",
       "440424       21480420      /m/05h3f21            1958              NaN   \n",
       "\n",
       "         Actor DOB Gender  Height Ethnicity           Actor name  \\\n",
       "70      1954-06-21      F     NaN       NaN             Müjde Ar   \n",
       "99      1903-08-24      M     NaN       NaN   Peppino De Filippo   \n",
       "981     1940-11-05      F    1.70       NaN          Elke Sommer   \n",
       "982     1941-06-30      M     NaN       NaN          Otto Sander   \n",
       "1237    1922-10-27      M     NaN       NaN       Michel Galabru   \n",
       "...            ...    ...     ...       ...                  ...   \n",
       "439470  1946-04-18      F    1.63       NaN         Hayley Mills   \n",
       "439869  1950-10-18      M    1.78       NaN              Om Puri   \n",
       "439870         NaN      M     NaN       NaN      Sachin Khedekar   \n",
       "439871  1979-02-01      F     NaN       NaN  Vibhawari Deshpande   \n",
       "440424  1930-10-23      M     NaN       NaN         Gérard Blain   \n",
       "\n",
       "        Age at release  ... Free actor ID Free movie ID_y  \\\n",
       "70                31.0  ...    /m/04fd3kh      /m/04cqrs4   \n",
       "99                56.0  ...     /m/08392m      /m/05pckh0   \n",
       "981               40.0  ...     /m/030bvb      /m/02qy2q7   \n",
       "982               39.0  ...     /m/07np3f      /m/02qy2q7   \n",
       "1237              56.0  ...     /m/0ff1qp       /m/0fp5lk   \n",
       "...                ...  ...           ...             ...   \n",
       "439470            40.0  ...     /m/03d9wk       /m/0h6npj   \n",
       "439869            57.0  ...     /m/044ptm      /m/04jj_8_   \n",
       "439870             NaN  ...    /m/0573tj8      /m/04jj_8_   \n",
       "439871            28.0  ...    /m/0d28mq9      /m/04jj_8_   \n",
       "440424            27.0  ...    /m/05zrd9q      /m/05h3f21   \n",
       "\n",
       "                                       Name Release date_y Box office revenue  \\\n",
       "70                             Aaah Belinda           1986                NaN   \n",
       "99               Ferdinando I, re di Napoli           1959                NaN   \n",
       "981                      Der Mann im Pyjama           1981                NaN   \n",
       "982                      Der Mann im Pyjama           1981                NaN   \n",
       "1237    Le gendarme et les extra-terrestres           1979                NaN   \n",
       "...                                     ...            ...                ...   \n",
       "439470                   The Parent Trap II           1986                NaN   \n",
       "439869                              Dumkata           2007                NaN   \n",
       "439870                              Dumkata           2007                NaN   \n",
       "439871                              Dumkata           2007                NaN   \n",
       "440424                       Young Husbands           1958                NaN   \n",
       "\n",
       "        Runtime           Languages                   Countries  \\\n",
       "70          NaN  [Turkish Language]                    [Turkey]   \n",
       "99        105.0  [Italian Language]             [France, Italy]   \n",
       "981        95.0   [German Language]              [West Germany]   \n",
       "982        95.0   [German Language]              [West Germany]   \n",
       "1237       90.0   [French Language]                    [France]   \n",
       "...         ...                 ...                         ...   \n",
       "439470    210.0  [English Language]  [United States of America]   \n",
       "439869     94.0    [Hindi Language]                     [India]   \n",
       "439870     94.0    [Hindi Language]                     [India]   \n",
       "439871     94.0    [Hindi Language]                     [India]   \n",
       "440424     98.0  [Italian Language]                     [Italy]   \n",
       "\n",
       "                           Genres Main genre  \n",
       "70                       [Comedy]     Comedy  \n",
       "99      [Comedy, Black-and-white]     Comedy  \n",
       "981                      [Comedy]     Comedy  \n",
       "982                      [Comedy]     Comedy  \n",
       "1237                     [Comedy]     Comedy  \n",
       "...                           ...        ...  \n",
       "439470                   [Comedy]     Comedy  \n",
       "439869                   [Comedy]     Comedy  \n",
       "439870                   [Comedy]     Comedy  \n",
       "439871                   [Comedy]     Comedy  \n",
       "440424  [Comedy, Black-and-white]     Comedy  \n",
       "\n",
       "[13938 rows x 22 columns]"
      ]
     },
     "execution_count": 287,
     "metadata": {},
     "output_type": "execute_result"
    }
   ],
   "source": [
    "merged_charac[merged_charac['Main genre'] == 'Comedy']"
   ]
  },
  {
   "cell_type": "code",
   "execution_count": 289,
   "metadata": {},
   "outputs": [
    {
     "data": {
      "text/html": [
       "<div>\n",
       "<style scoped>\n",
       "    .dataframe tbody tr th:only-of-type {\n",
       "        vertical-align: middle;\n",
       "    }\n",
       "\n",
       "    .dataframe tbody tr th {\n",
       "        vertical-align: top;\n",
       "    }\n",
       "\n",
       "    .dataframe thead th {\n",
       "        text-align: right;\n",
       "    }\n",
       "</style>\n",
       "<table border=\"1\" class=\"dataframe\">\n",
       "  <thead>\n",
       "    <tr style=\"text-align: right;\">\n",
       "      <th></th>\n",
       "      <th>Wiki movie ID</th>\n",
       "      <th>Free movie ID</th>\n",
       "      <th>Name</th>\n",
       "      <th>Release date</th>\n",
       "      <th>Box office revenue</th>\n",
       "      <th>Runtime</th>\n",
       "      <th>Languages</th>\n",
       "      <th>Countries</th>\n",
       "      <th>Genres</th>\n",
       "    </tr>\n",
       "  </thead>\n",
       "  <tbody>\n",
       "    <tr>\n",
       "      <th>79921</th>\n",
       "      <td>19078678</td>\n",
       "      <td>/m/04jj_8_</td>\n",
       "      <td>Dumkata</td>\n",
       "      <td>2007</td>\n",
       "      <td>NaN</td>\n",
       "      <td>94.0</td>\n",
       "      <td>[Hindi Language]</td>\n",
       "      <td>[India]</td>\n",
       "      <td>[Comedy]</td>\n",
       "    </tr>\n",
       "  </tbody>\n",
       "</table>\n",
       "</div>"
      ],
      "text/plain": [
       "       Wiki movie ID Free movie ID     Name  Release date  Box office revenue  \\\n",
       "79921       19078678    /m/04jj_8_  Dumkata          2007                 NaN   \n",
       "\n",
       "       Runtime         Languages Countries    Genres  \n",
       "79921     94.0  [Hindi Language]   [India]  [Comedy]  "
      ]
     },
     "execution_count": 289,
     "metadata": {},
     "output_type": "execute_result"
    }
   ],
   "source": [
    "df_movie[df_movie['Wiki movie ID'] == 19078678]"
   ]
  },
  {
   "cell_type": "code",
   "execution_count": null,
   "metadata": {},
   "outputs": [],
   "source": [
    "The Parent Trap II"
   ]
  },
  {
   "cell_type": "markdown",
   "metadata": {},
   "source": [
    "## **Activeness score**"
   ]
  },
  {
   "cell_type": "code",
   "execution_count": 3,
   "metadata": {},
   "outputs": [
    {
     "data": {
      "text/html": [
       "<div>\n",
       "<style scoped>\n",
       "    .dataframe tbody tr th:only-of-type {\n",
       "        vertical-align: middle;\n",
       "    }\n",
       "\n",
       "    .dataframe tbody tr th {\n",
       "        vertical-align: top;\n",
       "    }\n",
       "\n",
       "    .dataframe thead th {\n",
       "        text-align: right;\n",
       "    }\n",
       "</style>\n",
       "<table border=\"1\" class=\"dataframe\">\n",
       "  <thead>\n",
       "    <tr style=\"text-align: right;\">\n",
       "      <th></th>\n",
       "      <th>verb</th>\n",
       "      <th>activ_meaning</th>\n",
       "    </tr>\n",
       "  </thead>\n",
       "  <tbody>\n",
       "    <tr>\n",
       "      <th>0</th>\n",
       "      <td>talk</td>\n",
       "      <td>1</td>\n",
       "    </tr>\n",
       "    <tr>\n",
       "      <th>1</th>\n",
       "      <td>be</td>\n",
       "      <td>0</td>\n",
       "    </tr>\n",
       "    <tr>\n",
       "      <th>2</th>\n",
       "      <td>walk</td>\n",
       "      <td>1</td>\n",
       "    </tr>\n",
       "    <tr>\n",
       "      <th>3</th>\n",
       "      <td>run</td>\n",
       "      <td>1</td>\n",
       "    </tr>\n",
       "    <tr>\n",
       "      <th>4</th>\n",
       "      <td>look</td>\n",
       "      <td>0</td>\n",
       "    </tr>\n",
       "    <tr>\n",
       "      <th>5</th>\n",
       "      <td>seem</td>\n",
       "      <td>0</td>\n",
       "    </tr>\n",
       "    <tr>\n",
       "      <th>6</th>\n",
       "      <td>attack</td>\n",
       "      <td>1</td>\n",
       "    </tr>\n",
       "    <tr>\n",
       "      <th>7</th>\n",
       "      <td>sleep</td>\n",
       "      <td>0</td>\n",
       "    </tr>\n",
       "    <tr>\n",
       "      <th>8</th>\n",
       "      <td>sit</td>\n",
       "      <td>1</td>\n",
       "    </tr>\n",
       "    <tr>\n",
       "      <th>9</th>\n",
       "      <td>eat</td>\n",
       "      <td>1</td>\n",
       "    </tr>\n",
       "  </tbody>\n",
       "</table>\n",
       "</div>"
      ],
      "text/plain": [
       "     verb  activ_meaning\n",
       "0    talk              1\n",
       "1      be              0\n",
       "2    walk              1\n",
       "3     run              1\n",
       "4    look              0\n",
       "5    seem              0\n",
       "6  attack              1\n",
       "7   sleep              0\n",
       "8     sit              1\n",
       "9     eat              1"
      ]
     },
     "execution_count": 3,
     "metadata": {},
     "output_type": "execute_result"
    }
   ],
   "source": [
    "#Example of verb list with label: 1 for active verb and 0 for descriptive verb\n",
    "df_verbs = pd.read_excel(\"list_verb.xlsx\")\n",
    "df_verbs"
   ]
  },
  {
   "cell_type": "code",
   "execution_count": 3,
   "metadata": {},
   "outputs": [
    {
     "data": {
      "text/html": [
       "<div>\n",
       "<style scoped>\n",
       "    .dataframe tbody tr th:only-of-type {\n",
       "        vertical-align: middle;\n",
       "    }\n",
       "\n",
       "    .dataframe tbody tr th {\n",
       "        vertical-align: top;\n",
       "    }\n",
       "\n",
       "    .dataframe thead th {\n",
       "        text-align: right;\n",
       "    }\n",
       "</style>\n",
       "<table border=\"1\" class=\"dataframe\">\n",
       "  <thead>\n",
       "    <tr style=\"text-align: right;\">\n",
       "      <th></th>\n",
       "      <th>verb</th>\n",
       "      <th>activ_meaning</th>\n",
       "    </tr>\n",
       "  </thead>\n",
       "  <tbody>\n",
       "    <tr>\n",
       "      <th>0</th>\n",
       "      <td>attack</td>\n",
       "      <td>1</td>\n",
       "    </tr>\n",
       "    <tr>\n",
       "      <th>1</th>\n",
       "      <td>run</td>\n",
       "      <td>1</td>\n",
       "    </tr>\n",
       "    <tr>\n",
       "      <th>2</th>\n",
       "      <td>look</td>\n",
       "      <td>0</td>\n",
       "    </tr>\n",
       "  </tbody>\n",
       "</table>\n",
       "</div>"
      ],
      "text/plain": [
       "     verb  activ_meaning\n",
       "0  attack              1\n",
       "1     run              1\n",
       "2    look              0"
      ]
     },
     "execution_count": 3,
     "metadata": {},
     "output_type": "execute_result"
    }
   ],
   "source": [
    "#Example of verbs associated to movie character\n",
    "list_verb_charac = pd.Series(['attack', 'run', 'look'], name = 'verb')\n",
    "#Merging with list of all verbs to get activ_meaning value for each verb, left join -> only keep the verbs present with the character\n",
    "merged_verb = pd.merge(list_verb_charac, df_verbs, how = 'left')\n",
    "merged_verb"
   ]
  },
  {
   "cell_type": "code",
   "execution_count": 4,
   "metadata": {},
   "outputs": [],
   "source": [
    "def activeness_score (list_verb_charac):\n",
    "    #calcul sur 3 composantes:\n",
    "    # - somme verbes actifs au sens du verbe / tot nbr verbes associés au perso\n",
    "    # - somme verbe actifs au sens grammaire / tot nbr verbes associés au perso\n",
    "    # - score adjectif: comment quantifier ça ? sentiment analysis ? How\n",
    "    # score = moyenne des 3 valeurs\n",
    "    \n",
    "    \n",
    "    #Active meaning part\n",
    "    #If necessary, depending on format given to function, coordinate with NLP process\n",
    "    list_verb_charac = pd.Series(list_verb_charac, name = 'verb')\n",
    "    \n",
    "    #Merging with list of all verbs to get activ_meaning value for each verb, left join -> only keep the verbs present with the character\n",
    "    merged_verb = pd.merge(list_verb_charac, df_verbs, how = 'left')\n",
    "    #Calculating mean of active verbs in terms of meaning compared to number of verbs associated to character\n",
    "    score_activ_meaning = merged_verb['activ_meaning'].mean()\n",
    "    \n",
    "    \n",
    "    #Active grammar part\n",
    "    #What will be given ??\n",
    "    score_activ_grammar = 0\n",
    "    \n",
    "    \n",
    "    #Adjective part\n",
    "    #Sentiment analysis ??\n",
    "    score_adjective = 0\n",
    "    \n",
    "    score = score_activ_meaning\n",
    "    \n",
    "    #Give weights or more importance to some scores ??\n",
    "    #score = (score_activ_meaning + score_activ_grammar + score_adjective)/3    \n",
    "    return score"
   ]
  },
  {
   "cell_type": "code",
   "execution_count": 5,
   "metadata": {},
   "outputs": [
    {
     "data": {
      "text/plain": [
       "0.6666666666666666"
      ]
     },
     "execution_count": 5,
     "metadata": {},
     "output_type": "execute_result"
    }
   ],
   "source": [
    "list_verb_charac = ['attack', 'run', 'look']\n",
    "activeness_score(list_verb_charac)"
   ]
  },
  {
   "cell_type": "code",
   "execution_count": 89,
   "metadata": {},
   "outputs": [
    {
     "data": {
      "text/html": [
       "<div>\n",
       "<style scoped>\n",
       "    .dataframe tbody tr th:only-of-type {\n",
       "        vertical-align: middle;\n",
       "    }\n",
       "\n",
       "    .dataframe tbody tr th {\n",
       "        vertical-align: top;\n",
       "    }\n",
       "\n",
       "    .dataframe thead th {\n",
       "        text-align: right;\n",
       "    }\n",
       "</style>\n",
       "<table border=\"1\" class=\"dataframe\">\n",
       "  <thead>\n",
       "    <tr style=\"text-align: right;\">\n",
       "      <th></th>\n",
       "      <th>movie_ID</th>\n",
       "      <th>character_name</th>\n",
       "      <th>activ_verbs</th>\n",
       "      <th>passive_verbs</th>\n",
       "      <th>description</th>\n",
       "    </tr>\n",
       "  </thead>\n",
       "  <tbody>\n",
       "    <tr>\n",
       "      <th>0</th>\n",
       "      <td>92984</td>\n",
       "      <td>Mia</td>\n",
       "      <td>[attack, run, look]</td>\n",
       "      <td>[take, attack]</td>\n",
       "      <td>[beautiful, brave, young]</td>\n",
       "    </tr>\n",
       "  </tbody>\n",
       "</table>\n",
       "</div>"
      ],
      "text/plain": [
       "   movie_ID character_name          activ_verbs   passive_verbs  \\\n",
       "0     92984            Mia  [attack, run, look]  [take, attack]   \n",
       "\n",
       "                 description  \n",
       "0  [beautiful, brave, young]  "
      ]
     },
     "execution_count": 89,
     "metadata": {},
     "output_type": "execute_result"
    }
   ],
   "source": [
    "list_act_charac = ['attack', 'run', 'look']\n",
    "list_pass_charac = ['take', 'attack']\n",
    "list_adj = ['beautiful', 'brave', 'young']\n",
    "ID_movie = 92984\n",
    "charac_name = 'Mia'\n",
    "\n",
    "df_Mia = pd.DataFrame([[ID_movie, charac_name, list_act_charac, list_pass_charac, list_adj]], columns = ['movie_ID', 'character_name', 'activ_verbs', 'passive_verbs', 'description'])\n",
    "df_Mia"
   ]
  },
  {
   "cell_type": "code",
   "execution_count": 4,
   "metadata": {},
   "outputs": [],
   "source": [
    "df_description_verbs = df_verbs[df_verbs['activ_meaning'] == 0]\n",
    "df_description_verbs = df_description_verbs.verb\n",
    "df_description_verbs = list(df_description_verbs)"
   ]
  },
  {
   "cell_type": "code",
   "execution_count": 91,
   "metadata": {},
   "outputs": [
    {
     "data": {
      "text/plain": [
       "False"
      ]
     },
     "execution_count": 91,
     "metadata": {},
     "output_type": "execute_result"
    }
   ],
   "source": [
    "any(df_Mia.activ_verbs) in df_description_verbs"
   ]
  },
  {
   "cell_type": "code",
   "execution_count": 92,
   "metadata": {},
   "outputs": [
    {
     "data": {
      "text/plain": [
       "False"
      ]
     },
     "execution_count": 92,
     "metadata": {},
     "output_type": "execute_result"
    }
   ],
   "source": [
    "#any(df_Mia.iloc[0].activ_verbs) in df_description_verbs\n",
    "df_Mia.iloc[0].activ_verbs in df_description_verbs"
   ]
  },
  {
   "cell_type": "code",
   "execution_count": 93,
   "metadata": {},
   "outputs": [
    {
     "data": {
      "text/plain": [
       "'look'"
      ]
     },
     "execution_count": 93,
     "metadata": {},
     "output_type": "execute_result"
    }
   ],
   "source": [
    "df_Mia.iloc[0].activ_verbs[2]"
   ]
  },
  {
   "cell_type": "code",
   "execution_count": 94,
   "metadata": {},
   "outputs": [
    {
     "data": {
      "text/plain": [
       "'look'"
      ]
     },
     "execution_count": 94,
     "metadata": {},
     "output_type": "execute_result"
    }
   ],
   "source": [
    "df_Mia.iloc[0].activ_verbs[2]"
   ]
  },
  {
   "cell_type": "code",
   "execution_count": 95,
   "metadata": {},
   "outputs": [
    {
     "data": {
      "text/plain": [
       "True"
      ]
     },
     "execution_count": 95,
     "metadata": {},
     "output_type": "execute_result"
    }
   ],
   "source": [
    "any(item in df_description_verbs for item in df_Mia.iloc[0].activ_verbs)"
   ]
  },
  {
   "cell_type": "code",
   "execution_count": 96,
   "metadata": {},
   "outputs": [
    {
     "data": {
      "text/plain": [
       "True"
      ]
     },
     "execution_count": 96,
     "metadata": {},
     "output_type": "execute_result"
    }
   ],
   "source": [
    "df_Mia.iloc[0].activ_verbs[2] in df_description_verbs"
   ]
  },
  {
   "cell_type": "code",
   "execution_count": 97,
   "metadata": {},
   "outputs": [],
   "source": [
    "for i in range(len(df_Mia.iloc[0].activ_verbs)):\n",
    "    verb = df_Mia.iloc[0].activ_verbs[i]\n",
    "    if verb in df_description_verbs:\n",
    "        df_Mia.iloc[0].passive_verbs.append(verb)\n",
    "        df_Mia.iloc[0].activ_verbs.remove(verb)"
   ]
  },
  {
   "cell_type": "code",
   "execution_count": 98,
   "metadata": {},
   "outputs": [
    {
     "data": {
      "text/plain": [
       "'attack'"
      ]
     },
     "execution_count": 98,
     "metadata": {},
     "output_type": "execute_result"
    }
   ],
   "source": [
    "df_Mia.iloc[0].passive_verbs[1]"
   ]
  },
  {
   "cell_type": "code",
   "execution_count": 99,
   "metadata": {},
   "outputs": [
    {
     "data": {
      "text/html": [
       "<div>\n",
       "<style scoped>\n",
       "    .dataframe tbody tr th:only-of-type {\n",
       "        vertical-align: middle;\n",
       "    }\n",
       "\n",
       "    .dataframe tbody tr th {\n",
       "        vertical-align: top;\n",
       "    }\n",
       "\n",
       "    .dataframe thead th {\n",
       "        text-align: right;\n",
       "    }\n",
       "</style>\n",
       "<table border=\"1\" class=\"dataframe\">\n",
       "  <thead>\n",
       "    <tr style=\"text-align: right;\">\n",
       "      <th></th>\n",
       "      <th>movie_ID</th>\n",
       "      <th>character_name</th>\n",
       "      <th>activ_verbs</th>\n",
       "      <th>passive_verbs</th>\n",
       "      <th>description</th>\n",
       "    </tr>\n",
       "  </thead>\n",
       "  <tbody>\n",
       "    <tr>\n",
       "      <th>0</th>\n",
       "      <td>92984</td>\n",
       "      <td>Mia</td>\n",
       "      <td>[attack, run]</td>\n",
       "      <td>[take, attack, look]</td>\n",
       "      <td>[beautiful, brave, young]</td>\n",
       "    </tr>\n",
       "  </tbody>\n",
       "</table>\n",
       "</div>"
      ],
      "text/plain": [
       "   movie_ID character_name    activ_verbs         passive_verbs  \\\n",
       "0     92984            Mia  [attack, run]  [take, attack, look]   \n",
       "\n",
       "                 description  \n",
       "0  [beautiful, brave, young]  "
      ]
     },
     "execution_count": 99,
     "metadata": {},
     "output_type": "execute_result"
    }
   ],
   "source": [
    "df_Mia"
   ]
  },
  {
   "cell_type": "code",
   "execution_count": null,
   "metadata": {},
   "outputs": [],
   "source": [
    "df_Mia.iloc[0].apply(lambda verb in )"
   ]
  },
  {
   "cell_type": "code",
   "execution_count": 106,
   "metadata": {},
   "outputs": [],
   "source": [
    "def activeness_score (df_charac_NLP):  #df_charac_NLP has the same shape as df_Mia, only one row\n",
    "    \n",
    "    for i in range(len(df_charac_NLP.activ_verbs)):\n",
    "        verb = df_charac_NLP.activ_verbs[i]\n",
    "        if verb in df_description_verbs:\n",
    "            df_charac_NLP.passive_verbs.append(verb)\n",
    "            df_charac_NLP.activ_verbs.remove(verb)\n",
    "        \n",
    "    score_verb_act = len(df_charac_NLP.activ_verbs) / (len(df_charac_NLP.activ_verbs) + len(df_charac_NLP.passive_verbs))\n",
    "    \n",
    "    #add score for adjective, need labeling\n",
    "    return score_verb_act"
   ]
  },
  {
   "cell_type": "code",
   "execution_count": 105,
   "metadata": {},
   "outputs": [
    {
     "data": {
      "text/plain": [
       "0.4"
      ]
     },
     "execution_count": 105,
     "metadata": {},
     "output_type": "execute_result"
    }
   ],
   "source": [
    "activeness_score(df_Mia.iloc[0])"
   ]
  },
  {
   "cell_type": "code",
   "execution_count": 6,
   "metadata": {},
   "outputs": [],
   "source": [
    "df_description_verbs.append('appear')"
   ]
  },
  {
   "cell_type": "code",
   "execution_count": 8,
   "metadata": {},
   "outputs": [
    {
     "data": {
      "text/plain": [
       "['be', 'look', 'seem', 'sleep', 'appear']"
      ]
     },
     "execution_count": 8,
     "metadata": {},
     "output_type": "execute_result"
    }
   ],
   "source": [
    "df_description_verbs"
   ]
  },
  {
   "cell_type": "code",
   "execution_count": 9,
   "metadata": {},
   "outputs": [],
   "source": [
    "df_description_verbs = ['be', 'look', 'seem', 'sleep', 'appear']"
   ]
  },
  {
   "cell_type": "code",
   "execution_count": null,
   "metadata": {},
   "outputs": [],
   "source": []
  }
 ],
 "metadata": {
  "kernelspec": {
   "display_name": "Python 3 (ipykernel)",
   "language": "python",
   "name": "python3"
  },
  "language_info": {
   "codemirror_mode": {
    "name": "ipython",
    "version": 3
   },
   "file_extension": ".py",
   "mimetype": "text/x-python",
   "name": "python",
   "nbconvert_exporter": "python",
   "pygments_lexer": "ipython3",
   "version": "3.9.13"
  }
 },
 "nbformat": 4,
 "nbformat_minor": 4
}
